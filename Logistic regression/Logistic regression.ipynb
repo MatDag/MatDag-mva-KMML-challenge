{
 "cells": [
  {
   "cell_type": "markdown",
   "metadata": {},
   "source": [
    "# Kernel logistic regression\n",
    "\n",
    "In this notebook, we will use the formalization of logistic regression which assumes that y is 0,1 (which is the case for the challenge)."
   ]
  },
  {
   "cell_type": "code",
   "execution_count": 1,
   "metadata": {},
   "outputs": [],
   "source": [
    "import sys\n",
    "sys.path.append('D:/Documents/University/MVA/Kernel Methods/mva-KMML-challenge/KernelFlows')\n",
    "sys.path.append('D:/Documents/University/MVA/Kernel Methods/mva-KMML-challenge/General')\n",
    "\n",
    "\n",
    "import cvxpy as cp\n",
    "\n",
    "import numpy as np\n",
    "\n",
    "from matrix_operations import norm_matrix\n",
    "import kernel_functions as kfunc\n",
    "import matplotlib.pyplot as plt"
   ]
  },
  {
   "cell_type": "code",
   "execution_count": 2,
   "metadata": {},
   "outputs": [],
   "source": [
    "# This is for opposite sign loss, ignoe in this case\n",
    "def logistic_loss(weights,Y, K, reg = 1e-5):\n",
    "    pred = K@weights\n",
    "    n = pred.shape[0]\n",
    "    norm = weights.T@(K@weights)\n",
    "    return 1/n*np.sum(np.log(1+np.exp(-Y*pred)), axis = 0) + reg*norm\n",
    "    \n",
    "    "
   ]
  },
  {
   "cell_type": "code",
   "execution_count": 3,
   "metadata": {},
   "outputs": [],
   "source": [
    "def logistic_loss(weights, Y, K, reg = 1e-5):\n",
    "    norm =     norm = weights.T@(K@weights)\n",
    "    n = weights.shape[0]"
   ]
  },
  {
   "cell_type": "code",
   "execution_count": 4,
   "metadata": {},
   "outputs": [],
   "source": [
    "n = 10\n",
    "X = np.random.random((n, 10))\n",
    "Y = np.random.binomial(1, 0.5, size = n)"
   ]
  },
  {
   "cell_type": "code",
   "execution_count": 5,
   "metadata": {},
   "outputs": [
    {
     "data": {
      "text/plain": [
       "array([0, 1, 1, 1, 1, 1, 0, 0, 1, 1])"
      ]
     },
     "execution_count": 5,
     "metadata": {},
     "output_type": "execute_result"
    }
   ],
   "source": [
    "Y"
   ]
  },
  {
   "cell_type": "code",
   "execution_count": 6,
   "metadata": {},
   "outputs": [],
   "source": [
    "mu = np.array([1.0])\n",
    "K = kfunc.kernel_RBF(X, X ,mu)"
   ]
  },
  {
   "cell_type": "code",
   "execution_count": 18,
   "metadata": {},
   "outputs": [],
   "source": [
    "weights = np.random.random(10)"
   ]
  },
  {
   "cell_type": "code",
   "execution_count": 19,
   "metadata": {},
   "outputs": [
    {
     "data": {
      "text/plain": [
       "Expression(CONSTANT, UNKNOWN, ())"
      ]
     },
     "execution_count": 19,
     "metadata": {},
     "output_type": "execute_result"
    }
   ],
   "source": [
    "logistic_loss(weights, Y, K)"
   ]
  },
  {
   "cell_type": "code",
   "execution_count": 20,
   "metadata": {},
   "outputs": [
    {
     "data": {
      "text/plain": [
       "Expression(CONSTANT, UNKNOWN, ())"
      ]
     },
     "execution_count": 20,
     "metadata": {},
     "output_type": "execute_result"
    }
   ],
   "source": [
    "logistic_loss(weights, Y, K, reg )"
   ]
  },
  {
   "cell_type": "code",
   "execution_count": 70,
   "metadata": {},
   "outputs": [],
   "source": [
    "def logistic_loss(weights, Y, K, reg = 1e-5):\n",
    "    norm = cp.quad_form(weights, K)\n",
    "    norm = 0\n",
    "    n = weights.shape[0]\n",
    "    f_x = K@weights \n",
    "    \n",
    "    return norm + cp.sum(cp.logistic(f_x) - cp.multiply(f_x, Y), axis = 0)/n\n",
    "    "
   ]
  },
  {
   "cell_type": "code",
   "execution_count": 71,
   "metadata": {},
   "outputs": [],
   "source": [
    "weights = cp.Variable(n)\n",
    "reg = cp.Parameter()\n",
    "K = cp.Parameter((n,n))\n",
    "K = kfunc.kernel_RBF(X, X ,mu)\n",
    "problem = cp.Problem(cp.Minimize(logistic_loss(weights, Y, K, reg)))"
   ]
  },
  {
   "cell_type": "code",
   "execution_count": 72,
   "metadata": {},
   "outputs": [
    {
     "data": {
      "text/plain": [
       "2.6415129875216777e-08"
      ]
     },
     "execution_count": 72,
     "metadata": {},
     "output_type": "execute_result"
    }
   ],
   "source": [
    "K = kfunc.kernel_RBF(X, X ,mu)\n",
    "reg.value = 1e-5\n",
    "problem.solve()"
   ]
  },
  {
   "cell_type": "code",
   "execution_count": 73,
   "metadata": {},
   "outputs": [
    {
     "data": {
      "text/plain": [
       "array([ 22.63547686, -47.47791101,  22.6308437 ,  21.95710219,\n",
       "        26.81951739, -61.03608078,  15.45996493,  35.35430806,\n",
       "        21.30163491,   6.23124791])"
      ]
     },
     "execution_count": 73,
     "metadata": {},
     "output_type": "execute_result"
    }
   ],
   "source": [
    "weights.value"
   ]
  },
  {
   "cell_type": "code",
   "execution_count": 62,
   "metadata": {},
   "outputs": [],
   "source": [
    "problem = cp.Problem(cp.Minimize(weights.T@(K@weights) + cp.sum(cp.logistic(K@weights) - cp.multiply(K@weights , Y), axis = 0) ))"
   ]
  },
  {
   "cell_type": "code",
   "execution_count": 135,
   "metadata": {},
   "outputs": [
    {
     "name": "stdout",
     "output_type": "stream",
     "text": [
      "\n",
      "The optimal value is 86.89141585569918\n",
      "A solution x is\n",
      "[-1.68244521  0.29769913 -2.38772183 -2.79986015  1.18270433 -0.20911897\n",
      " -4.50993526  3.76683701 -0.45770675 -3.78589638]\n",
      "A dual solution corresponding to the inequality constraints is\n",
      "[ 0.          0.          0.          0.          0.         10.45538054\n",
      "  0.          0.          0.         39.67365045  0.          0.\n",
      "  0.         20.79927156  6.54115873]\n"
     ]
    }
   ],
   "source": [
    "# Generate a random non-trivial quadratic program.\n",
    "m = 15\n",
    "n = 10\n",
    "p = 5\n",
    "np.random.seed(1)\n",
    "P = np.random.randn(n, n)\n",
    "P = P.T @ P\n",
    "q = np.random.randn(n)\n",
    "G = np.random.randn(m, n)\n",
    "h = G @ np.random.randn(n)\n",
    "A = np.random.randn(p, n)\n",
    "b = np.random.randn(p)\n",
    "\n",
    "# Define and solve the CVXPY problem.\n",
    "x = cp.Variable(n)\n",
    "prob = cp.Problem(cp.Minimize((1/2)*cp.quad_form(x, P) + q.T @ x),\n",
    "                 [G @ x <= h,\n",
    "                  A @ x == b])\n",
    "prob.solve()\n",
    "\n",
    "# Print result.\n",
    "print(\"\\nThe optimal value is\", prob.value)\n",
    "print(\"A solution x is\")\n",
    "print(x.value)\n",
    "print(\"A dual solution corresponding to the inequality constraints is\")\n",
    "print(prob.constraints[0].dual_value)"
   ]
  },
  {
   "cell_type": "code",
   "execution_count": 139,
   "metadata": {},
   "outputs": [],
   "source": [
    "def logistic_loss(weights, Y, K, reg = 1e-5):\n",
    "    norm = weights.T@(K@weights)\n",
    "    n = weights.shape[0]\n",
    "    f_x = K@weights \n",
    "    \n",
    "    return norm + np.sum(np.log(1 + np.exp(f_x)) - np.multiply(f_x, Y), axis = 0)"
   ]
  },
  {
   "cell_type": "code",
   "execution_count": 142,
   "metadata": {},
   "outputs": [
    {
     "data": {
      "text/plain": [
       "19.99691459622227"
      ]
     },
     "execution_count": 142,
     "metadata": {},
     "output_type": "execute_result"
    }
   ],
   "source": [
    "mu = np.array([1.0])\n",
    "K = kfunc.kernel_RBF(X, X ,mu)\n",
    "weights = np.random.random(10)\n",
    "logistic_loss(weights, Y, K)"
   ]
  },
  {
   "cell_type": "code",
   "execution_count": 137,
   "metadata": {},
   "outputs": [],
   "source": [
    "from scipy.optimize import minimize"
   ]
  },
  {
   "cell_type": "code",
   "execution_count": 145,
   "metadata": {},
   "outputs": [],
   "source": [
    "res = minimize(logistic_loss, weights, args = (Y, K), method='BFGS')"
   ]
  },
  {
   "cell_type": "code",
   "execution_count": 146,
   "metadata": {},
   "outputs": [
    {
     "data": {
      "text/plain": [
       "'Optimization terminated successfully.'"
      ]
     },
     "execution_count": 146,
     "metadata": {},
     "output_type": "execute_result"
    }
   ],
   "source": [
    "res.message"
   ]
  },
  {
   "cell_type": "code",
   "execution_count": 147,
   "metadata": {},
   "outputs": [
    {
     "data": {
      "text/plain": [
       "array([-0.24743654,  0.24201593, -0.27564949, -0.249895  ,  0.21668603,\n",
       "       -0.25432756,  0.22590625,  0.20425867,  0.24492095,  0.20129036])"
      ]
     },
     "execution_count": 147,
     "metadata": {},
     "output_type": "execute_result"
    }
   ],
   "source": [
    "res.x"
   ]
  },
  {
   "cell_type": "code",
   "execution_count": null,
   "metadata": {},
   "outputs": [],
   "source": []
  }
 ],
 "metadata": {
  "kernelspec": {
   "display_name": "Python 3",
   "language": "python",
   "name": "python3"
  },
  "language_info": {
   "codemirror_mode": {
    "name": "ipython",
    "version": 3
   },
   "file_extension": ".py",
   "mimetype": "text/x-python",
   "name": "python",
   "nbconvert_exporter": "python",
   "pygments_lexer": "ipython3",
   "version": "3.7.3"
  }
 },
 "nbformat": 4,
 "nbformat_minor": 4
}
