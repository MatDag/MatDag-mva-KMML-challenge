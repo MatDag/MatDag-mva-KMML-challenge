{
 "cells": [
  {
   "cell_type": "markdown",
   "id": "speaking-event",
   "metadata": {},
   "source": [
    "# Spectrum kernel with Ridge Regression"
   ]
  },
  {
   "cell_type": "code",
   "execution_count": 14,
   "id": "champion-giant",
   "metadata": {},
   "outputs": [],
   "source": [
    "import sys\n",
    "sys.path.append('General')\n",
    "sys.path.append('Logistic regression')\n",
    "\n",
    "import pandas as pd\n",
    "import numpy as np\n",
    "from time import time\n",
    "\n",
    "from kernel_functions import kernel_spectrum\n",
    "from spectrum_toolbox import preindexation,Spectrum_embedding\n",
    "\n",
    "from Kernel_logistic_regression import KernelLogisticRegression\n",
    "\n",
    "from sklearn.model_selection import KFold\n",
    "import scipy.sparse as sp\n",
    "\n",
    "import matplotlib.pyplot as plt\n",
    "\n",
    "from time import time"
   ]
  },
  {
   "cell_type": "code",
   "execution_count": 2,
   "id": "ranking-junction",
   "metadata": {},
   "outputs": [],
   "source": [
    "def GridSearch_spectrum(X,y,hyperparameters,K = 6):\n",
    "    n_lengths = len(hyperparameters['lengths'])\n",
    "    n_lambdas = len(hyperparameters['lambdas'])\n",
    "    \n",
    "    scores_mean = np.zeros((n_lengths,n_lambdas))\n",
    "    scores_std = np.zeros((n_lengths,n_lambdas))\n",
    "    \n",
    "    kf = KFold(n_splits = K)\n",
    "    \n",
    "    params = dict()\n",
    "    \n",
    "    for i in range(n_lengths):\n",
    "        params['k'] = hyperparameters['lengths'][i]\n",
    "        preindex = preindexation(params['k'])\n",
    "        X_emb = Spectrum_embedding(X,params['k'],preindex = preindex)\n",
    "        \n",
    "        for j in range(n_lambdas):\n",
    "            l = hyperparameters['lambdas'][j]\n",
    "            acc = []\n",
    "            \n",
    "            for train_idx,test_idx in kf.split(X):\n",
    "                model = KernelLogisticRegression(\"spectrum\",params)\n",
    "                Xtrain,Xtest = X_emb[train_idx,:],X_emb[test_idx,:]\n",
    "                ytrain,ytest = y[train_idx],y[test_idx]\n",
    "                print('l')\n",
    "                start = time()\n",
    "                model.fit(Xtrain,ytrain,reg = l)\n",
    "                print(start-time())\n",
    "                ypred = model.predict(Xtest)\n",
    "\n",
    "                acc.append((ypred==ytest).mean())\n",
    "            scores_mean[i,j] = np.array(acc).mean()\n",
    "            scores_std[i,j] = np.array(acc).std()\n",
    "        del(preindex)\n",
    "    return(scores_mean,scores_std)"
   ]
  },
  {
   "cell_type": "markdown",
   "id": "enclosed-instruction",
   "metadata": {},
   "source": [
    "## K = 0"
   ]
  },
  {
   "cell_type": "code",
   "execution_count": 3,
   "id": "introductory-laptop",
   "metadata": {},
   "outputs": [
    {
     "data": {
      "text/html": [
       "<div>\n",
       "<style scoped>\n",
       "    .dataframe tbody tr th:only-of-type {\n",
       "        vertical-align: middle;\n",
       "    }\n",
       "\n",
       "    .dataframe tbody tr th {\n",
       "        vertical-align: top;\n",
       "    }\n",
       "\n",
       "    .dataframe thead th {\n",
       "        text-align: right;\n",
       "    }\n",
       "</style>\n",
       "<table border=\"1\" class=\"dataframe\">\n",
       "  <thead>\n",
       "    <tr style=\"text-align: right;\">\n",
       "      <th></th>\n",
       "      <th>seq</th>\n",
       "    </tr>\n",
       "    <tr>\n",
       "      <th>Id</th>\n",
       "      <th></th>\n",
       "    </tr>\n",
       "  </thead>\n",
       "  <tbody>\n",
       "    <tr>\n",
       "      <th>0</th>\n",
       "      <td>TCCTGTGCACATCTGCACCCCTGTTGTGGCCACAAAATGATCCGGC...</td>\n",
       "    </tr>\n",
       "    <tr>\n",
       "      <th>1</th>\n",
       "      <td>TTAAGTGTATATCTAATAATTTTTTTGCCTACATTCCTGTGTTACC...</td>\n",
       "    </tr>\n",
       "    <tr>\n",
       "      <th>2</th>\n",
       "      <td>GTGCTCAATTAGTTGCCTACAAATAGTAGCCTGGCACAGTGTAAGC...</td>\n",
       "    </tr>\n",
       "    <tr>\n",
       "      <th>3</th>\n",
       "      <td>CACCTGGAAAATACAAACAGGCGCAAGAAGAGTTAACCCACAGATC...</td>\n",
       "    </tr>\n",
       "    <tr>\n",
       "      <th>4</th>\n",
       "      <td>AAATCACTGCCTATCCTTGGGCCAAAAGGTTTCTACAGGAAGCTGC...</td>\n",
       "    </tr>\n",
       "  </tbody>\n",
       "</table>\n",
       "</div>"
      ],
      "text/plain": [
       "                                                  seq\n",
       "Id                                                   \n",
       "0   TCCTGTGCACATCTGCACCCCTGTTGTGGCCACAAAATGATCCGGC...\n",
       "1   TTAAGTGTATATCTAATAATTTTTTTGCCTACATTCCTGTGTTACC...\n",
       "2   GTGCTCAATTAGTTGCCTACAAATAGTAGCCTGGCACAGTGTAAGC...\n",
       "3   CACCTGGAAAATACAAACAGGCGCAAGAAGAGTTAACCCACAGATC...\n",
       "4   AAATCACTGCCTATCCTTGGGCCAAAAGGTTTCTACAGGAAGCTGC..."
      ]
     },
     "execution_count": 3,
     "metadata": {},
     "output_type": "execute_result"
    }
   ],
   "source": [
    "X = pd.read_csv('data/Xtr0.csv')\n",
    "y = pd.read_csv('data/ytr0.csv')\n",
    "X.set_index('Id',inplace = True)\n",
    "\n",
    "X.head()"
   ]
  },
  {
   "cell_type": "code",
   "execution_count": 4,
   "id": "banner-russia",
   "metadata": {},
   "outputs": [],
   "source": [
    "hyperparameters = dict()\n",
    "hyperparameters['lengths'] = np.arange(2,3)\n",
    "hyperparameters['lambdas'] = np.logspace(-5,5,2)"
   ]
  },
  {
   "cell_type": "code",
   "execution_count": 5,
   "id": "official-forwarding",
   "metadata": {},
   "outputs": [
    {
     "name": "stdout",
     "output_type": "stream",
     "text": [
      "l\n",
      "-157.84230494499207\n",
      "l\n"
     ]
    },
    {
     "ename": "SolverError",
     "evalue": "Solver 'ECOS' failed. Try another solver, or solve with verbose=True for more information.",
     "output_type": "error",
     "traceback": [
      "\u001b[0;31m---------------------------------------------------------------------------\u001b[0m",
      "\u001b[0;31mSolverError\u001b[0m                               Traceback (most recent call last)",
      "\u001b[0;32m<ipython-input-5-d31c68c634cb>\u001b[0m in \u001b[0;36m<module>\u001b[0;34m\u001b[0m\n\u001b[1;32m      1\u001b[0m \u001b[0mstart\u001b[0m \u001b[0;34m=\u001b[0m \u001b[0mtime\u001b[0m\u001b[0;34m(\u001b[0m\u001b[0;34m)\u001b[0m\u001b[0;34m\u001b[0m\u001b[0;34m\u001b[0m\u001b[0m\n\u001b[0;32m----> 2\u001b[0;31m \u001b[0mmean\u001b[0m\u001b[0;34m,\u001b[0m\u001b[0mstd\u001b[0m \u001b[0;34m=\u001b[0m \u001b[0mGridSearch_spectrum\u001b[0m\u001b[0;34m(\u001b[0m\u001b[0mX\u001b[0m\u001b[0;34m[\u001b[0m\u001b[0;34m'seq'\u001b[0m\u001b[0;34m]\u001b[0m\u001b[0;34m.\u001b[0m\u001b[0mto_numpy\u001b[0m\u001b[0;34m(\u001b[0m\u001b[0;34m)\u001b[0m\u001b[0;34m,\u001b[0m\u001b[0my\u001b[0m\u001b[0;34m[\u001b[0m\u001b[0;34m'Bound'\u001b[0m\u001b[0;34m]\u001b[0m\u001b[0;34m.\u001b[0m\u001b[0mto_numpy\u001b[0m\u001b[0;34m(\u001b[0m\u001b[0;34m)\u001b[0m\u001b[0;34m,\u001b[0m\u001b[0mhyperparameters\u001b[0m\u001b[0;34m)\u001b[0m\u001b[0;34m\u001b[0m\u001b[0;34m\u001b[0m\u001b[0m\n\u001b[0m\u001b[1;32m      3\u001b[0m \u001b[0mprint\u001b[0m\u001b[0;34m(\u001b[0m\u001b[0mtime\u001b[0m\u001b[0;34m(\u001b[0m\u001b[0;34m)\u001b[0m\u001b[0;34m-\u001b[0m\u001b[0mstart\u001b[0m\u001b[0;34m)\u001b[0m\u001b[0;34m\u001b[0m\u001b[0;34m\u001b[0m\u001b[0m\n",
      "\u001b[0;32m<ipython-input-2-ff5d525c10f2>\u001b[0m in \u001b[0;36mGridSearch_spectrum\u001b[0;34m(X, y, hyperparameters, K)\u001b[0m\n\u001b[1;32m     25\u001b[0m                 \u001b[0mprint\u001b[0m\u001b[0;34m(\u001b[0m\u001b[0;34m'l'\u001b[0m\u001b[0;34m)\u001b[0m\u001b[0;34m\u001b[0m\u001b[0;34m\u001b[0m\u001b[0m\n\u001b[1;32m     26\u001b[0m                 \u001b[0mstart\u001b[0m \u001b[0;34m=\u001b[0m \u001b[0mtime\u001b[0m\u001b[0;34m(\u001b[0m\u001b[0;34m)\u001b[0m\u001b[0;34m\u001b[0m\u001b[0;34m\u001b[0m\u001b[0m\n\u001b[0;32m---> 27\u001b[0;31m                 \u001b[0mmodel\u001b[0m\u001b[0;34m.\u001b[0m\u001b[0mfit\u001b[0m\u001b[0;34m(\u001b[0m\u001b[0mXtrain\u001b[0m\u001b[0;34m,\u001b[0m\u001b[0mytrain\u001b[0m\u001b[0;34m,\u001b[0m\u001b[0mreg\u001b[0m \u001b[0;34m=\u001b[0m \u001b[0ml\u001b[0m\u001b[0;34m)\u001b[0m\u001b[0;34m\u001b[0m\u001b[0;34m\u001b[0m\u001b[0m\n\u001b[0m\u001b[1;32m     28\u001b[0m                 \u001b[0mprint\u001b[0m\u001b[0;34m(\u001b[0m\u001b[0mstart\u001b[0m\u001b[0;34m-\u001b[0m\u001b[0mtime\u001b[0m\u001b[0;34m(\u001b[0m\u001b[0;34m)\u001b[0m\u001b[0;34m)\u001b[0m\u001b[0;34m\u001b[0m\u001b[0;34m\u001b[0m\u001b[0m\n\u001b[1;32m     29\u001b[0m                 \u001b[0mypred\u001b[0m \u001b[0;34m=\u001b[0m \u001b[0mmodel\u001b[0m\u001b[0;34m.\u001b[0m\u001b[0mpredict\u001b[0m\u001b[0;34m(\u001b[0m\u001b[0mXtest\u001b[0m\u001b[0;34m)\u001b[0m\u001b[0;34m\u001b[0m\u001b[0;34m\u001b[0m\u001b[0m\n",
      "\u001b[0;32m~/Documents/Scolaire/MVA/Kernel methods in machine learning/mva-KMML-challenge/Logistic regression/Kernel_logistic_regression.py\u001b[0m in \u001b[0;36mfit\u001b[0;34m(self, X_train, Y_train, reg)\u001b[0m\n\u001b[1;32m     59\u001b[0m         \u001b[0mself\u001b[0m\u001b[0;34m.\u001b[0m\u001b[0mparameters\u001b[0m \u001b[0;34m=\u001b[0m \u001b[0mnp\u001b[0m\u001b[0;34m.\u001b[0m\u001b[0mcopy\u001b[0m\u001b[0;34m(\u001b[0m\u001b[0mparameters\u001b[0m\u001b[0;34m)\u001b[0m\u001b[0;34m\u001b[0m\u001b[0;34m\u001b[0m\u001b[0m\n\u001b[1;32m     60\u001b[0m     \u001b[0;32mdef\u001b[0m \u001b[0mfit\u001b[0m\u001b[0;34m(\u001b[0m\u001b[0mself\u001b[0m\u001b[0;34m,\u001b[0m \u001b[0mX_train\u001b[0m\u001b[0;34m,\u001b[0m \u001b[0mY_train\u001b[0m\u001b[0;34m,\u001b[0m \u001b[0mreg\u001b[0m \u001b[0;34m=\u001b[0m \u001b[0mdefault_lambda\u001b[0m\u001b[0;34m)\u001b[0m\u001b[0;34m:\u001b[0m\u001b[0;34m\u001b[0m\u001b[0;34m\u001b[0m\u001b[0m\n\u001b[0;32m---> 61\u001b[0;31m         weights_opt = solve_kernel_LR(X_train, Y_train,  self.parameters, \n\u001b[0m\u001b[1;32m     62\u001b[0m                                       kernel_keyword = self.kernel_keyword,reg =reg)\n\u001b[1;32m     63\u001b[0m \u001b[0;34m\u001b[0m\u001b[0m\n",
      "\u001b[0;32m~/Documents/Scolaire/MVA/Kernel methods in machine learning/mva-KMML-challenge/Logistic regression/Kernel_logistic_regression.py\u001b[0m in \u001b[0;36msolve_kernel_LR\u001b[0;34m(X, Y, parameters, kernel_keyword, reg)\u001b[0m\n\u001b[1;32m     31\u001b[0m     \u001b[0mweights\u001b[0m \u001b[0;34m=\u001b[0m \u001b[0mcp\u001b[0m\u001b[0;34m.\u001b[0m\u001b[0mVariable\u001b[0m\u001b[0;34m(\u001b[0m\u001b[0mn\u001b[0m\u001b[0;34m)\u001b[0m\u001b[0;34m\u001b[0m\u001b[0;34m\u001b[0m\u001b[0m\n\u001b[1;32m     32\u001b[0m     \u001b[0mproblem\u001b[0m \u001b[0;34m=\u001b[0m \u001b[0mcp\u001b[0m\u001b[0;34m.\u001b[0m\u001b[0mProblem\u001b[0m\u001b[0;34m(\u001b[0m\u001b[0mcp\u001b[0m\u001b[0;34m.\u001b[0m\u001b[0mMinimize\u001b[0m\u001b[0;34m(\u001b[0m\u001b[0mlogistic_loss\u001b[0m\u001b[0;34m(\u001b[0m\u001b[0mweights\u001b[0m\u001b[0;34m,\u001b[0m \u001b[0mY\u001b[0m\u001b[0;34m,\u001b[0m \u001b[0mK\u001b[0m\u001b[0;34m,\u001b[0m \u001b[0mreg\u001b[0m\u001b[0;34m)\u001b[0m\u001b[0;34m)\u001b[0m\u001b[0;34m)\u001b[0m\u001b[0;34m\u001b[0m\u001b[0;34m\u001b[0m\u001b[0m\n\u001b[0;32m---> 33\u001b[0;31m     \u001b[0mproblem\u001b[0m\u001b[0;34m.\u001b[0m\u001b[0msolve\u001b[0m\u001b[0;34m(\u001b[0m\u001b[0;34m)\u001b[0m\u001b[0;34m\u001b[0m\u001b[0;34m\u001b[0m\u001b[0m\n\u001b[0m\u001b[1;32m     34\u001b[0m     \u001b[0;32mreturn\u001b[0m \u001b[0mnp\u001b[0m\u001b[0;34m.\u001b[0m\u001b[0marray\u001b[0m\u001b[0;34m(\u001b[0m\u001b[0mweights\u001b[0m\u001b[0;34m.\u001b[0m\u001b[0mvalue\u001b[0m\u001b[0;34m)\u001b[0m\u001b[0;34m\u001b[0m\u001b[0;34m\u001b[0m\u001b[0m\n\u001b[1;32m     35\u001b[0m \u001b[0;34m\u001b[0m\u001b[0m\n",
      "\u001b[0;32m~/anaconda3/lib/python3.8/site-packages/cvxpy/problems/problem.py\u001b[0m in \u001b[0;36msolve\u001b[0;34m(self, *args, **kwargs)\u001b[0m\n\u001b[1;32m    394\u001b[0m         \u001b[0;32melse\u001b[0m\u001b[0;34m:\u001b[0m\u001b[0;34m\u001b[0m\u001b[0;34m\u001b[0m\u001b[0m\n\u001b[1;32m    395\u001b[0m             \u001b[0msolve_func\u001b[0m \u001b[0;34m=\u001b[0m \u001b[0mProblem\u001b[0m\u001b[0;34m.\u001b[0m\u001b[0m_solve\u001b[0m\u001b[0;34m\u001b[0m\u001b[0;34m\u001b[0m\u001b[0m\n\u001b[0;32m--> 396\u001b[0;31m         \u001b[0;32mreturn\u001b[0m \u001b[0msolve_func\u001b[0m\u001b[0;34m(\u001b[0m\u001b[0mself\u001b[0m\u001b[0;34m,\u001b[0m \u001b[0;34m*\u001b[0m\u001b[0margs\u001b[0m\u001b[0;34m,\u001b[0m \u001b[0;34m**\u001b[0m\u001b[0mkwargs\u001b[0m\u001b[0;34m)\u001b[0m\u001b[0;34m\u001b[0m\u001b[0;34m\u001b[0m\u001b[0m\n\u001b[0m\u001b[1;32m    397\u001b[0m \u001b[0;34m\u001b[0m\u001b[0m\n\u001b[1;32m    398\u001b[0m     \u001b[0;34m@\u001b[0m\u001b[0mclassmethod\u001b[0m\u001b[0;34m\u001b[0m\u001b[0;34m\u001b[0m\u001b[0m\n",
      "\u001b[0;32m~/anaconda3/lib/python3.8/site-packages/cvxpy/problems/problem.py\u001b[0m in \u001b[0;36m_solve\u001b[0;34m(self, solver, warm_start, verbose, gp, qcp, requires_grad, enforce_dpp, **kwargs)\u001b[0m\n\u001b[1;32m    752\u001b[0m         solution = solving_chain.solve_via_data(\n\u001b[1;32m    753\u001b[0m             self, data, warm_start, verbose, kwargs)\n\u001b[0;32m--> 754\u001b[0;31m         \u001b[0mself\u001b[0m\u001b[0;34m.\u001b[0m\u001b[0munpack_results\u001b[0m\u001b[0;34m(\u001b[0m\u001b[0msolution\u001b[0m\u001b[0;34m,\u001b[0m \u001b[0msolving_chain\u001b[0m\u001b[0;34m,\u001b[0m \u001b[0minverse_data\u001b[0m\u001b[0;34m)\u001b[0m\u001b[0;34m\u001b[0m\u001b[0;34m\u001b[0m\u001b[0m\n\u001b[0m\u001b[1;32m    755\u001b[0m         \u001b[0;32mreturn\u001b[0m \u001b[0mself\u001b[0m\u001b[0;34m.\u001b[0m\u001b[0mvalue\u001b[0m\u001b[0;34m\u001b[0m\u001b[0;34m\u001b[0m\u001b[0m\n\u001b[1;32m    756\u001b[0m \u001b[0;34m\u001b[0m\u001b[0m\n",
      "\u001b[0;32m~/anaconda3/lib/python3.8/site-packages/cvxpy/problems/problem.py\u001b[0m in \u001b[0;36munpack_results\u001b[0;34m(self, solution, chain, inverse_data)\u001b[0m\n\u001b[1;32m   1064\u001b[0m             )\n\u001b[1;32m   1065\u001b[0m         \u001b[0;32mif\u001b[0m \u001b[0msolution\u001b[0m\u001b[0;34m.\u001b[0m\u001b[0mstatus\u001b[0m \u001b[0;32min\u001b[0m \u001b[0ms\u001b[0m\u001b[0;34m.\u001b[0m\u001b[0mERROR\u001b[0m\u001b[0;34m:\u001b[0m\u001b[0;34m\u001b[0m\u001b[0;34m\u001b[0m\u001b[0m\n\u001b[0;32m-> 1066\u001b[0;31m             raise error.SolverError(\n\u001b[0m\u001b[1;32m   1067\u001b[0m                     \u001b[0;34m\"Solver '%s' failed. \"\u001b[0m \u001b[0;34m%\u001b[0m \u001b[0mchain\u001b[0m\u001b[0;34m.\u001b[0m\u001b[0msolver\u001b[0m\u001b[0;34m.\u001b[0m\u001b[0mname\u001b[0m\u001b[0;34m(\u001b[0m\u001b[0;34m)\u001b[0m \u001b[0;34m+\u001b[0m\u001b[0;34m\u001b[0m\u001b[0;34m\u001b[0m\u001b[0m\n\u001b[1;32m   1068\u001b[0m                     \u001b[0;34m\"Try another solver, or solve with verbose=True for more \"\u001b[0m\u001b[0;34m\u001b[0m\u001b[0;34m\u001b[0m\u001b[0m\n",
      "\u001b[0;31mSolverError\u001b[0m: Solver 'ECOS' failed. Try another solver, or solve with verbose=True for more information."
     ]
    }
   ],
   "source": [
    "start = time()\n",
    "mean,std = GridSearch_spectrum(X['seq'].to_numpy(),y['Bound'].to_numpy(),hyperparameters)\n",
    "print(time()-start)"
   ]
  },
  {
   "cell_type": "code",
   "execution_count": null,
   "id": "exterior-coordinator",
   "metadata": {},
   "outputs": [],
   "source": [
    "for k in range(len(hyperparameters['lengths'])):\n",
    "    plt.semilogx(hyperparameters['lambdas'],mean[k,:],label = \"$k = {0}$\".format(hyperparameters['lengths'][k]))\n",
    "plt.legend()\n"
   ]
  },
  {
   "cell_type": "markdown",
   "id": "incorporate-rapid",
   "metadata": {},
   "source": [
    "## K = 1"
   ]
  },
  {
   "cell_type": "code",
   "execution_count": null,
   "id": "regional-boost",
   "metadata": {},
   "outputs": [],
   "source": [
    "X = pd.read_csv('data/Xtr1.csv')\n",
    "y = pd.read_csv('data/ytr1.csv')\n",
    "X.set_index('Id',inplace = True)\n",
    "\n",
    "X.head()"
   ]
  },
  {
   "cell_type": "code",
   "execution_count": null,
   "id": "confirmed-paragraph",
   "metadata": {},
   "outputs": [],
   "source": [
    "from spectrum_toolbox import preindexation,Spectrum_embedding\n",
    "\n",
    "start = time()\n",
    "mean,std = GridSearch_spectrum(X['seq'].to_numpy(),y['Bound'].to_numpy(),hyperparameters)\n",
    "print(time()-start)"
   ]
  },
  {
   "cell_type": "code",
   "execution_count": null,
   "id": "warming-rainbow",
   "metadata": {},
   "outputs": [],
   "source": [
    "for k in range(len(hyperparameters['lengths'])):\n",
    "    plt.semilogx(hyperparameters['lambdas'],mean[k,:],label = \"$k = {0}$\".format(hyperparameters['lengths'][k]))\n",
    "plt.legend()\n"
   ]
  },
  {
   "cell_type": "markdown",
   "id": "advance-remains",
   "metadata": {},
   "source": [
    "## K = 2"
   ]
  },
  {
   "cell_type": "code",
   "execution_count": null,
   "id": "comparative-interest",
   "metadata": {},
   "outputs": [],
   "source": [
    "X = pd.read_csv('data/Xtr2.csv')\n",
    "y = pd.read_csv('data/ytr2.csv')\n",
    "X.set_index('Id',inplace = True)\n",
    "\n",
    "X.head()"
   ]
  },
  {
   "cell_type": "code",
   "execution_count": null,
   "id": "fifty-trader",
   "metadata": {},
   "outputs": [],
   "source": [
    "start = time()\n",
    "mean,std = GridSearch_spectrum(X['seq'].to_numpy(),y['Bound'].to_numpy(),hyperparameters)\n",
    "print(time()-start)"
   ]
  },
  {
   "cell_type": "code",
   "execution_count": null,
   "id": "driven-phenomenon",
   "metadata": {},
   "outputs": [],
   "source": [
    "for k in range(len(hyperparameters['lengths'])):\n",
    "    plt.semilogx(hyperparameters['lambdas'],mean[k,:],label = \"$k = {0}$\".format(hyperparameters['lengths'][k]))\n",
    "plt.legend()\n"
   ]
  },
  {
   "cell_type": "code",
   "execution_count": 7,
   "id": "compressed-distance",
   "metadata": {},
   "outputs": [],
   "source": [
    "import cvxpy as cp\n",
    "\n",
    "np.random.seed(1)\n",
    "n = 2000\n",
    "m = 2000\n",
    "def sigmoid(z):\n",
    "  return 1/(1 + np.exp(-z))\n",
    "\n",
    "beta_true = np.array([1, 0.5, -0.5] + [0]*(n - 3))\n",
    "X = (np.random.random((m, n)) - 0.5)*10\n",
    "Y = np.round(sigmoid(X @ beta_true + np.random.randn(m)*0.5))\n",
    "\n",
    "X_test = (np.random.random((2*m, n)) - 0.5)*10\n",
    "Y_test = np.round(sigmoid(X_test @ beta_true + np.random.randn(2*m)*0.5))"
   ]
  },
  {
   "cell_type": "code",
   "execution_count": 9,
   "id": "treated-tractor",
   "metadata": {},
   "outputs": [],
   "source": [
    "beta = cp.Variable(n)\n",
    "lambd = cp.Parameter(nonneg=True)\n",
    "log_likelihood = cp.sum(\n",
    "    cp.multiply(Y, X @ beta) - cp.logistic(X @ beta)\n",
    ")\n",
    "problem = cp.Problem(cp.Maximize(log_likelihood/n - lambd * cp.norm(beta, 1)))"
   ]
  },
  {
   "cell_type": "code",
   "execution_count": 10,
   "id": "owned-interaction",
   "metadata": {},
   "outputs": [],
   "source": [
    "def error(scores, labels):\n",
    "  scores[scores > 0] = 1\n",
    "  scores[scores <= 0] = 0\n",
    "  return np.sum(np.abs(scores - labels)) / float(np.size(labels))"
   ]
  },
  {
   "cell_type": "code",
   "execution_count": 13,
   "id": "tamil-trading",
   "metadata": {},
   "outputs": [],
   "source": [
    "trials = 1\n",
    "train_error = np.zeros(trials)\n",
    "test_error = np.zeros(trials)\n",
    "lambda_vals = np.logspace(-1, 0, trials)\n",
    "beta_vals = []\n",
    "for i in range(trials):\n",
    "    lambd.value = lambda_vals[i]\n",
    "    problem.solve()\n",
    "    train_error[i] = error( (X @ beta).value, Y)\n",
    "    test_error[i] = error( (X_test @ beta).value, Y_test)\n",
    "    beta_vals.append(beta.value)"
   ]
  },
  {
   "cell_type": "code",
   "execution_count": null,
   "id": "binary-caution",
   "metadata": {},
   "outputs": [],
   "source": []
  }
 ],
 "metadata": {
  "kernelspec": {
   "display_name": "Python 3",
   "language": "python",
   "name": "python3"
  },
  "language_info": {
   "codemirror_mode": {
    "name": "ipython",
    "version": 3
   },
   "file_extension": ".py",
   "mimetype": "text/x-python",
   "name": "python",
   "nbconvert_exporter": "python",
   "pygments_lexer": "ipython3",
   "version": "3.8.5"
  }
 },
 "nbformat": 4,
 "nbformat_minor": 5
}
