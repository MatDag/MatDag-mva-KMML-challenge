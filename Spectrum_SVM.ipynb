{
 "cells": [
  {
   "cell_type": "markdown",
   "id": "black-destiny",
   "metadata": {},
   "source": [
    "# Spectrum kernel with Ridge Regression"
   ]
  },
  {
   "cell_type": "code",
   "execution_count": 1,
   "id": "potential-terrain",
   "metadata": {},
   "outputs": [],
   "source": [
    "import sys\n",
    "sys.path.append('General')\n",
    "sys.path.append('SVM')\n",
    "\n",
    "import pandas as pd\n",
    "import numpy as np\n",
    "from time import time\n",
    "\n",
    "from kernel_functions import kernel_spectrum\n",
    "from spectrum_toolbox import preindexation,Spectrum_embedding\n",
    "\n",
    "from SVM import SVM\n",
    "\n",
    "from sklearn.model_selection import KFold\n",
    "import scipy.sparse as sp\n",
    "\n",
    "import matplotlib.pyplot as plt\n",
    "\n",
    "from time import time"
   ]
  },
  {
   "cell_type": "code",
   "execution_count": 2,
   "id": "involved-louisiana",
   "metadata": {},
   "outputs": [],
   "source": [
    "def GridSearch_spectrum(X,y,hyperparameters,K = 6):\n",
    "    n_lengths = len(hyperparameters['lengths'])\n",
    "    n_lambdas = len(hyperparameters['lambdas'])\n",
    "    y[y==0] = -1\n",
    "    \n",
    "    scores_mean = np.zeros((n_lengths,n_lambdas))\n",
    "    scores_std = np.zeros((n_lengths,n_lambdas))\n",
    "    \n",
    "    kf = KFold(n_splits = K)\n",
    "    \n",
    "    params = dict()\n",
    "    \n",
    "    for i in range(n_lengths):\n",
    "        params['k'] = hyperparameters['lengths'][i]\n",
    "        preindex = preindexation(params['k'])\n",
    "        X_emb = Spectrum_embedding(X,params['k'],preindex = preindex)\n",
    "        \n",
    "        for j in range(n_lambdas):\n",
    "            c = hyperparameters['lambdas'][j]\n",
    "            acc = []\n",
    "            \n",
    "            for train_idx,test_idx in kf.split(X):\n",
    "                model = SVM(c = c)\n",
    "                Xtrain,Xtest = X_emb[train_idx,:],X_emb[test_idx,:]\n",
    "                ytrain,ytest = y[train_idx],y[test_idx]              \n",
    "                Ktrain = kernel_spectrum(Xtrain,Xtrain,{})\n",
    "                Ktest = kernel_spectrum(Xtrain,Xtest,{})\n",
    "                model.fit(Ktrain,ytrain[:,None])\n",
    "                ypred = model.predict_class(Ktest)\n",
    "\n",
    "                acc.append((ypred==ytest).mean())\n",
    "            \n",
    "            scores_mean[i,j] = np.array(acc).mean()\n",
    "            scores_std[i,j] = np.array(acc).std()\n",
    "        del(preindex)\n",
    "    return(scores_mean,scores_std)"
   ]
  },
  {
   "cell_type": "markdown",
   "id": "understood-fault",
   "metadata": {},
   "source": [
    "## K = 0"
   ]
  },
  {
   "cell_type": "code",
   "execution_count": 57,
   "id": "satisfactory-mainland",
   "metadata": {},
   "outputs": [
    {
     "data": {
      "text/html": [
       "<div>\n",
       "<style scoped>\n",
       "    .dataframe tbody tr th:only-of-type {\n",
       "        vertical-align: middle;\n",
       "    }\n",
       "\n",
       "    .dataframe tbody tr th {\n",
       "        vertical-align: top;\n",
       "    }\n",
       "\n",
       "    .dataframe thead th {\n",
       "        text-align: right;\n",
       "    }\n",
       "</style>\n",
       "<table border=\"1\" class=\"dataframe\">\n",
       "  <thead>\n",
       "    <tr style=\"text-align: right;\">\n",
       "      <th></th>\n",
       "      <th>seq</th>\n",
       "    </tr>\n",
       "    <tr>\n",
       "      <th>Id</th>\n",
       "      <th></th>\n",
       "    </tr>\n",
       "  </thead>\n",
       "  <tbody>\n",
       "    <tr>\n",
       "      <th>0</th>\n",
       "      <td>TCCTGTGCACATCTGCACCCCTGTTGTGGCCACAAAATGATCCGGC...</td>\n",
       "    </tr>\n",
       "    <tr>\n",
       "      <th>1</th>\n",
       "      <td>TTAAGTGTATATCTAATAATTTTTTTGCCTACATTCCTGTGTTACC...</td>\n",
       "    </tr>\n",
       "    <tr>\n",
       "      <th>2</th>\n",
       "      <td>GTGCTCAATTAGTTGCCTACAAATAGTAGCCTGGCACAGTGTAAGC...</td>\n",
       "    </tr>\n",
       "    <tr>\n",
       "      <th>3</th>\n",
       "      <td>CACCTGGAAAATACAAACAGGCGCAAGAAGAGTTAACCCACAGATC...</td>\n",
       "    </tr>\n",
       "    <tr>\n",
       "      <th>4</th>\n",
       "      <td>AAATCACTGCCTATCCTTGGGCCAAAAGGTTTCTACAGGAAGCTGC...</td>\n",
       "    </tr>\n",
       "  </tbody>\n",
       "</table>\n",
       "</div>"
      ],
      "text/plain": [
       "                                                  seq\n",
       "Id                                                   \n",
       "0   TCCTGTGCACATCTGCACCCCTGTTGTGGCCACAAAATGATCCGGC...\n",
       "1   TTAAGTGTATATCTAATAATTTTTTTGCCTACATTCCTGTGTTACC...\n",
       "2   GTGCTCAATTAGTTGCCTACAAATAGTAGCCTGGCACAGTGTAAGC...\n",
       "3   CACCTGGAAAATACAAACAGGCGCAAGAAGAGTTAACCCACAGATC...\n",
       "4   AAATCACTGCCTATCCTTGGGCCAAAAGGTTTCTACAGGAAGCTGC..."
      ]
     },
     "execution_count": 57,
     "metadata": {},
     "output_type": "execute_result"
    }
   ],
   "source": [
    "X = pd.read_csv('data/Xtr0.csv')\n",
    "y = pd.read_csv('data/ytr0.csv')\n",
    "X.set_index('Id',inplace = True)\n",
    "\n",
    "X.head()"
   ]
  },
  {
   "cell_type": "code",
   "execution_count": 3,
   "id": "helpful-rescue",
   "metadata": {},
   "outputs": [],
   "source": [
    "hyperparameters = dict()\n",
    "hyperparameters['lengths'] = np.arange(2,14)\n",
    "hyperparameters['lambdas'] = np.logspace(-3,5,9)"
   ]
  },
  {
   "cell_type": "code",
   "execution_count": 55,
   "id": "angry-provision",
   "metadata": {
    "collapsed": true,
    "jupyter": {
     "outputs_hidden": true
    }
   },
   "outputs": [
    {
     "name": "stdout",
     "output_type": "stream",
     "text": [
      "(334,)\n",
      "(334,)\n",
      "(334,)\n",
      "(334,)\n",
      "(333,)\n",
      "(333,)\n"
     ]
    },
    {
     "ename": "KeyboardInterrupt",
     "evalue": "",
     "output_type": "error",
     "traceback": [
      "\u001b[0;31m---------------------------------------------------------------------------\u001b[0m",
      "\u001b[0;31mKeyboardInterrupt\u001b[0m                         Traceback (most recent call last)",
      "\u001b[0;32m<ipython-input-55-d31c68c634cb>\u001b[0m in \u001b[0;36m<module>\u001b[0;34m\u001b[0m\n\u001b[1;32m      1\u001b[0m \u001b[0mstart\u001b[0m \u001b[0;34m=\u001b[0m \u001b[0mtime\u001b[0m\u001b[0;34m(\u001b[0m\u001b[0;34m)\u001b[0m\u001b[0;34m\u001b[0m\u001b[0;34m\u001b[0m\u001b[0m\n\u001b[0;32m----> 2\u001b[0;31m \u001b[0mmean\u001b[0m\u001b[0;34m,\u001b[0m\u001b[0mstd\u001b[0m \u001b[0;34m=\u001b[0m \u001b[0mGridSearch_spectrum\u001b[0m\u001b[0;34m(\u001b[0m\u001b[0mX\u001b[0m\u001b[0;34m[\u001b[0m\u001b[0;34m'seq'\u001b[0m\u001b[0;34m]\u001b[0m\u001b[0;34m.\u001b[0m\u001b[0mto_numpy\u001b[0m\u001b[0;34m(\u001b[0m\u001b[0;34m)\u001b[0m\u001b[0;34m,\u001b[0m\u001b[0my\u001b[0m\u001b[0;34m[\u001b[0m\u001b[0;34m'Bound'\u001b[0m\u001b[0;34m]\u001b[0m\u001b[0;34m.\u001b[0m\u001b[0mto_numpy\u001b[0m\u001b[0;34m(\u001b[0m\u001b[0;34m)\u001b[0m\u001b[0;34m,\u001b[0m\u001b[0mhyperparameters\u001b[0m\u001b[0;34m)\u001b[0m\u001b[0;34m\u001b[0m\u001b[0;34m\u001b[0m\u001b[0m\n\u001b[0m\u001b[1;32m      3\u001b[0m \u001b[0mprint\u001b[0m\u001b[0;34m(\u001b[0m\u001b[0mtime\u001b[0m\u001b[0;34m(\u001b[0m\u001b[0;34m)\u001b[0m\u001b[0;34m-\u001b[0m\u001b[0mstart\u001b[0m\u001b[0;34m)\u001b[0m\u001b[0;34m\u001b[0m\u001b[0;34m\u001b[0m\u001b[0m\n",
      "\u001b[0;32m<ipython-input-52-7c538486fa1d>\u001b[0m in \u001b[0;36mGridSearch_spectrum\u001b[0;34m(X, y, hyperparameters, K)\u001b[0m\n\u001b[1;32m     27\u001b[0m                 \u001b[0mKtest\u001b[0m \u001b[0;34m=\u001b[0m \u001b[0mkernel_spectrum\u001b[0m\u001b[0;34m(\u001b[0m\u001b[0mXtrain\u001b[0m\u001b[0;34m,\u001b[0m\u001b[0mXtest\u001b[0m\u001b[0;34m,\u001b[0m\u001b[0;34m{\u001b[0m\u001b[0;34m}\u001b[0m\u001b[0;34m)\u001b[0m\u001b[0;34m\u001b[0m\u001b[0;34m\u001b[0m\u001b[0m\n\u001b[1;32m     28\u001b[0m                 \u001b[0mmodel\u001b[0m\u001b[0;34m.\u001b[0m\u001b[0mfit\u001b[0m\u001b[0;34m(\u001b[0m\u001b[0mKtrain\u001b[0m\u001b[0;34m,\u001b[0m\u001b[0mytrain\u001b[0m\u001b[0;34m[\u001b[0m\u001b[0;34m:\u001b[0m\u001b[0;34m,\u001b[0m\u001b[0;32mNone\u001b[0m\u001b[0;34m]\u001b[0m\u001b[0;34m)\u001b[0m\u001b[0;34m\u001b[0m\u001b[0;34m\u001b[0m\u001b[0m\n\u001b[0;32m---> 29\u001b[0;31m                 \u001b[0mypred\u001b[0m \u001b[0;34m=\u001b[0m \u001b[0mmodel\u001b[0m\u001b[0;34m.\u001b[0m\u001b[0mpredict_class\u001b[0m\u001b[0;34m(\u001b[0m\u001b[0mKtest\u001b[0m\u001b[0;34m)\u001b[0m\u001b[0;34m\u001b[0m\u001b[0;34m\u001b[0m\u001b[0m\n\u001b[0m\u001b[1;32m     30\u001b[0m                 \u001b[0mprint\u001b[0m\u001b[0;34m(\u001b[0m\u001b[0mypred\u001b[0m\u001b[0;34m.\u001b[0m\u001b[0mshape\u001b[0m\u001b[0;34m)\u001b[0m\u001b[0;34m\u001b[0m\u001b[0;34m\u001b[0m\u001b[0m\n\u001b[1;32m     31\u001b[0m                 \u001b[0mprint\u001b[0m\u001b[0;34m(\u001b[0m\u001b[0mytest\u001b[0m\u001b[0;34m.\u001b[0m\u001b[0mshape\u001b[0m\u001b[0;34m)\u001b[0m\u001b[0;34m\u001b[0m\u001b[0;34m\u001b[0m\u001b[0m\n",
      "\u001b[0;32m~/Documents/Scolaire/MVA/Kernel methods in machine learning/mva-KMML-challenge/SVM/SVM.py\u001b[0m in \u001b[0;36mpredict_class\u001b[0;34m(self, kernel_test)\u001b[0m\n\u001b[1;32m    104\u001b[0m \u001b[0;34m\u001b[0m\u001b[0m\n\u001b[1;32m    105\u001b[0m         '''\n\u001b[0;32m--> 106\u001b[0;31m         \u001b[0mprediction\u001b[0m \u001b[0;34m=\u001b[0m \u001b[0mnp\u001b[0m\u001b[0;34m.\u001b[0m\u001b[0marray\u001b[0m\u001b[0;34m(\u001b[0m\u001b[0mself\u001b[0m\u001b[0;34m.\u001b[0m\u001b[0mpredict\u001b[0m\u001b[0;34m(\u001b[0m\u001b[0mkernel_test\u001b[0m\u001b[0;34m)\u001b[0m\u001b[0;34m>=\u001b[0m\u001b[0;36m0\u001b[0m\u001b[0;34m,\u001b[0m\u001b[0mdtype\u001b[0m\u001b[0;34m=\u001b[0m\u001b[0mint\u001b[0m\u001b[0;34m)\u001b[0m\u001b[0;34m\u001b[0m\u001b[0;34m\u001b[0m\u001b[0m\n\u001b[0m\u001b[1;32m    107\u001b[0m         \u001b[0mprediction\u001b[0m\u001b[0;34m[\u001b[0m\u001b[0mprediction\u001b[0m\u001b[0;34m==\u001b[0m\u001b[0;36m0\u001b[0m\u001b[0;34m]\u001b[0m\u001b[0;34m=\u001b[0m\u001b[0;34m-\u001b[0m\u001b[0;36m1\u001b[0m\u001b[0;34m\u001b[0m\u001b[0;34m\u001b[0m\u001b[0m\n\u001b[1;32m    108\u001b[0m \u001b[0;34m\u001b[0m\u001b[0m\n",
      "\u001b[0;32m~/Documents/Scolaire/MVA/Kernel methods in machine learning/mva-KMML-challenge/SVM/SVM.py\u001b[0m in \u001b[0;36mpredict\u001b[0;34m(self, kernel_test)\u001b[0m\n\u001b[1;32m     91\u001b[0m         \u001b[0;32mfor\u001b[0m \u001b[0mi\u001b[0m \u001b[0;32min\u001b[0m \u001b[0mrange\u001b[0m\u001b[0;34m(\u001b[0m\u001b[0mkernel_test\u001b[0m\u001b[0;34m.\u001b[0m\u001b[0mshape\u001b[0m\u001b[0;34m[\u001b[0m\u001b[0;36m1\u001b[0m\u001b[0;34m]\u001b[0m\u001b[0;34m)\u001b[0m\u001b[0;34m:\u001b[0m\u001b[0;34m\u001b[0m\u001b[0;34m\u001b[0m\u001b[0m\n\u001b[1;32m     92\u001b[0m             \u001b[0;31m#print(self.alpha_.shape,self.sv.shape,self.sv,self.sv_label[:,0])\u001b[0m\u001b[0;34m\u001b[0m\u001b[0;34m\u001b[0m\u001b[0;34m\u001b[0m\u001b[0m\n\u001b[0;32m---> 93\u001b[0;31m             \u001b[0my_predict\u001b[0m\u001b[0;34m[\u001b[0m\u001b[0mi\u001b[0m\u001b[0;34m]\u001b[0m \u001b[0;34m=\u001b[0m \u001b[0msum\u001b[0m\u001b[0;34m(\u001b[0m\u001b[0malpha\u001b[0m \u001b[0;34m*\u001b[0m \u001b[0msv_label\u001b[0m \u001b[0;34m*\u001b[0m \u001b[0mkernel_test\u001b[0m\u001b[0;34m[\u001b[0m\u001b[0msv\u001b[0m\u001b[0;34m,\u001b[0m\u001b[0mi\u001b[0m\u001b[0;34m]\u001b[0m \u001b[0;32mfor\u001b[0m \u001b[0malpha\u001b[0m\u001b[0;34m,\u001b[0m \u001b[0msv\u001b[0m\u001b[0;34m,\u001b[0m \u001b[0msv_label\u001b[0m \u001b[0;32min\u001b[0m \u001b[0mzip\u001b[0m\u001b[0;34m(\u001b[0m\u001b[0mself\u001b[0m\u001b[0;34m.\u001b[0m\u001b[0malpha_\u001b[0m\u001b[0;34m,\u001b[0m \u001b[0mself\u001b[0m\u001b[0;34m.\u001b[0m\u001b[0msv\u001b[0m\u001b[0;34m,\u001b[0m \u001b[0mself\u001b[0m\u001b[0;34m.\u001b[0m\u001b[0msv_label\u001b[0m\u001b[0;34m[\u001b[0m\u001b[0;34m:\u001b[0m\u001b[0;34m,\u001b[0m\u001b[0;36m0\u001b[0m\u001b[0;34m]\u001b[0m\u001b[0;34m)\u001b[0m\u001b[0;34m)\u001b[0m\u001b[0;34m\u001b[0m\u001b[0;34m\u001b[0m\u001b[0m\n\u001b[0m\u001b[1;32m     94\u001b[0m         \u001b[0;32mreturn\u001b[0m \u001b[0my_predict\u001b[0m \u001b[0;34m+\u001b[0m \u001b[0mself\u001b[0m\u001b[0;34m.\u001b[0m\u001b[0mb\u001b[0m\u001b[0;34m\u001b[0m\u001b[0;34m\u001b[0m\u001b[0m\n\u001b[1;32m     95\u001b[0m \u001b[0;34m\u001b[0m\u001b[0m\n",
      "\u001b[0;32m~/Documents/Scolaire/MVA/Kernel methods in machine learning/mva-KMML-challenge/SVM/SVM.py\u001b[0m in \u001b[0;36m<genexpr>\u001b[0;34m(.0)\u001b[0m\n\u001b[1;32m     91\u001b[0m         \u001b[0;32mfor\u001b[0m \u001b[0mi\u001b[0m \u001b[0;32min\u001b[0m \u001b[0mrange\u001b[0m\u001b[0;34m(\u001b[0m\u001b[0mkernel_test\u001b[0m\u001b[0;34m.\u001b[0m\u001b[0mshape\u001b[0m\u001b[0;34m[\u001b[0m\u001b[0;36m1\u001b[0m\u001b[0;34m]\u001b[0m\u001b[0;34m)\u001b[0m\u001b[0;34m:\u001b[0m\u001b[0;34m\u001b[0m\u001b[0;34m\u001b[0m\u001b[0m\n\u001b[1;32m     92\u001b[0m             \u001b[0;31m#print(self.alpha_.shape,self.sv.shape,self.sv,self.sv_label[:,0])\u001b[0m\u001b[0;34m\u001b[0m\u001b[0;34m\u001b[0m\u001b[0;34m\u001b[0m\u001b[0m\n\u001b[0;32m---> 93\u001b[0;31m             \u001b[0my_predict\u001b[0m\u001b[0;34m[\u001b[0m\u001b[0mi\u001b[0m\u001b[0;34m]\u001b[0m \u001b[0;34m=\u001b[0m \u001b[0msum\u001b[0m\u001b[0;34m(\u001b[0m\u001b[0malpha\u001b[0m \u001b[0;34m*\u001b[0m \u001b[0msv_label\u001b[0m \u001b[0;34m*\u001b[0m \u001b[0mkernel_test\u001b[0m\u001b[0;34m[\u001b[0m\u001b[0msv\u001b[0m\u001b[0;34m,\u001b[0m\u001b[0mi\u001b[0m\u001b[0;34m]\u001b[0m \u001b[0;32mfor\u001b[0m \u001b[0malpha\u001b[0m\u001b[0;34m,\u001b[0m \u001b[0msv\u001b[0m\u001b[0;34m,\u001b[0m \u001b[0msv_label\u001b[0m \u001b[0;32min\u001b[0m \u001b[0mzip\u001b[0m\u001b[0;34m(\u001b[0m\u001b[0mself\u001b[0m\u001b[0;34m.\u001b[0m\u001b[0malpha_\u001b[0m\u001b[0;34m,\u001b[0m \u001b[0mself\u001b[0m\u001b[0;34m.\u001b[0m\u001b[0msv\u001b[0m\u001b[0;34m,\u001b[0m \u001b[0mself\u001b[0m\u001b[0;34m.\u001b[0m\u001b[0msv_label\u001b[0m\u001b[0;34m[\u001b[0m\u001b[0;34m:\u001b[0m\u001b[0;34m,\u001b[0m\u001b[0;36m0\u001b[0m\u001b[0;34m]\u001b[0m\u001b[0;34m)\u001b[0m\u001b[0;34m)\u001b[0m\u001b[0;34m\u001b[0m\u001b[0;34m\u001b[0m\u001b[0m\n\u001b[0m\u001b[1;32m     94\u001b[0m         \u001b[0;32mreturn\u001b[0m \u001b[0my_predict\u001b[0m \u001b[0;34m+\u001b[0m \u001b[0mself\u001b[0m\u001b[0;34m.\u001b[0m\u001b[0mb\u001b[0m\u001b[0;34m\u001b[0m\u001b[0;34m\u001b[0m\u001b[0m\n\u001b[1;32m     95\u001b[0m \u001b[0;34m\u001b[0m\u001b[0m\n",
      "\u001b[0;31mKeyboardInterrupt\u001b[0m: "
     ]
    }
   ],
   "source": [
    "start = time()\n",
    "mean,std = GridSearch_spectrum(X['seq'].to_numpy(),y['Bound'].to_numpy(),hyperparameters)\n",
    "print(time()-start)"
   ]
  },
  {
   "cell_type": "code",
   "execution_count": 6,
   "id": "headed-condition",
   "metadata": {},
   "outputs": [
    {
     "data": {
      "text/plain": [
       "<matplotlib.legend.Legend at 0x7fde2d3ecc40>"
      ]
     },
     "execution_count": 6,
     "metadata": {},
     "output_type": "execute_result"
    },
    {
     "data": {
      "image/png": "[encoded data removed]",
      "text/plain": [
       "<Figure size 432x288 with 1 Axes>"
      ]
     },
     "metadata": {
      "needs_background": "light"
     },
     "output_type": "display_data"
    }
   ],
   "source": [
    "for k in range(len(hyperparameters['lengths'])):\n",
    "    plt.semilogx(hyperparameters['lambdas'],mean[k,:],label = \"$k = {0}$\".format(hyperparameters['lengths'][k]))\n",
    "plt.legend()\n"
   ]
  },
  {
   "cell_type": "code",
   "execution_count": 58,
   "id": "composed-islam",
   "metadata": {},
   "outputs": [],
   "source": [
    "k = 8\n",
    "c = 1e-2\n",
    "\n",
    "y = y['Bound'].to_numpy()\n",
    "y[y==0] = -1\n",
    "\n",
    "preindex = preindexation(k)\n",
    "Xtrain = Spectrum_embedding(X['seq'].to_numpy(),k,preindex = preindex)\n",
    "Ktrain = kernel_spectrum(Xtrain,Xtrain,{})"
   ]
  },
  {
   "cell_type": "code",
   "execution_count": 59,
   "id": "secret-tunnel",
   "metadata": {},
   "outputs": [],
   "source": [
    "model0 = SVM(c= c)\n",
    "model0.fit(Ktrain,y[:,None])"
   ]
  },
  {
   "cell_type": "code",
   "execution_count": 60,
   "id": "charged-reminder",
   "metadata": {},
   "outputs": [
    {
     "data": {
      "text/plain": [
       "0.988"
      ]
     },
     "execution_count": 60,
     "metadata": {},
     "output_type": "execute_result"
    }
   ],
   "source": [
    "(model0.predict_class(Ktrain)==y).mean()"
   ]
  },
  {
   "cell_type": "code",
   "execution_count": 63,
   "id": "broadband-boring",
   "metadata": {},
   "outputs": [],
   "source": [
    "Xtest = pd.read_csv('data/Xte0.csv')\n",
    "Xtest = Spectrum_embedding(Xtest['seq'].to_numpy(),k,preindex = preindex)\n",
    "Ktest = kernel_spectrum(Xtrain,Xtest,{})\n",
    "ypred0 = model0.predict_class(Ktest)\n",
    "ypred0[ypred0==-1]=0"
   ]
  },
  {
   "cell_type": "markdown",
   "id": "palestinian-ethnic",
   "metadata": {},
   "source": [
    "## K = 1"
   ]
  },
  {
   "cell_type": "code",
   "execution_count": 4,
   "id": "parallel-biodiversity",
   "metadata": {},
   "outputs": [
    {
     "data": {
      "text/html": [
       "<div>\n",
       "<style scoped>\n",
       "    .dataframe tbody tr th:only-of-type {\n",
       "        vertical-align: middle;\n",
       "    }\n",
       "\n",
       "    .dataframe tbody tr th {\n",
       "        vertical-align: top;\n",
       "    }\n",
       "\n",
       "    .dataframe thead th {\n",
       "        text-align: right;\n",
       "    }\n",
       "</style>\n",
       "<table border=\"1\" class=\"dataframe\">\n",
       "  <thead>\n",
       "    <tr style=\"text-align: right;\">\n",
       "      <th></th>\n",
       "      <th>seq</th>\n",
       "    </tr>\n",
       "    <tr>\n",
       "      <th>Id</th>\n",
       "      <th></th>\n",
       "    </tr>\n",
       "  </thead>\n",
       "  <tbody>\n",
       "    <tr>\n",
       "      <th>2000</th>\n",
       "      <td>AGAAATGAAAGTCATCCAAATAGGAAGAGAAGGAGTCAAAATATCC...</td>\n",
       "    </tr>\n",
       "    <tr>\n",
       "      <th>2001</th>\n",
       "      <td>TTCTCTCCAGCACTCTTGTCACCAACTCACATACCATACAGTTTAC...</td>\n",
       "    </tr>\n",
       "    <tr>\n",
       "      <th>2002</th>\n",
       "      <td>ACAGCTGACAAGCAGAACCCAGGGTCACAAGGATCCCATTCATGTG...</td>\n",
       "    </tr>\n",
       "    <tr>\n",
       "      <th>2003</th>\n",
       "      <td>CAAACTTTTCTATGTTTAGCCATGTGTTAATTAATAAGAAATGTTC...</td>\n",
       "    </tr>\n",
       "    <tr>\n",
       "      <th>2004</th>\n",
       "      <td>CTTCGTGGTTGGTCAAGAACGGCAGGAGGTATTTGCCCATCGGTGC...</td>\n",
       "    </tr>\n",
       "  </tbody>\n",
       "</table>\n",
       "</div>"
      ],
      "text/plain": [
       "                                                    seq\n",
       "Id                                                     \n",
       "2000  AGAAATGAAAGTCATCCAAATAGGAAGAGAAGGAGTCAAAATATCC...\n",
       "2001  TTCTCTCCAGCACTCTTGTCACCAACTCACATACCATACAGTTTAC...\n",
       "2002  ACAGCTGACAAGCAGAACCCAGGGTCACAAGGATCCCATTCATGTG...\n",
       "2003  CAAACTTTTCTATGTTTAGCCATGTGTTAATTAATAAGAAATGTTC...\n",
       "2004  CTTCGTGGTTGGTCAAGAACGGCAGGAGGTATTTGCCCATCGGTGC..."
      ]
     },
     "execution_count": 4,
     "metadata": {},
     "output_type": "execute_result"
    }
   ],
   "source": [
    "X = pd.read_csv('data/Xtr1.csv')\n",
    "y = pd.read_csv('data/ytr1.csv')\n",
    "X.set_index('Id',inplace = True)\n",
    "\n",
    "X.head()"
   ]
  },
  {
   "cell_type": "code",
   "execution_count": 5,
   "id": "external-security",
   "metadata": {},
   "outputs": [
    {
     "name": "stdout",
     "output_type": "stream",
     "text": [
      "5832.729868173599\n"
     ]
    }
   ],
   "source": [
    "from spectrum_toolbox import preindexation,Spectrum_embedding\n",
    "\n",
    "start = time()\n",
    "mean,std = GridSearch_spectrum(X['seq'].to_numpy(),y['Bound'].to_numpy(),hyperparameters)\n",
    "print(time()-start)"
   ]
  },
  {
   "cell_type": "code",
   "execution_count": 6,
   "id": "opponent-duplicate",
   "metadata": {},
   "outputs": [
    {
     "data": {
      "text/plain": [
       "<matplotlib.legend.Legend at 0x7fe182c05ee0>"
      ]
     },
     "execution_count": 6,
     "metadata": {},
     "output_type": "execute_result"
    },
    {
     "data": {
      "image/png": "[encoded data removed]",
      "text/plain": [
       "<Figure size 432x288 with 1 Axes>"
      ]
     },
     "metadata": {
      "needs_background": "light"
     },
     "output_type": "display_data"
    }
   ],
   "source": [
    "for k in range(len(hyperparameters['lengths'])):\n",
    "    plt.semilogx(hyperparameters['lambdas'],mean[k,:],label = \"$k = {0}$\".format(hyperparameters['lengths'][k]))\n",
    "plt.legend()\n"
   ]
  },
  {
   "cell_type": "code",
   "execution_count": 65,
   "id": "higher-valve",
   "metadata": {},
   "outputs": [],
   "source": [
    "k = 6\n",
    "c = 1e-3\n",
    "\n",
    "y = y['Bound'].to_numpy()\n",
    "y[y==0] = -1\n",
    "\n",
    "preindex = preindexation(k)\n",
    "Xtrain = Spectrum_embedding(X['seq'].to_numpy(),k,preindex = preindex)\n",
    "Ktrain = kernel_spectrum(Xtrain,Xtrain,{})"
   ]
  },
  {
   "cell_type": "code",
   "execution_count": 66,
   "id": "tamil-venue",
   "metadata": {},
   "outputs": [],
   "source": [
    "model1 = SVM(c= c)\n",
    "model1.fit(Ktrain,y[:,None])"
   ]
  },
  {
   "cell_type": "code",
   "execution_count": 67,
   "id": "professional-telling",
   "metadata": {},
   "outputs": [
    {
     "data": {
      "text/plain": [
       "0.8135"
      ]
     },
     "execution_count": 67,
     "metadata": {},
     "output_type": "execute_result"
    }
   ],
   "source": [
    "(model1.predict_class(Ktrain)==y).mean()"
   ]
  },
  {
   "cell_type": "code",
   "execution_count": 68,
   "id": "secondary-statistics",
   "metadata": {},
   "outputs": [],
   "source": [
    "Xtest = pd.read_csv('data/Xte1.csv')\n",
    "Xtest = Spectrum_embedding(Xtest['seq'].to_numpy(),k,preindex = preindex)\n",
    "Ktest = kernel_spectrum(Xtrain,Xtest,{})\n",
    "ypred1 = model1.predict_class(Ktest)\n",
    "ypred1[ypred1==-1]=0"
   ]
  },
  {
   "cell_type": "markdown",
   "id": "tight-waters",
   "metadata": {},
   "source": [
    "## K = 2"
   ]
  },
  {
   "cell_type": "code",
   "execution_count": 69,
   "id": "social-blade",
   "metadata": {},
   "outputs": [
    {
     "data": {
      "text/html": [
       "<div>\n",
       "<style scoped>\n",
       "    .dataframe tbody tr th:only-of-type {\n",
       "        vertical-align: middle;\n",
       "    }\n",
       "\n",
       "    .dataframe tbody tr th {\n",
       "        vertical-align: top;\n",
       "    }\n",
       "\n",
       "    .dataframe thead th {\n",
       "        text-align: right;\n",
       "    }\n",
       "</style>\n",
       "<table border=\"1\" class=\"dataframe\">\n",
       "  <thead>\n",
       "    <tr style=\"text-align: right;\">\n",
       "      <th></th>\n",
       "      <th>seq</th>\n",
       "    </tr>\n",
       "    <tr>\n",
       "      <th>Id</th>\n",
       "      <th></th>\n",
       "    </tr>\n",
       "  </thead>\n",
       "  <tbody>\n",
       "    <tr>\n",
       "      <th>4000</th>\n",
       "      <td>GTGCCGACGCAGCGGTGTTGCACCTCCCTCTCCGGCTCTGCTGCCC...</td>\n",
       "    </tr>\n",
       "    <tr>\n",
       "      <th>4001</th>\n",
       "      <td>CCTGAGTTTGGTGTTCTGTGGAATTATTGAACCTAAGTAGGTAGTG...</td>\n",
       "    </tr>\n",
       "    <tr>\n",
       "      <th>4002</th>\n",
       "      <td>CCAGGTGCTTACCATTATCATGTAAGTTCTCTAACTGTTTCATGTG...</td>\n",
       "    </tr>\n",
       "    <tr>\n",
       "      <th>4003</th>\n",
       "      <td>AGAGCGGTGTGGGGGTCACTCAAGAGAACGTGCTGTACCTTGTCAG...</td>\n",
       "    </tr>\n",
       "    <tr>\n",
       "      <th>4004</th>\n",
       "      <td>CCCCAGGGGCAGGCGGGCTAGCCCCCCCATCATATGCAAATCATGG...</td>\n",
       "    </tr>\n",
       "  </tbody>\n",
       "</table>\n",
       "</div>"
      ],
      "text/plain": [
       "                                                    seq\n",
       "Id                                                     \n",
       "4000  GTGCCGACGCAGCGGTGTTGCACCTCCCTCTCCGGCTCTGCTGCCC...\n",
       "4001  CCTGAGTTTGGTGTTCTGTGGAATTATTGAACCTAAGTAGGTAGTG...\n",
       "4002  CCAGGTGCTTACCATTATCATGTAAGTTCTCTAACTGTTTCATGTG...\n",
       "4003  AGAGCGGTGTGGGGGTCACTCAAGAGAACGTGCTGTACCTTGTCAG...\n",
       "4004  CCCCAGGGGCAGGCGGGCTAGCCCCCCCATCATATGCAAATCATGG..."
      ]
     },
     "execution_count": 69,
     "metadata": {},
     "output_type": "execute_result"
    }
   ],
   "source": [
    "X = pd.read_csv('data/Xtr2.csv')\n",
    "y = pd.read_csv('data/ytr2.csv')\n",
    "X.set_index('Id',inplace = True)\n",
    "\n",
    "X.head()"
   ]
  },
  {
   "cell_type": "code",
   "execution_count": 12,
   "id": "atomic-client",
   "metadata": {},
   "outputs": [
    {
     "name": "stdout",
     "output_type": "stream",
     "text": [
      "5581.852656841278\n"
     ]
    }
   ],
   "source": [
    "start = time()\n",
    "mean,std = GridSearch_spectrum(X['seq'].to_numpy(),y['Bound'].to_numpy(),hyperparameters)\n",
    "print(time()-start)"
   ]
  },
  {
   "cell_type": "code",
   "execution_count": 13,
   "id": "excellent-thought",
   "metadata": {},
   "outputs": [
    {
     "data": {
      "text/plain": [
       "<matplotlib.legend.Legend at 0x7fdb881687c0>"
      ]
     },
     "execution_count": 13,
     "metadata": {},
     "output_type": "execute_result"
    },
    {
     "data": {
      "image/png": "[encoded data removed]",
      "text/plain": [
       "<Figure size 432x288 with 1 Axes>"
      ]
     },
     "metadata": {
      "needs_background": "light"
     },
     "output_type": "display_data"
    }
   ],
   "source": [
    "for k in range(len(hyperparameters['lengths'])):\n",
    "    plt.semilogx(hyperparameters['lambdas'],mean[k,:],label = \"$k = {0}$\".format(hyperparameters['lengths'][k]))\n",
    "plt.legend()\n"
   ]
  },
  {
   "cell_type": "code",
   "execution_count": 70,
   "id": "enclosed-probability",
   "metadata": {},
   "outputs": [],
   "source": [
    "k = 7\n",
    "c = 1e-2\n",
    "\n",
    "y = y['Bound'].to_numpy()\n",
    "y[y==0] = -1\n",
    "\n",
    "preindex = preindexation(k)\n",
    "Xtrain = Spectrum_embedding(X['seq'].to_numpy(),k,preindex = preindex)\n",
    "Ktrain = kernel_spectrum(Xtrain,Xtrain,{})"
   ]
  },
  {
   "cell_type": "code",
   "execution_count": 71,
   "id": "atmospheric-degree",
   "metadata": {},
   "outputs": [],
   "source": [
    "model2 = SVM(c= c)\n",
    "model2.fit(Ktrain,y[:,None])"
   ]
  },
  {
   "cell_type": "code",
   "execution_count": 72,
   "id": "renewable-jamaica",
   "metadata": {},
   "outputs": [
    {
     "data": {
      "text/plain": [
       "0.979"
      ]
     },
     "execution_count": 72,
     "metadata": {},
     "output_type": "execute_result"
    }
   ],
   "source": [
    "(model2.predict_class(Ktrain)==y).mean()"
   ]
  },
  {
   "cell_type": "code",
   "execution_count": 73,
   "id": "protective-prototype",
   "metadata": {},
   "outputs": [],
   "source": [
    "Xtest = pd.read_csv('data/Xte2.csv')\n",
    "Xtest = Spectrum_embedding(Xtest['seq'].to_numpy(),k,preindex = preindex)\n",
    "Ktest = kernel_spectrum(Xtrain,Xtest,{})\n",
    "ypred2 = model2.predict_class(Ktest)\n",
    "ypred2[ypred2==-1]=0"
   ]
  },
  {
   "cell_type": "code",
   "execution_count": 97,
   "id": "digital-baseline",
   "metadata": {},
   "outputs": [],
   "source": [
    "ypred0 = np.hstack((pd.read_csv('data/Xte0.csv')['Id'].to_numpy()[:,None],ypred0[:,None]))\n",
    "ypred1 = np.hstack((pd.read_csv('data/Xte1.csv')['Id'].to_numpy()[:,None],ypred1[:,None]))\n",
    "ypred2 = np.hstack((pd.read_csv('data/Xte2.csv')['Id'].to_numpy()[:,None],ypred2[:,None]))"
   ]
  },
  {
   "cell_type": "code",
   "execution_count": 98,
   "id": "official-radius",
   "metadata": {},
   "outputs": [],
   "source": [
    "ypred = np.vstack((ypred0,ypred1,ypred2))"
   ]
  },
  {
   "cell_type": "code",
   "execution_count": 100,
   "id": "hungry-report",
   "metadata": {},
   "outputs": [
    {
     "data": {
      "text/plain": [
       "array([[   0,    1],\n",
       "       [   1,    1],\n",
       "       [   2,    1],\n",
       "       ...,\n",
       "       [2997,    0],\n",
       "       [2998,    0],\n",
       "       [2999,    1]])"
      ]
     },
     "execution_count": 100,
     "metadata": {},
     "output_type": "execute_result"
    }
   ],
   "source": [
    "ypred"
   ]
  },
  {
   "cell_type": "code",
   "execution_count": 106,
   "id": "available-beverage",
   "metadata": {},
   "outputs": [],
   "source": [
    "pd.DataFrame(ypred, columns = [\"Id\", \"Bound\"]).set_index('Id').to_csv(\"SVM_Spectrum.csv\")"
   ]
  },
  {
   "cell_type": "code",
   "execution_count": 105,
   "id": "attached-circuit",
   "metadata": {},
   "outputs": [
    {
     "data": {
      "text/html": [
       "<div>\n",
       "<style scoped>\n",
       "    .dataframe tbody tr th:only-of-type {\n",
       "        vertical-align: middle;\n",
       "    }\n",
       "\n",
       "    .dataframe tbody tr th {\n",
       "        vertical-align: top;\n",
       "    }\n",
       "\n",
       "    .dataframe thead th {\n",
       "        text-align: right;\n",
       "    }\n",
       "</style>\n",
       "<table border=\"1\" class=\"dataframe\">\n",
       "  <thead>\n",
       "    <tr style=\"text-align: right;\">\n",
       "      <th></th>\n",
       "      <th>Bound</th>\n",
       "    </tr>\n",
       "    <tr>\n",
       "      <th>Id</th>\n",
       "      <th></th>\n",
       "    </tr>\n",
       "  </thead>\n",
       "  <tbody>\n",
       "    <tr>\n",
       "      <th>0</th>\n",
       "      <td>1</td>\n",
       "    </tr>\n",
       "    <tr>\n",
       "      <th>1</th>\n",
       "      <td>1</td>\n",
       "    </tr>\n",
       "    <tr>\n",
       "      <th>2</th>\n",
       "      <td>1</td>\n",
       "    </tr>\n",
       "    <tr>\n",
       "      <th>3</th>\n",
       "      <td>1</td>\n",
       "    </tr>\n",
       "    <tr>\n",
       "      <th>4</th>\n",
       "      <td>0</td>\n",
       "    </tr>\n",
       "    <tr>\n",
       "      <th>...</th>\n",
       "      <td>...</td>\n",
       "    </tr>\n",
       "    <tr>\n",
       "      <th>2995</th>\n",
       "      <td>1</td>\n",
       "    </tr>\n",
       "    <tr>\n",
       "      <th>2996</th>\n",
       "      <td>0</td>\n",
       "    </tr>\n",
       "    <tr>\n",
       "      <th>2997</th>\n",
       "      <td>0</td>\n",
       "    </tr>\n",
       "    <tr>\n",
       "      <th>2998</th>\n",
       "      <td>0</td>\n",
       "    </tr>\n",
       "    <tr>\n",
       "      <th>2999</th>\n",
       "      <td>1</td>\n",
       "    </tr>\n",
       "  </tbody>\n",
       "</table>\n",
       "<p>3000 rows × 1 columns</p>\n",
       "</div>"
      ],
      "text/plain": [
       "      Bound\n",
       "Id         \n",
       "0         1\n",
       "1         1\n",
       "2         1\n",
       "3         1\n",
       "4         0\n",
       "...     ...\n",
       "2995      1\n",
       "2996      0\n",
       "2997      0\n",
       "2998      0\n",
       "2999      1\n",
       "\n",
       "[3000 rows x 1 columns]"
      ]
     },
     "execution_count": 105,
     "metadata": {},
     "output_type": "execute_result"
    }
   ],
   "source": [
    "pd.DataFrame(ypred, columns = [\"Id\", \"Bound\"]).set_index('Id')"
   ]
  },
  {
   "cell_type": "code",
   "execution_count": 95,
   "id": "numeric-victorian",
   "metadata": {},
   "outputs": [
    {
     "data": {
      "text/plain": [
       "(1000,)"
      ]
     },
     "execution_count": 95,
     "metadata": {},
     "output_type": "execute_result"
    }
   ],
   "source": [
    "pd.read_csv('data/Xte0.csv')['Id'].to_numpy().shape"
   ]
  },
  {
   "cell_type": "code",
   "execution_count": null,
   "id": "mediterranean-contractor",
   "metadata": {},
   "outputs": [],
   "source": []
  }
 ],
 "metadata": {
  "kernelspec": {
   "display_name": "Python 3",
   "language": "python",
   "name": "python3"
  },
  "language_info": {
   "codemirror_mode": {
    "name": "ipython",
    "version": 3
   },
   "file_extension": ".py",
   "mimetype": "text/x-python",
   "name": "python",
   "nbconvert_exporter": "python",
   "pygments_lexer": "ipython3",
   "version": "3.8.5"
  }
 },
 "nbformat": 4,
 "nbformat_minor": 5
}
