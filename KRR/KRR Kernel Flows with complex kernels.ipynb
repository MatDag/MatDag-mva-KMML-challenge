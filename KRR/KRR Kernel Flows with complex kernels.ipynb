{
 "cells": [
  {
   "cell_type": "code",
   "execution_count": 18,
   "metadata": {},
   "outputs": [],
   "source": [
    "import sys\n",
    "sys.path.append('D:/Documents/University/MVA/Kernel Methods/mva-KMML-challenge/KernelFlows')\n",
    "sys.path.append('D:/Documents/University/MVA/Kernel Methods/mva-KMML-challenge/General')\n",
    "\n",
    "import autograd.numpy as np\n",
    "import pandas as pd\n",
    "\n",
    "from matrix_operations import norm_matrix\n",
    "from matrix_operations import inner_matrix\n",
    "import kernel_functions as kfunc\n",
    "from sklearn.model_selection import train_test_split\n",
    "from KernelRegression import KernelRegression\n",
    "from sklearn.kernel_ridge import KernelRidge\n",
    "\n",
    "from sklearn.metrics import accuracy_score as acc\n",
    "\n",
    "import matplotlib.pyplot as plt\n",
    "\n",
    "import numpy as np1"
   ]
  },
  {
   "cell_type": "code",
   "execution_count": 2,
   "metadata": {},
   "outputs": [],
   "source": [
    "from KF_parametric_autograd import KernelFlowsPAutograd"
   ]
  },
  {
   "cell_type": "code",
   "execution_count": 3,
   "metadata": {},
   "outputs": [],
   "source": [
    "# Function to transform numerical to classes \n",
    "\n",
    "def pred_to_class(pred):\n",
    "    pred[pred < 0.5] = 0\n",
    "    pred[pred >= 0.5] = 1\n",
    "    return pred"
   ]
  },
  {
   "cell_type": "code",
   "execution_count": 4,
   "metadata": {},
   "outputs": [],
   "source": [
    "# Function that computes the average squared distance between data points\n",
    "def compute_sigma_heuristic(X_train):\n",
    "    distance_matrix = norm_matrix(X_train, X_train)\n",
    "    sigma = 0\n",
    "    k = 0\n",
    "    for i in range(X_train.shape[0]):\n",
    "        for j in range(i, X_train.shape[0]):\n",
    "            k +=1\n",
    "            sigma += distance_matrix[i,j]\n",
    "        \n",
    "        \n",
    "    sigma = sigma/(k)    \n",
    "    sigma = np.sqrt(sigma)\n",
    "\n",
    "    mu = np.array([sigma])\n",
    "    \n",
    "    return mu"
   ]
  },
  {
   "cell_type": "markdown",
   "metadata": {},
   "source": [
    "# K = 0"
   ]
  },
  {
   "cell_type": "markdown",
   "metadata": {},
   "source": [
    "## Importing all the data\n",
    "\n",
    "### Raw data"
   ]
  },
  {
   "cell_type": "code",
   "execution_count": 5,
   "metadata": {},
   "outputs": [
    {
     "data": {
      "text/html": [
       "<div>\n",
       "<style scoped>\n",
       "    .dataframe tbody tr th:only-of-type {\n",
       "        vertical-align: middle;\n",
       "    }\n",
       "\n",
       "    .dataframe tbody tr th {\n",
       "        vertical-align: top;\n",
       "    }\n",
       "\n",
       "    .dataframe thead th {\n",
       "        text-align: right;\n",
       "    }\n",
       "</style>\n",
       "<table border=\"1\" class=\"dataframe\">\n",
       "  <thead>\n",
       "    <tr style=\"text-align: right;\">\n",
       "      <th></th>\n",
       "      <th>Id</th>\n",
       "      <th>seq</th>\n",
       "    </tr>\n",
       "  </thead>\n",
       "  <tbody>\n",
       "    <tr>\n",
       "      <th>0</th>\n",
       "      <td>0</td>\n",
       "      <td>TCCTGTGCACATCTGCACCCCTGTTGTGGCCACAAAATGATCCGGC...</td>\n",
       "    </tr>\n",
       "    <tr>\n",
       "      <th>1</th>\n",
       "      <td>1</td>\n",
       "      <td>TTAAGTGTATATCTAATAATTTTTTTGCCTACATTCCTGTGTTACC...</td>\n",
       "    </tr>\n",
       "    <tr>\n",
       "      <th>2</th>\n",
       "      <td>2</td>\n",
       "      <td>GTGCTCAATTAGTTGCCTACAAATAGTAGCCTGGCACAGTGTAAGC...</td>\n",
       "    </tr>\n",
       "    <tr>\n",
       "      <th>3</th>\n",
       "      <td>3</td>\n",
       "      <td>CACCTGGAAAATACAAACAGGCGCAAGAAGAGTTAACCCACAGATC...</td>\n",
       "    </tr>\n",
       "    <tr>\n",
       "      <th>4</th>\n",
       "      <td>4</td>\n",
       "      <td>AAATCACTGCCTATCCTTGGGCCAAAAGGTTTCTACAGGAAGCTGC...</td>\n",
       "    </tr>\n",
       "    <tr>\n",
       "      <th>...</th>\n",
       "      <td>...</td>\n",
       "      <td>...</td>\n",
       "    </tr>\n",
       "    <tr>\n",
       "      <th>1995</th>\n",
       "      <td>1995</td>\n",
       "      <td>ACGCTTCGGCACGGCTGGCACGGGCTCCCTGAGGGGCTGTTGGAGA...</td>\n",
       "    </tr>\n",
       "    <tr>\n",
       "      <th>1996</th>\n",
       "      <td>1996</td>\n",
       "      <td>CCTGGCCCTTGGCTCTGCCCTGAAGACAACTCACTCAGGTGCATCC...</td>\n",
       "    </tr>\n",
       "    <tr>\n",
       "      <th>1997</th>\n",
       "      <td>1997</td>\n",
       "      <td>TCTTCTCTCTGTGTCCTCATGTGCCCTTTGCTCTGTGCACAGGCAT...</td>\n",
       "    </tr>\n",
       "    <tr>\n",
       "      <th>1998</th>\n",
       "      <td>1998</td>\n",
       "      <td>GGCACGGTGGCTCATGCCTGTAATCTTAGCACTTTGGGAGGCCAAG...</td>\n",
       "    </tr>\n",
       "    <tr>\n",
       "      <th>1999</th>\n",
       "      <td>1999</td>\n",
       "      <td>TCCTCCCCTTCCTCCTGAAGGCCTGAGGCTCCCTGTGACCCTCCGC...</td>\n",
       "    </tr>\n",
       "  </tbody>\n",
       "</table>\n",
       "<p>2000 rows × 2 columns</p>\n",
       "</div>"
      ],
      "text/plain": [
       "        Id                                                seq\n",
       "0        0  TCCTGTGCACATCTGCACCCCTGTTGTGGCCACAAAATGATCCGGC...\n",
       "1        1  TTAAGTGTATATCTAATAATTTTTTTGCCTACATTCCTGTGTTACC...\n",
       "2        2  GTGCTCAATTAGTTGCCTACAAATAGTAGCCTGGCACAGTGTAAGC...\n",
       "3        3  CACCTGGAAAATACAAACAGGCGCAAGAAGAGTTAACCCACAGATC...\n",
       "4        4  AAATCACTGCCTATCCTTGGGCCAAAAGGTTTCTACAGGAAGCTGC...\n",
       "...    ...                                                ...\n",
       "1995  1995  ACGCTTCGGCACGGCTGGCACGGGCTCCCTGAGGGGCTGTTGGAGA...\n",
       "1996  1996  CCTGGCCCTTGGCTCTGCCCTGAAGACAACTCACTCAGGTGCATCC...\n",
       "1997  1997  TCTTCTCTCTGTGTCCTCATGTGCCCTTTGCTCTGTGCACAGGCAT...\n",
       "1998  1998  GGCACGGTGGCTCATGCCTGTAATCTTAGCACTTTGGGAGGCCAAG...\n",
       "1999  1999  TCCTCCCCTTCCTCCTGAAGGCCTGAGGCTCCCTGTGACCCTCCGC...\n",
       "\n",
       "[2000 rows x 2 columns]"
      ]
     },
     "execution_count": 5,
     "metadata": {},
     "output_type": "execute_result"
    }
   ],
   "source": [
    "home_dir = \"D:/Documents/University/MVA/Kernel Methods/mva-KMML-challenge/data/\"\n",
    "k = \"0\"\n",
    "X_raw_train = pd.read_csv(home_dir+ \"Xtr\" + k + \".csv\")\n",
    "X_raw_train"
   ]
  },
  {
   "cell_type": "code",
   "execution_count": 6,
   "metadata": {},
   "outputs": [
    {
     "data": {
      "text/html": [
       "<div>\n",
       "<style scoped>\n",
       "    .dataframe tbody tr th:only-of-type {\n",
       "        vertical-align: middle;\n",
       "    }\n",
       "\n",
       "    .dataframe tbody tr th {\n",
       "        vertical-align: top;\n",
       "    }\n",
       "\n",
       "    .dataframe thead th {\n",
       "        text-align: right;\n",
       "    }\n",
       "</style>\n",
       "<table border=\"1\" class=\"dataframe\">\n",
       "  <thead>\n",
       "    <tr style=\"text-align: right;\">\n",
       "      <th></th>\n",
       "      <th>Id</th>\n",
       "      <th>seq</th>\n",
       "    </tr>\n",
       "  </thead>\n",
       "  <tbody>\n",
       "    <tr>\n",
       "      <th>0</th>\n",
       "      <td>0</td>\n",
       "      <td>AAGGCCGAGCCCGGCGCGGACGCAGGCGGCTCCGGGCGGGCTCAGC...</td>\n",
       "    </tr>\n",
       "    <tr>\n",
       "      <th>1</th>\n",
       "      <td>1</td>\n",
       "      <td>TCTGGGCTCTTAATGTAAAGGTTGCCACTGATGCTGTGTCACCAGC...</td>\n",
       "    </tr>\n",
       "    <tr>\n",
       "      <th>2</th>\n",
       "      <td>2</td>\n",
       "      <td>GCCCGCACCGCTGGGCTATTTTTAGCGTCCACTAAACTTAGCCGAC...</td>\n",
       "    </tr>\n",
       "    <tr>\n",
       "      <th>3</th>\n",
       "      <td>3</td>\n",
       "      <td>GAGGCGCTGGCAATGGACTAGGAAGCTCGGCTGCCGCTGCTACTGC...</td>\n",
       "    </tr>\n",
       "    <tr>\n",
       "      <th>4</th>\n",
       "      <td>4</td>\n",
       "      <td>GGCGAGACTCCATCTCTACAGAAAATTTTTTTAAAAATTAGCTGGA...</td>\n",
       "    </tr>\n",
       "    <tr>\n",
       "      <th>...</th>\n",
       "      <td>...</td>\n",
       "      <td>...</td>\n",
       "    </tr>\n",
       "    <tr>\n",
       "      <th>995</th>\n",
       "      <td>995</td>\n",
       "      <td>GGCATGGCAGGCCAATCAGAGTCTTCCCTGGGACCTTCTCTGGCAG...</td>\n",
       "    </tr>\n",
       "    <tr>\n",
       "      <th>996</th>\n",
       "      <td>996</td>\n",
       "      <td>CTTGTTCTGCAAAGGGAGGATATCTTGAAGCAGGGGCTAACAGGTC...</td>\n",
       "    </tr>\n",
       "    <tr>\n",
       "      <th>997</th>\n",
       "      <td>997</td>\n",
       "      <td>CCAGACGGAAGTGCATCATTTTGGCCACAGTGTCCCAGGTCGAAAC...</td>\n",
       "    </tr>\n",
       "    <tr>\n",
       "      <th>998</th>\n",
       "      <td>998</td>\n",
       "      <td>GAGGGAGTGGTCCTGGGGGGTCTCGAGGGCCATGGGGGGCACTGGA...</td>\n",
       "    </tr>\n",
       "    <tr>\n",
       "      <th>999</th>\n",
       "      <td>999</td>\n",
       "      <td>TGTGTCACAGTTTAAACATGACCATATTGGAGAGGTCTCACTGAGC...</td>\n",
       "    </tr>\n",
       "  </tbody>\n",
       "</table>\n",
       "<p>1000 rows × 2 columns</p>\n",
       "</div>"
      ],
      "text/plain": [
       "      Id                                                seq\n",
       "0      0  AAGGCCGAGCCCGGCGCGGACGCAGGCGGCTCCGGGCGGGCTCAGC...\n",
       "1      1  TCTGGGCTCTTAATGTAAAGGTTGCCACTGATGCTGTGTCACCAGC...\n",
       "2      2  GCCCGCACCGCTGGGCTATTTTTAGCGTCCACTAAACTTAGCCGAC...\n",
       "3      3  GAGGCGCTGGCAATGGACTAGGAAGCTCGGCTGCCGCTGCTACTGC...\n",
       "4      4  GGCGAGACTCCATCTCTACAGAAAATTTTTTTAAAAATTAGCTGGA...\n",
       "..   ...                                                ...\n",
       "995  995  GGCATGGCAGGCCAATCAGAGTCTTCCCTGGGACCTTCTCTGGCAG...\n",
       "996  996  CTTGTTCTGCAAAGGGAGGATATCTTGAAGCAGGGGCTAACAGGTC...\n",
       "997  997  CCAGACGGAAGTGCATCATTTTGGCCACAGTGTCCCAGGTCGAAAC...\n",
       "998  998  GAGGGAGTGGTCCTGGGGGGTCTCGAGGGCCATGGGGGGCACTGGA...\n",
       "999  999  TGTGTCACAGTTTAAACATGACCATATTGGAGAGGTCTCACTGAGC...\n",
       "\n",
       "[1000 rows x 2 columns]"
      ]
     },
     "execution_count": 6,
     "metadata": {},
     "output_type": "execute_result"
    }
   ],
   "source": [
    "test_pd = pd.read_csv(home_dir+ \"Xte\" + k + \".csv\")\n",
    "test_pd"
   ]
  },
  {
   "cell_type": "markdown",
   "metadata": {},
   "source": [
    "### Training"
   ]
  },
  {
   "cell_type": "code",
   "execution_count": 7,
   "metadata": {},
   "outputs": [
    {
     "data": {
      "text/html": [
       "<div>\n",
       "<style scoped>\n",
       "    .dataframe tbody tr th:only-of-type {\n",
       "        vertical-align: middle;\n",
       "    }\n",
       "\n",
       "    .dataframe tbody tr th {\n",
       "        vertical-align: top;\n",
       "    }\n",
       "\n",
       "    .dataframe thead th {\n",
       "        text-align: right;\n",
       "    }\n",
       "</style>\n",
       "<table border=\"1\" class=\"dataframe\">\n",
       "  <thead>\n",
       "    <tr style=\"text-align: right;\">\n",
       "      <th></th>\n",
       "      <th>0</th>\n",
       "      <th>1</th>\n",
       "      <th>2</th>\n",
       "      <th>3</th>\n",
       "      <th>4</th>\n",
       "      <th>5</th>\n",
       "      <th>6</th>\n",
       "      <th>7</th>\n",
       "      <th>8</th>\n",
       "      <th>9</th>\n",
       "      <th>...</th>\n",
       "      <th>90</th>\n",
       "      <th>91</th>\n",
       "      <th>92</th>\n",
       "      <th>93</th>\n",
       "      <th>94</th>\n",
       "      <th>95</th>\n",
       "      <th>96</th>\n",
       "      <th>97</th>\n",
       "      <th>98</th>\n",
       "      <th>99</th>\n",
       "    </tr>\n",
       "  </thead>\n",
       "  <tbody>\n",
       "    <tr>\n",
       "      <th>0</th>\n",
       "      <td>0.010870</td>\n",
       "      <td>0.010870</td>\n",
       "      <td>0.043478</td>\n",
       "      <td>0.010870</td>\n",
       "      <td>0.021739</td>\n",
       "      <td>0.021739</td>\n",
       "      <td>0.000000</td>\n",
       "      <td>0.010870</td>\n",
       "      <td>0.010870</td>\n",
       "      <td>0.010870</td>\n",
       "      <td>...</td>\n",
       "      <td>0.000000</td>\n",
       "      <td>0.032609</td>\n",
       "      <td>0.01087</td>\n",
       "      <td>0.010870</td>\n",
       "      <td>0.010870</td>\n",
       "      <td>0.000000</td>\n",
       "      <td>0.000000</td>\n",
       "      <td>0.010870</td>\n",
       "      <td>0.000000</td>\n",
       "      <td>0.01087</td>\n",
       "    </tr>\n",
       "    <tr>\n",
       "      <th>1</th>\n",
       "      <td>0.000000</td>\n",
       "      <td>0.000000</td>\n",
       "      <td>0.010870</td>\n",
       "      <td>0.010870</td>\n",
       "      <td>0.000000</td>\n",
       "      <td>0.010870</td>\n",
       "      <td>0.010870</td>\n",
       "      <td>0.000000</td>\n",
       "      <td>0.000000</td>\n",
       "      <td>0.000000</td>\n",
       "      <td>...</td>\n",
       "      <td>0.010870</td>\n",
       "      <td>0.010870</td>\n",
       "      <td>0.01087</td>\n",
       "      <td>0.021739</td>\n",
       "      <td>0.000000</td>\n",
       "      <td>0.010870</td>\n",
       "      <td>0.021739</td>\n",
       "      <td>0.032609</td>\n",
       "      <td>0.000000</td>\n",
       "      <td>0.00000</td>\n",
       "    </tr>\n",
       "    <tr>\n",
       "      <th>2</th>\n",
       "      <td>0.021739</td>\n",
       "      <td>0.010870</td>\n",
       "      <td>0.021739</td>\n",
       "      <td>0.000000</td>\n",
       "      <td>0.000000</td>\n",
       "      <td>0.000000</td>\n",
       "      <td>0.010870</td>\n",
       "      <td>0.010870</td>\n",
       "      <td>0.000000</td>\n",
       "      <td>0.000000</td>\n",
       "      <td>...</td>\n",
       "      <td>0.000000</td>\n",
       "      <td>0.000000</td>\n",
       "      <td>0.00000</td>\n",
       "      <td>0.010870</td>\n",
       "      <td>0.000000</td>\n",
       "      <td>0.021739</td>\n",
       "      <td>0.000000</td>\n",
       "      <td>0.021739</td>\n",
       "      <td>0.021739</td>\n",
       "      <td>0.01087</td>\n",
       "    </tr>\n",
       "    <tr>\n",
       "      <th>3</th>\n",
       "      <td>0.021739</td>\n",
       "      <td>0.010870</td>\n",
       "      <td>0.043478</td>\n",
       "      <td>0.000000</td>\n",
       "      <td>0.000000</td>\n",
       "      <td>0.000000</td>\n",
       "      <td>0.010870</td>\n",
       "      <td>0.000000</td>\n",
       "      <td>0.000000</td>\n",
       "      <td>0.010870</td>\n",
       "      <td>...</td>\n",
       "      <td>0.021739</td>\n",
       "      <td>0.000000</td>\n",
       "      <td>0.00000</td>\n",
       "      <td>0.000000</td>\n",
       "      <td>0.000000</td>\n",
       "      <td>0.000000</td>\n",
       "      <td>0.010870</td>\n",
       "      <td>0.000000</td>\n",
       "      <td>0.000000</td>\n",
       "      <td>0.01087</td>\n",
       "    </tr>\n",
       "    <tr>\n",
       "      <th>4</th>\n",
       "      <td>0.021739</td>\n",
       "      <td>0.010870</td>\n",
       "      <td>0.010870</td>\n",
       "      <td>0.010870</td>\n",
       "      <td>0.010870</td>\n",
       "      <td>0.010870</td>\n",
       "      <td>0.032609</td>\n",
       "      <td>0.000000</td>\n",
       "      <td>0.010870</td>\n",
       "      <td>0.043478</td>\n",
       "      <td>...</td>\n",
       "      <td>0.010870</td>\n",
       "      <td>0.010870</td>\n",
       "      <td>0.00000</td>\n",
       "      <td>0.000000</td>\n",
       "      <td>0.010870</td>\n",
       "      <td>0.010870</td>\n",
       "      <td>0.032609</td>\n",
       "      <td>0.010870</td>\n",
       "      <td>0.021739</td>\n",
       "      <td>0.01087</td>\n",
       "    </tr>\n",
       "    <tr>\n",
       "      <th>...</th>\n",
       "      <td>...</td>\n",
       "      <td>...</td>\n",
       "      <td>...</td>\n",
       "      <td>...</td>\n",
       "      <td>...</td>\n",
       "      <td>...</td>\n",
       "      <td>...</td>\n",
       "      <td>...</td>\n",
       "      <td>...</td>\n",
       "      <td>...</td>\n",
       "      <td>...</td>\n",
       "      <td>...</td>\n",
       "      <td>...</td>\n",
       "      <td>...</td>\n",
       "      <td>...</td>\n",
       "      <td>...</td>\n",
       "      <td>...</td>\n",
       "      <td>...</td>\n",
       "      <td>...</td>\n",
       "      <td>...</td>\n",
       "      <td>...</td>\n",
       "    </tr>\n",
       "    <tr>\n",
       "      <th>1995</th>\n",
       "      <td>0.000000</td>\n",
       "      <td>0.000000</td>\n",
       "      <td>0.000000</td>\n",
       "      <td>0.010870</td>\n",
       "      <td>0.000000</td>\n",
       "      <td>0.010870</td>\n",
       "      <td>0.000000</td>\n",
       "      <td>0.021739</td>\n",
       "      <td>0.010870</td>\n",
       "      <td>0.032609</td>\n",
       "      <td>...</td>\n",
       "      <td>0.000000</td>\n",
       "      <td>0.010870</td>\n",
       "      <td>0.01087</td>\n",
       "      <td>0.000000</td>\n",
       "      <td>0.000000</td>\n",
       "      <td>0.000000</td>\n",
       "      <td>0.000000</td>\n",
       "      <td>0.000000</td>\n",
       "      <td>0.010870</td>\n",
       "      <td>0.00000</td>\n",
       "    </tr>\n",
       "    <tr>\n",
       "      <th>1996</th>\n",
       "      <td>0.010870</td>\n",
       "      <td>0.021739</td>\n",
       "      <td>0.000000</td>\n",
       "      <td>0.000000</td>\n",
       "      <td>0.000000</td>\n",
       "      <td>0.021739</td>\n",
       "      <td>0.010870</td>\n",
       "      <td>0.010870</td>\n",
       "      <td>0.021739</td>\n",
       "      <td>0.000000</td>\n",
       "      <td>...</td>\n",
       "      <td>0.021739</td>\n",
       "      <td>0.010870</td>\n",
       "      <td>0.00000</td>\n",
       "      <td>0.010870</td>\n",
       "      <td>0.000000</td>\n",
       "      <td>0.000000</td>\n",
       "      <td>0.000000</td>\n",
       "      <td>0.000000</td>\n",
       "      <td>0.010870</td>\n",
       "      <td>0.01087</td>\n",
       "    </tr>\n",
       "    <tr>\n",
       "      <th>1997</th>\n",
       "      <td>0.010870</td>\n",
       "      <td>0.000000</td>\n",
       "      <td>0.000000</td>\n",
       "      <td>0.000000</td>\n",
       "      <td>0.000000</td>\n",
       "      <td>0.010870</td>\n",
       "      <td>0.010870</td>\n",
       "      <td>0.010870</td>\n",
       "      <td>0.021739</td>\n",
       "      <td>0.000000</td>\n",
       "      <td>...</td>\n",
       "      <td>0.010870</td>\n",
       "      <td>0.010870</td>\n",
       "      <td>0.00000</td>\n",
       "      <td>0.000000</td>\n",
       "      <td>0.021739</td>\n",
       "      <td>0.000000</td>\n",
       "      <td>0.032609</td>\n",
       "      <td>0.032609</td>\n",
       "      <td>0.000000</td>\n",
       "      <td>0.00000</td>\n",
       "    </tr>\n",
       "    <tr>\n",
       "      <th>1998</th>\n",
       "      <td>0.010870</td>\n",
       "      <td>0.010870</td>\n",
       "      <td>0.000000</td>\n",
       "      <td>0.000000</td>\n",
       "      <td>0.021739</td>\n",
       "      <td>0.000000</td>\n",
       "      <td>0.010870</td>\n",
       "      <td>0.021739</td>\n",
       "      <td>0.000000</td>\n",
       "      <td>0.032609</td>\n",
       "      <td>...</td>\n",
       "      <td>0.032609</td>\n",
       "      <td>0.000000</td>\n",
       "      <td>0.00000</td>\n",
       "      <td>0.010870</td>\n",
       "      <td>0.000000</td>\n",
       "      <td>0.010870</td>\n",
       "      <td>0.000000</td>\n",
       "      <td>0.000000</td>\n",
       "      <td>0.000000</td>\n",
       "      <td>0.01087</td>\n",
       "    </tr>\n",
       "    <tr>\n",
       "      <th>1999</th>\n",
       "      <td>0.000000</td>\n",
       "      <td>0.000000</td>\n",
       "      <td>0.000000</td>\n",
       "      <td>0.032609</td>\n",
       "      <td>0.010870</td>\n",
       "      <td>0.010870</td>\n",
       "      <td>0.010870</td>\n",
       "      <td>0.010870</td>\n",
       "      <td>0.010870</td>\n",
       "      <td>0.021739</td>\n",
       "      <td>...</td>\n",
       "      <td>0.000000</td>\n",
       "      <td>0.021739</td>\n",
       "      <td>0.01087</td>\n",
       "      <td>0.000000</td>\n",
       "      <td>0.032609</td>\n",
       "      <td>0.000000</td>\n",
       "      <td>0.010870</td>\n",
       "      <td>0.000000</td>\n",
       "      <td>0.010870</td>\n",
       "      <td>0.00000</td>\n",
       "    </tr>\n",
       "  </tbody>\n",
       "</table>\n",
       "<p>2000 rows × 100 columns</p>\n",
       "</div>"
      ],
      "text/plain": [
       "            0         1         2         3         4         5         6   \\\n",
       "0     0.010870  0.010870  0.043478  0.010870  0.021739  0.021739  0.000000   \n",
       "1     0.000000  0.000000  0.010870  0.010870  0.000000  0.010870  0.010870   \n",
       "2     0.021739  0.010870  0.021739  0.000000  0.000000  0.000000  0.010870   \n",
       "3     0.021739  0.010870  0.043478  0.000000  0.000000  0.000000  0.010870   \n",
       "4     0.021739  0.010870  0.010870  0.010870  0.010870  0.010870  0.032609   \n",
       "...        ...       ...       ...       ...       ...       ...       ...   \n",
       "1995  0.000000  0.000000  0.000000  0.010870  0.000000  0.010870  0.000000   \n",
       "1996  0.010870  0.021739  0.000000  0.000000  0.000000  0.021739  0.010870   \n",
       "1997  0.010870  0.000000  0.000000  0.000000  0.000000  0.010870  0.010870   \n",
       "1998  0.010870  0.010870  0.000000  0.000000  0.021739  0.000000  0.010870   \n",
       "1999  0.000000  0.000000  0.000000  0.032609  0.010870  0.010870  0.010870   \n",
       "\n",
       "            7         8         9   ...        90        91       92  \\\n",
       "0     0.010870  0.010870  0.010870  ...  0.000000  0.032609  0.01087   \n",
       "1     0.000000  0.000000  0.000000  ...  0.010870  0.010870  0.01087   \n",
       "2     0.010870  0.000000  0.000000  ...  0.000000  0.000000  0.00000   \n",
       "3     0.000000  0.000000  0.010870  ...  0.021739  0.000000  0.00000   \n",
       "4     0.000000  0.010870  0.043478  ...  0.010870  0.010870  0.00000   \n",
       "...        ...       ...       ...  ...       ...       ...      ...   \n",
       "1995  0.021739  0.010870  0.032609  ...  0.000000  0.010870  0.01087   \n",
       "1996  0.010870  0.021739  0.000000  ...  0.021739  0.010870  0.00000   \n",
       "1997  0.010870  0.021739  0.000000  ...  0.010870  0.010870  0.00000   \n",
       "1998  0.021739  0.000000  0.032609  ...  0.032609  0.000000  0.00000   \n",
       "1999  0.010870  0.010870  0.021739  ...  0.000000  0.021739  0.01087   \n",
       "\n",
       "            93        94        95        96        97        98       99  \n",
       "0     0.010870  0.010870  0.000000  0.000000  0.010870  0.000000  0.01087  \n",
       "1     0.021739  0.000000  0.010870  0.021739  0.032609  0.000000  0.00000  \n",
       "2     0.010870  0.000000  0.021739  0.000000  0.021739  0.021739  0.01087  \n",
       "3     0.000000  0.000000  0.000000  0.010870  0.000000  0.000000  0.01087  \n",
       "4     0.000000  0.010870  0.010870  0.032609  0.010870  0.021739  0.01087  \n",
       "...        ...       ...       ...       ...       ...       ...      ...  \n",
       "1995  0.000000  0.000000  0.000000  0.000000  0.000000  0.010870  0.00000  \n",
       "1996  0.010870  0.000000  0.000000  0.000000  0.000000  0.010870  0.01087  \n",
       "1997  0.000000  0.021739  0.000000  0.032609  0.032609  0.000000  0.00000  \n",
       "1998  0.010870  0.000000  0.010870  0.000000  0.000000  0.000000  0.01087  \n",
       "1999  0.000000  0.032609  0.000000  0.010870  0.000000  0.010870  0.00000  \n",
       "\n",
       "[2000 rows x 100 columns]"
      ]
     },
     "execution_count": 7,
     "metadata": {},
     "output_type": "execute_result"
    }
   ],
   "source": [
    "X_pd = pd.read_csv(home_dir+ \"Xtr\" + k +\"_mat100.csv\", header=None, delim_whitespace=True)\n",
    "X_pd"
   ]
  },
  {
   "cell_type": "code",
   "execution_count": 8,
   "metadata": {},
   "outputs": [
    {
     "data": {
      "text/plain": [
       "(2000, 100)"
      ]
     },
     "execution_count": 8,
     "metadata": {},
     "output_type": "execute_result"
    }
   ],
   "source": [
    "X = X_pd.to_numpy()\n",
    "X.shape"
   ]
  },
  {
   "cell_type": "code",
   "execution_count": 9,
   "metadata": {},
   "outputs": [
    {
     "data": {
      "text/html": [
       "<div>\n",
       "<style scoped>\n",
       "    .dataframe tbody tr th:only-of-type {\n",
       "        vertical-align: middle;\n",
       "    }\n",
       "\n",
       "    .dataframe tbody tr th {\n",
       "        vertical-align: top;\n",
       "    }\n",
       "\n",
       "    .dataframe thead th {\n",
       "        text-align: right;\n",
       "    }\n",
       "</style>\n",
       "<table border=\"1\" class=\"dataframe\">\n",
       "  <thead>\n",
       "    <tr style=\"text-align: right;\">\n",
       "      <th></th>\n",
       "      <th>Id</th>\n",
       "      <th>Bound</th>\n",
       "    </tr>\n",
       "  </thead>\n",
       "  <tbody>\n",
       "    <tr>\n",
       "      <th>0</th>\n",
       "      <td>0</td>\n",
       "      <td>0</td>\n",
       "    </tr>\n",
       "    <tr>\n",
       "      <th>1</th>\n",
       "      <td>1</td>\n",
       "      <td>1</td>\n",
       "    </tr>\n",
       "    <tr>\n",
       "      <th>2</th>\n",
       "      <td>2</td>\n",
       "      <td>1</td>\n",
       "    </tr>\n",
       "    <tr>\n",
       "      <th>3</th>\n",
       "      <td>3</td>\n",
       "      <td>1</td>\n",
       "    </tr>\n",
       "    <tr>\n",
       "      <th>4</th>\n",
       "      <td>4</td>\n",
       "      <td>1</td>\n",
       "    </tr>\n",
       "    <tr>\n",
       "      <th>5</th>\n",
       "      <td>5</td>\n",
       "      <td>0</td>\n",
       "    </tr>\n",
       "    <tr>\n",
       "      <th>6</th>\n",
       "      <td>6</td>\n",
       "      <td>0</td>\n",
       "    </tr>\n",
       "    <tr>\n",
       "      <th>7</th>\n",
       "      <td>7</td>\n",
       "      <td>0</td>\n",
       "    </tr>\n",
       "    <tr>\n",
       "      <th>8</th>\n",
       "      <td>8</td>\n",
       "      <td>0</td>\n",
       "    </tr>\n",
       "    <tr>\n",
       "      <th>9</th>\n",
       "      <td>9</td>\n",
       "      <td>1</td>\n",
       "    </tr>\n",
       "  </tbody>\n",
       "</table>\n",
       "</div>"
      ],
      "text/plain": [
       "   Id  Bound\n",
       "0   0      0\n",
       "1   1      1\n",
       "2   2      1\n",
       "3   3      1\n",
       "4   4      1\n",
       "5   5      0\n",
       "6   6      0\n",
       "7   7      0\n",
       "8   8      0\n",
       "9   9      1"
      ]
     },
     "execution_count": 9,
     "metadata": {},
     "output_type": "execute_result"
    }
   ],
   "source": [
    "Y_pd = pd.read_csv(home_dir+ \"Ytr\" + k + \".csv\")\n",
    "Y_pd.head(10)"
   ]
  },
  {
   "cell_type": "code",
   "execution_count": 10,
   "metadata": {},
   "outputs": [
    {
     "data": {
      "text/plain": [
       "(2000,)"
      ]
     },
     "execution_count": 10,
     "metadata": {},
     "output_type": "execute_result"
    }
   ],
   "source": [
    "Y = Y_pd[\"Bound\"].to_numpy()\n",
    "Y.shape"
   ]
  },
  {
   "cell_type": "code",
   "execution_count": 11,
   "metadata": {},
   "outputs": [
    {
     "data": {
      "text/plain": [
       "array([0, 1, 1, 1, 1, 0, 0, 0, 0, 1], dtype=int64)"
      ]
     },
     "execution_count": 11,
     "metadata": {},
     "output_type": "execute_result"
    }
   ],
   "source": [
    "Y[:10]"
   ]
  },
  {
   "cell_type": "markdown",
   "metadata": {},
   "source": [
    "### Test"
   ]
  },
  {
   "cell_type": "code",
   "execution_count": 12,
   "metadata": {},
   "outputs": [
    {
     "data": {
      "text/html": [
       "<div>\n",
       "<style scoped>\n",
       "    .dataframe tbody tr th:only-of-type {\n",
       "        vertical-align: middle;\n",
       "    }\n",
       "\n",
       "    .dataframe tbody tr th {\n",
       "        vertical-align: top;\n",
       "    }\n",
       "\n",
       "    .dataframe thead th {\n",
       "        text-align: right;\n",
       "    }\n",
       "</style>\n",
       "<table border=\"1\" class=\"dataframe\">\n",
       "  <thead>\n",
       "    <tr style=\"text-align: right;\">\n",
       "      <th></th>\n",
       "      <th>0</th>\n",
       "      <th>1</th>\n",
       "      <th>2</th>\n",
       "      <th>3</th>\n",
       "      <th>4</th>\n",
       "      <th>5</th>\n",
       "      <th>6</th>\n",
       "      <th>7</th>\n",
       "      <th>8</th>\n",
       "      <th>9</th>\n",
       "      <th>...</th>\n",
       "      <th>90</th>\n",
       "      <th>91</th>\n",
       "      <th>92</th>\n",
       "      <th>93</th>\n",
       "      <th>94</th>\n",
       "      <th>95</th>\n",
       "      <th>96</th>\n",
       "      <th>97</th>\n",
       "      <th>98</th>\n",
       "      <th>99</th>\n",
       "    </tr>\n",
       "  </thead>\n",
       "  <tbody>\n",
       "    <tr>\n",
       "      <th>0</th>\n",
       "      <td>0.000000</td>\n",
       "      <td>0.021739</td>\n",
       "      <td>0.000000</td>\n",
       "      <td>0.010870</td>\n",
       "      <td>0.021739</td>\n",
       "      <td>0.010870</td>\n",
       "      <td>0.010870</td>\n",
       "      <td>0.021739</td>\n",
       "      <td>0.010870</td>\n",
       "      <td>0.000000</td>\n",
       "      <td>...</td>\n",
       "      <td>0.000000</td>\n",
       "      <td>0.043478</td>\n",
       "      <td>0.000000</td>\n",
       "      <td>0.000000</td>\n",
       "      <td>0.010870</td>\n",
       "      <td>0.000000</td>\n",
       "      <td>0.000000</td>\n",
       "      <td>0.000000</td>\n",
       "      <td>0.032609</td>\n",
       "      <td>0.000000</td>\n",
       "    </tr>\n",
       "    <tr>\n",
       "      <th>1</th>\n",
       "      <td>0.000000</td>\n",
       "      <td>0.021739</td>\n",
       "      <td>0.000000</td>\n",
       "      <td>0.021739</td>\n",
       "      <td>0.021739</td>\n",
       "      <td>0.010870</td>\n",
       "      <td>0.010870</td>\n",
       "      <td>0.000000</td>\n",
       "      <td>0.010870</td>\n",
       "      <td>0.010870</td>\n",
       "      <td>...</td>\n",
       "      <td>0.021739</td>\n",
       "      <td>0.021739</td>\n",
       "      <td>0.000000</td>\n",
       "      <td>0.010870</td>\n",
       "      <td>0.010870</td>\n",
       "      <td>0.000000</td>\n",
       "      <td>0.010870</td>\n",
       "      <td>0.010870</td>\n",
       "      <td>0.032609</td>\n",
       "      <td>0.000000</td>\n",
       "    </tr>\n",
       "    <tr>\n",
       "      <th>2</th>\n",
       "      <td>0.000000</td>\n",
       "      <td>0.000000</td>\n",
       "      <td>0.010870</td>\n",
       "      <td>0.000000</td>\n",
       "      <td>0.000000</td>\n",
       "      <td>0.021739</td>\n",
       "      <td>0.000000</td>\n",
       "      <td>0.000000</td>\n",
       "      <td>0.010870</td>\n",
       "      <td>0.010870</td>\n",
       "      <td>...</td>\n",
       "      <td>0.010870</td>\n",
       "      <td>0.010870</td>\n",
       "      <td>0.010870</td>\n",
       "      <td>0.010870</td>\n",
       "      <td>0.010870</td>\n",
       "      <td>0.000000</td>\n",
       "      <td>0.021739</td>\n",
       "      <td>0.032609</td>\n",
       "      <td>0.000000</td>\n",
       "      <td>0.000000</td>\n",
       "    </tr>\n",
       "    <tr>\n",
       "      <th>3</th>\n",
       "      <td>0.021739</td>\n",
       "      <td>0.000000</td>\n",
       "      <td>0.000000</td>\n",
       "      <td>0.010870</td>\n",
       "      <td>0.010870</td>\n",
       "      <td>0.010870</td>\n",
       "      <td>0.000000</td>\n",
       "      <td>0.000000</td>\n",
       "      <td>0.021739</td>\n",
       "      <td>0.032609</td>\n",
       "      <td>...</td>\n",
       "      <td>0.010870</td>\n",
       "      <td>0.010870</td>\n",
       "      <td>0.000000</td>\n",
       "      <td>0.010870</td>\n",
       "      <td>0.043478</td>\n",
       "      <td>0.000000</td>\n",
       "      <td>0.021739</td>\n",
       "      <td>0.000000</td>\n",
       "      <td>0.000000</td>\n",
       "      <td>0.010870</td>\n",
       "    </tr>\n",
       "    <tr>\n",
       "      <th>4</th>\n",
       "      <td>0.010870</td>\n",
       "      <td>0.000000</td>\n",
       "      <td>0.010870</td>\n",
       "      <td>0.021739</td>\n",
       "      <td>0.010870</td>\n",
       "      <td>0.000000</td>\n",
       "      <td>0.000000</td>\n",
       "      <td>0.010870</td>\n",
       "      <td>0.000000</td>\n",
       "      <td>0.032609</td>\n",
       "      <td>...</td>\n",
       "      <td>0.000000</td>\n",
       "      <td>0.000000</td>\n",
       "      <td>0.000000</td>\n",
       "      <td>0.010870</td>\n",
       "      <td>0.010870</td>\n",
       "      <td>0.010870</td>\n",
       "      <td>0.010870</td>\n",
       "      <td>0.000000</td>\n",
       "      <td>0.010870</td>\n",
       "      <td>0.000000</td>\n",
       "    </tr>\n",
       "    <tr>\n",
       "      <th>...</th>\n",
       "      <td>...</td>\n",
       "      <td>...</td>\n",
       "      <td>...</td>\n",
       "      <td>...</td>\n",
       "      <td>...</td>\n",
       "      <td>...</td>\n",
       "      <td>...</td>\n",
       "      <td>...</td>\n",
       "      <td>...</td>\n",
       "      <td>...</td>\n",
       "      <td>...</td>\n",
       "      <td>...</td>\n",
       "      <td>...</td>\n",
       "      <td>...</td>\n",
       "      <td>...</td>\n",
       "      <td>...</td>\n",
       "      <td>...</td>\n",
       "      <td>...</td>\n",
       "      <td>...</td>\n",
       "      <td>...</td>\n",
       "      <td>...</td>\n",
       "    </tr>\n",
       "    <tr>\n",
       "      <th>995</th>\n",
       "      <td>0.000000</td>\n",
       "      <td>0.010870</td>\n",
       "      <td>0.043478</td>\n",
       "      <td>0.010870</td>\n",
       "      <td>0.021739</td>\n",
       "      <td>0.021739</td>\n",
       "      <td>0.021739</td>\n",
       "      <td>0.010870</td>\n",
       "      <td>0.000000</td>\n",
       "      <td>0.010870</td>\n",
       "      <td>...</td>\n",
       "      <td>0.000000</td>\n",
       "      <td>0.021739</td>\n",
       "      <td>0.010870</td>\n",
       "      <td>0.000000</td>\n",
       "      <td>0.010870</td>\n",
       "      <td>0.010870</td>\n",
       "      <td>0.010870</td>\n",
       "      <td>0.000000</td>\n",
       "      <td>0.010870</td>\n",
       "      <td>0.010870</td>\n",
       "    </tr>\n",
       "    <tr>\n",
       "      <th>996</th>\n",
       "      <td>0.000000</td>\n",
       "      <td>0.010870</td>\n",
       "      <td>0.000000</td>\n",
       "      <td>0.000000</td>\n",
       "      <td>0.021739</td>\n",
       "      <td>0.010870</td>\n",
       "      <td>0.043478</td>\n",
       "      <td>0.010870</td>\n",
       "      <td>0.000000</td>\n",
       "      <td>0.000000</td>\n",
       "      <td>...</td>\n",
       "      <td>0.010870</td>\n",
       "      <td>0.000000</td>\n",
       "      <td>0.000000</td>\n",
       "      <td>0.021739</td>\n",
       "      <td>0.000000</td>\n",
       "      <td>0.021739</td>\n",
       "      <td>0.010870</td>\n",
       "      <td>0.021739</td>\n",
       "      <td>0.000000</td>\n",
       "      <td>0.000000</td>\n",
       "    </tr>\n",
       "    <tr>\n",
       "      <th>997</th>\n",
       "      <td>0.000000</td>\n",
       "      <td>0.021739</td>\n",
       "      <td>0.032609</td>\n",
       "      <td>0.021739</td>\n",
       "      <td>0.000000</td>\n",
       "      <td>0.000000</td>\n",
       "      <td>0.021739</td>\n",
       "      <td>0.000000</td>\n",
       "      <td>0.010870</td>\n",
       "      <td>0.000000</td>\n",
       "      <td>...</td>\n",
       "      <td>0.021739</td>\n",
       "      <td>0.000000</td>\n",
       "      <td>0.010870</td>\n",
       "      <td>0.000000</td>\n",
       "      <td>0.010870</td>\n",
       "      <td>0.010870</td>\n",
       "      <td>0.000000</td>\n",
       "      <td>0.010870</td>\n",
       "      <td>0.010870</td>\n",
       "      <td>0.000000</td>\n",
       "    </tr>\n",
       "    <tr>\n",
       "      <th>998</th>\n",
       "      <td>0.010870</td>\n",
       "      <td>0.010870</td>\n",
       "      <td>0.000000</td>\n",
       "      <td>0.010870</td>\n",
       "      <td>0.021739</td>\n",
       "      <td>0.000000</td>\n",
       "      <td>0.010870</td>\n",
       "      <td>0.010870</td>\n",
       "      <td>0.010870</td>\n",
       "      <td>0.000000</td>\n",
       "      <td>...</td>\n",
       "      <td>0.000000</td>\n",
       "      <td>0.021739</td>\n",
       "      <td>0.010870</td>\n",
       "      <td>0.000000</td>\n",
       "      <td>0.000000</td>\n",
       "      <td>0.010870</td>\n",
       "      <td>0.010870</td>\n",
       "      <td>0.000000</td>\n",
       "      <td>0.010870</td>\n",
       "      <td>0.010870</td>\n",
       "    </tr>\n",
       "    <tr>\n",
       "      <th>999</th>\n",
       "      <td>0.032609</td>\n",
       "      <td>0.000000</td>\n",
       "      <td>0.021739</td>\n",
       "      <td>0.010870</td>\n",
       "      <td>0.000000</td>\n",
       "      <td>0.000000</td>\n",
       "      <td>0.000000</td>\n",
       "      <td>0.000000</td>\n",
       "      <td>0.021739</td>\n",
       "      <td>0.021739</td>\n",
       "      <td>...</td>\n",
       "      <td>0.000000</td>\n",
       "      <td>0.010870</td>\n",
       "      <td>0.021739</td>\n",
       "      <td>0.000000</td>\n",
       "      <td>0.000000</td>\n",
       "      <td>0.010870</td>\n",
       "      <td>0.000000</td>\n",
       "      <td>0.021739</td>\n",
       "      <td>0.010870</td>\n",
       "      <td>0.021739</td>\n",
       "    </tr>\n",
       "  </tbody>\n",
       "</table>\n",
       "<p>1000 rows × 100 columns</p>\n",
       "</div>"
      ],
      "text/plain": [
       "           0         1         2         3         4         5         6   \\\n",
       "0    0.000000  0.021739  0.000000  0.010870  0.021739  0.010870  0.010870   \n",
       "1    0.000000  0.021739  0.000000  0.021739  0.021739  0.010870  0.010870   \n",
       "2    0.000000  0.000000  0.010870  0.000000  0.000000  0.021739  0.000000   \n",
       "3    0.021739  0.000000  0.000000  0.010870  0.010870  0.010870  0.000000   \n",
       "4    0.010870  0.000000  0.010870  0.021739  0.010870  0.000000  0.000000   \n",
       "..        ...       ...       ...       ...       ...       ...       ...   \n",
       "995  0.000000  0.010870  0.043478  0.010870  0.021739  0.021739  0.021739   \n",
       "996  0.000000  0.010870  0.000000  0.000000  0.021739  0.010870  0.043478   \n",
       "997  0.000000  0.021739  0.032609  0.021739  0.000000  0.000000  0.021739   \n",
       "998  0.010870  0.010870  0.000000  0.010870  0.021739  0.000000  0.010870   \n",
       "999  0.032609  0.000000  0.021739  0.010870  0.000000  0.000000  0.000000   \n",
       "\n",
       "           7         8         9   ...        90        91        92  \\\n",
       "0    0.021739  0.010870  0.000000  ...  0.000000  0.043478  0.000000   \n",
       "1    0.000000  0.010870  0.010870  ...  0.021739  0.021739  0.000000   \n",
       "2    0.000000  0.010870  0.010870  ...  0.010870  0.010870  0.010870   \n",
       "3    0.000000  0.021739  0.032609  ...  0.010870  0.010870  0.000000   \n",
       "4    0.010870  0.000000  0.032609  ...  0.000000  0.000000  0.000000   \n",
       "..        ...       ...       ...  ...       ...       ...       ...   \n",
       "995  0.010870  0.000000  0.010870  ...  0.000000  0.021739  0.010870   \n",
       "996  0.010870  0.000000  0.000000  ...  0.010870  0.000000  0.000000   \n",
       "997  0.000000  0.010870  0.000000  ...  0.021739  0.000000  0.010870   \n",
       "998  0.010870  0.010870  0.000000  ...  0.000000  0.021739  0.010870   \n",
       "999  0.000000  0.021739  0.021739  ...  0.000000  0.010870  0.021739   \n",
       "\n",
       "           93        94        95        96        97        98        99  \n",
       "0    0.000000  0.010870  0.000000  0.000000  0.000000  0.032609  0.000000  \n",
       "1    0.010870  0.010870  0.000000  0.010870  0.010870  0.032609  0.000000  \n",
       "2    0.010870  0.010870  0.000000  0.021739  0.032609  0.000000  0.000000  \n",
       "3    0.010870  0.043478  0.000000  0.021739  0.000000  0.000000  0.010870  \n",
       "4    0.010870  0.010870  0.010870  0.010870  0.000000  0.010870  0.000000  \n",
       "..        ...       ...       ...       ...       ...       ...       ...  \n",
       "995  0.000000  0.010870  0.010870  0.010870  0.000000  0.010870  0.010870  \n",
       "996  0.021739  0.000000  0.021739  0.010870  0.021739  0.000000  0.000000  \n",
       "997  0.000000  0.010870  0.010870  0.000000  0.010870  0.010870  0.000000  \n",
       "998  0.000000  0.000000  0.010870  0.010870  0.000000  0.010870  0.010870  \n",
       "999  0.000000  0.000000  0.010870  0.000000  0.021739  0.010870  0.021739  \n",
       "\n",
       "[1000 rows x 100 columns]"
      ]
     },
     "execution_count": 12,
     "metadata": {},
     "output_type": "execute_result"
    }
   ],
   "source": [
    "X_test_pd = pd.read_csv(home_dir+ \"Xte\" +k + \"_mat100.csv\", header=None, delim_whitespace=True)\n",
    "X_test_pd"
   ]
  },
  {
   "cell_type": "code",
   "execution_count": 13,
   "metadata": {},
   "outputs": [
    {
     "name": "stdout",
     "output_type": "stream",
     "text": [
      "(1000, 100)\n"
     ]
    },
    {
     "data": {
      "text/plain": [
       "array([0.        , 0.02173913, 0.        , 0.01086957, 0.02173913,\n",
       "       0.01086957, 0.01086957, 0.02173913, 0.01086957, 0.        ,\n",
       "       0.        , 0.        , 0.        , 0.01086957, 0.        ,\n",
       "       0.02173913, 0.        , 0.        , 0.01086957, 0.0326087 ,\n",
       "       0.0326087 , 0.        , 0.        , 0.        , 0.        ,\n",
       "       0.        , 0.        , 0.        , 0.0326087 , 0.0326087 ,\n",
       "       0.        , 0.02173913, 0.        , 0.01086957, 0.01086957,\n",
       "       0.02173913, 0.        , 0.        , 0.05434783, 0.        ,\n",
       "       0.01086957, 0.        , 0.        , 0.02173913, 0.        ,\n",
       "       0.        , 0.06521739, 0.02173913, 0.        , 0.        ,\n",
       "       0.02173913, 0.        , 0.        , 0.01086957, 0.02173913,\n",
       "       0.02173913, 0.01086957, 0.02173913, 0.01086957, 0.01086957,\n",
       "       0.        , 0.02173913, 0.        , 0.01086957, 0.01086957,\n",
       "       0.01086957, 0.01086957, 0.01086957, 0.0326087 , 0.        ,\n",
       "       0.02173913, 0.01086957, 0.01086957, 0.        , 0.        ,\n",
       "       0.        , 0.        , 0.        , 0.        , 0.04347826,\n",
       "       0.0326087 , 0.        , 0.0326087 , 0.        , 0.        ,\n",
       "       0.        , 0.        , 0.        , 0.        , 0.        ,\n",
       "       0.        , 0.04347826, 0.        , 0.        , 0.01086957,\n",
       "       0.        , 0.        , 0.        , 0.0326087 , 0.        ])"
      ]
     },
     "execution_count": 13,
     "metadata": {},
     "output_type": "execute_result"
    }
   ],
   "source": [
    "X_test = X_test_pd.to_numpy()\n",
    "print(X_test.shape)\n",
    "X_test[0]"
   ]
  },
  {
   "cell_type": "markdown",
   "metadata": {},
   "source": [
    "## Testing the soundness on a train and validation set"
   ]
  },
  {
   "cell_type": "code",
   "execution_count": 14,
   "metadata": {},
   "outputs": [
    {
     "name": "stdout",
     "output_type": "stream",
     "text": [
      "(1600, 100) (1600,) (400, 100) (400,)\n"
     ]
    }
   ],
   "source": [
    "X_train, X_val, Y_train, Y_val = train_test_split(X, Y, test_size =0.2, shuffle = True, random_state = 0)\n",
    "print(X_train.shape, Y_train.shape, X_val.shape, Y_val.shape)"
   ]
  },
  {
   "cell_type": "code",
   "execution_count": 15,
   "metadata": {},
   "outputs": [
    {
     "name": "stdout",
     "output_type": "stream",
     "text": [
      "[0.16879884]\n"
     ]
    }
   ],
   "source": [
    "# As a heuristic, we use the average squared distance between features for our sigma\n",
    "\n",
    "\"\"\"\n",
    "Computing sigma estimate\n",
    "\"\"\"\n",
    "mu = compute_sigma_heuristic(X_train)\n",
    "print(mu)"
   ]
  },
  {
   "cell_type": "markdown",
   "metadata": {},
   "source": [
    "### Fitting kernel Flows using a custom kernel\n",
    "\n",
    "RBF optimized : 0.595"
   ]
  },
  {
   "cell_type": "code",
   "execution_count": 43,
   "metadata": {},
   "outputs": [],
   "source": [
    "def custom_kernel(matrix_1, matrix_2, parameters):\n",
    "    matrix_norm = norm_matrix(matrix_1, matrix_2)\n",
    "    #matrix_inner = inner_matrix(matrix_1, matrix_2)\n",
    "    \n",
    "    epsilon = 1e-8\n",
    "    \n",
    "    # Gaussian\n",
    "    alpha_1 = parameters[0]\n",
    "    sigma_1 = parameters[1]\n",
    "    K = alpha_1**2*np.exp(-matrix_norm/ (sigma_1**2))\n",
    "    \n",
    "    # Rational quadratic\n",
    "    alpha_4 = parameters[2]\n",
    "    beta_RQ = parameters[3]\n",
    "    alpha_RQ = parameters[4]\n",
    "    K += alpha_4**2 *(beta_RQ**2 + matrix_norm)**(-(alpha_RQ**2 + epsilon))\n",
    "    \n",
    "    # Cauchy\n",
    "    alpha_5 = parameters[5]\n",
    "    sigma_cauchy = parameters[6]\n",
    "    K += alpha_5**2/(1 + matrix_norm/sigma_cauchy**2)\n",
    "    \n",
    "    return K "
   ]
  },
  {
   "cell_type": "code",
   "execution_count": 16,
   "metadata": {},
   "outputs": [],
   "source": [
    "def custom_kernel(matrix_1, matrix_2, parameters):\n",
    "    matrix_norm = norm_matrix(matrix_1, matrix_2)\n",
    "    matrix_inner = inner_matrix(matrix_1, matrix_2)\n",
    "    \n",
    "    epsilon = 1e-8\n",
    "    total_mass = 0\n",
    "    # Gaussian\n",
    "    alpha_1 = parameters[0]\n",
    "    sigma_1 = parameters[1]\n",
    "    K = alpha_1**2*np.exp(-matrix_norm/ (sigma_1**2))\n",
    "    total_mass += alpha_1**2\n",
    "    \n",
    "    # Rational quadratic\n",
    "    alpha_4 = parameters[2]\n",
    "    beta_RQ = parameters[3]\n",
    "    alpha_RQ = parameters[4]\n",
    "    K += alpha_4**2 *(beta_RQ**2 + matrix_norm)**(-(alpha_RQ**2 + epsilon))\n",
    "    total_mass += alpha_4**2\n",
    "    \n",
    "    \n",
    "    # Cauchy\n",
    "    alpha_5 = parameters[5]\n",
    "    sigma_cauchy = parameters[6]\n",
    "    K += alpha_5**2/(1 + matrix_norm/sigma_cauchy**2)\n",
    "    total_mass += alpha_5**2\n",
    "    \n",
    "    # Polynomial\n",
    "    alpha_6 = parameters[6]\n",
    "    K += alpha_6**2*matrix_inner**3\n",
    "    total_mass += alpha_6**2\n",
    "    \n",
    "    # Laplacian\n",
    "    alpha_7 = parameters[7]\n",
    "    sigma_2 = parameters[8]\n",
    "    K += alpha_7**2*np.exp(-np.sqrt(np.absolute(matrix_norm))/sigma_2**2)\n",
    "    \n",
    "    total_mass += alpha_7**2\n",
    "    \n",
    "    return K/total_mass"
   ]
  },
  {
   "cell_type": "code",
   "execution_count": 50,
   "metadata": {},
   "outputs": [
    {
     "name": "stdout",
     "output_type": "stream",
     "text": [
      "Iteration  0\n",
      "Iteration  100\n",
      "Iteration  200\n",
      "Iteration  300\n",
      "Iteration  400\n"
     ]
    }
   ],
   "source": [
    "#Initialize all parameters to 1.0\n",
    "reg = 1e-5\n",
    "parameters = np.ones(9).astype(\"float\")\n",
    "parameters[4] = np.sqrt(2)\n",
    "K = KernelFlowsPAutograd(\"custom\",parameters, custom_kernel)\n",
    "mu_pred = K.fit(X_train, Y_train, 500, optimizer = \"Nesterov\",  batch_size = 0.5, show_it = 100, reg = reg)"
   ]
  },
  {
   "cell_type": "code",
   "execution_count": 51,
   "metadata": {},
   "outputs": [
    {
     "data": {
      "text/plain": [
       "(500, 5)"
      ]
     },
     "execution_count": 51,
     "metadata": {},
     "output_type": "execute_result"
    }
   ],
   "source": [
    "weights = [0, 2, 5, 6, 7]\n",
    "weights_hist = K.para_hist[:, weights]\n",
    "weights_hist.shape"
   ]
  },
  {
   "cell_type": "code",
   "execution_count": 52,
   "metadata": {},
   "outputs": [
    {
     "data": {
      "text/plain": [
       "array([-0.07316506,  0.37765835, -0.07300852,  1.15609497,  2.30470206])"
      ]
     },
     "execution_count": 52,
     "metadata": {},
     "output_type": "execute_result"
    }
   ],
   "source": [
    "weights_hist[-1]"
   ]
  },
  {
   "cell_type": "code",
   "execution_count": 53,
   "metadata": {},
   "outputs": [
    {
     "data": {
      "text/plain": [
       "(500,)"
      ]
     },
     "execution_count": 53,
     "metadata": {},
     "output_type": "execute_result"
    }
   ],
   "source": [
    "total_mass = np.sum(weights_hist**2, axis = -1)\n",
    "total_mass.shape"
   ]
  },
  {
   "cell_type": "code",
   "execution_count": 54,
   "metadata": {},
   "outputs": [
    {
     "data": {
      "text/plain": [
       "<matplotlib.legend.Legend at 0x21bdd7eeda0>"
      ]
     },
     "execution_count": 54,
     "metadata": {},
     "output_type": "execute_result"
    },
    {
     "data": {
      "image/png": "[encoded data removed]",
      "text/plain": [
       "<Figure size 720x576 with 1 Axes>"
      ]
     },
     "metadata": {
      "needs_background": "light"
     },
     "output_type": "display_data"
    }
   ],
   "source": [
    "plt.figure(figsize = (10,8))\n",
    "plt.title(\"The weights of each kernel\", size = 25)\n",
    "plt.xlabel(\"Iteration\", size = 25)\n",
    "plt.ylabel(\"Weight\", size = 25)\n",
    "names = [\"Gaussian\", \"Rational Quadratic\", \" Cauchy\", \"Polynomial\", \"Laplacian\"]\n",
    "for i in range(weights_hist.shape[-1]):\n",
    "    plt.plot(np.abs(weights_hist[:, i])/total_mass, label = names[i])\n",
    "    \n",
    "plt.legend(prop={'size': 20})"
   ]
  },
  {
   "cell_type": "code",
   "execution_count": 49,
   "metadata": {},
   "outputs": [
    {
     "data": {
      "text/plain": [
       "<matplotlib.legend.Legend at 0x21bde5276a0>"
      ]
     },
     "execution_count": 49,
     "metadata": {},
     "output_type": "execute_result"
    },
    {
     "data": {
      "image/png": "[encoded data removed]",
      "text/plain": [
       "<Figure size 720x576 with 1 Axes>"
      ]
     },
     "metadata": {
      "needs_background": "light"
     },
     "output_type": "display_data"
    }
   ],
   "source": [
    "plt.figure(figsize = (10,8))\n",
    "plt.title(\"The weights of each kernel\", size = 25)\n",
    "plt.xlabel(\"Iteration\", size = 25)\n",
    "plt.ylabel(\"Weight\", size = 25)\n",
    "names = [\"Gaussian\", \"Rational Quadratic\", \" Cauchy\", \"Polynomial\", \"Laplacian\"]\n",
    "for i in range(weights_hist.shape[-1]):\n",
    "    plt.plot(np.abs(weights_hist[:, i])/total_mass, label = names[i])\n",
    "    \n",
    "plt.legend(prop={'size': 20})"
   ]
  },
  {
   "cell_type": "code",
   "execution_count": 50,
   "metadata": {},
   "outputs": [
    {
     "name": "stdout",
     "output_type": "stream",
     "text": [
      "Iteration  0\n",
      "Iteration  100\n",
      "Iteration  200\n",
      "Iteration  300\n",
      "Iteration  400\n"
     ]
    }
   ],
   "source": [
    "#Initialize all parameters to 1.0\n",
    "reg = 1e-5\n",
    "parameters = np.ones(7).astype(\"float\")\n",
    "K = KernelFlowsPAutograd(\"custom\",parameters, custom_kernel)\n",
    "mu_pred = K.fit(X_train, Y_train, 500, optimizer = \"Nesterov\",  batch_size = 0.5, show_it = 100, reg = reg)"
   ]
  },
  {
   "cell_type": "code",
   "execution_count": 51,
   "metadata": {},
   "outputs": [
    {
     "data": {
      "text/plain": [
       "array([ 0.0045598 ,  1.40555714,  0.37448915, -2.38564736,  2.44805434,\n",
       "       -1.11260395, -3.54664707])"
      ]
     },
     "execution_count": 51,
     "metadata": {},
     "output_type": "execute_result"
    }
   ],
   "source": [
    "mu_pred"
   ]
  },
  {
   "cell_type": "code",
   "execution_count": 52,
   "metadata": {},
   "outputs": [
    {
     "data": {
      "text/plain": [
       "[<matplotlib.lines.Line2D at 0x1f659ffcef0>]"
      ]
     },
     "execution_count": 52,
     "metadata": {},
     "output_type": "execute_result"
    },
    {
     "data": {
      "image/png": "[encoded data removed]",
      "text/plain": [
       "<Figure size 432x288 with 1 Axes>"
      ]
     },
     "metadata": {
      "needs_background": "light"
     },
     "output_type": "display_data"
    }
   ],
   "source": [
    "plt.plot(K.rho_values)"
   ]
  },
  {
   "cell_type": "code",
   "execution_count": 53,
   "metadata": {},
   "outputs": [
    {
     "data": {
      "text/plain": [
       "0.6175"
      ]
     },
     "execution_count": 53,
     "metadata": {},
     "output_type": "execute_result"
    }
   ],
   "source": [
    "# Making a prediction\n",
    "\n",
    "pred_KF = K.predict(X_val, reg = reg)\n",
    "\n",
    "pred_KF = pred_to_class(pred_KF)\n",
    "acc(pred_KF, Y_val)"
   ]
  },
  {
   "cell_type": "code",
   "execution_count": 45,
   "metadata": {},
   "outputs": [
    {
     "name": "stdout",
     "output_type": "stream",
     "text": [
      "Iteration  0\n",
      "Iteration  100\n",
      "Iteration  200\n"
     ]
    }
   ],
   "source": [
    "#Initialize all parameters to 1.0\n",
    "reg = 1e-5\n",
    "parameters = np.ones(7).astype(\"float\")\n",
    "K = KernelFlowsPAutograd(\"custom\",parameters, custom_kernel)\n",
    "mu_pred = K.fit(X_train, Y_train, 300, optimizer = \"Nesterov\",  batch_size = 0.5, show_it = 100, reg = reg)"
   ]
  },
  {
   "cell_type": "code",
   "execution_count": 46,
   "metadata": {},
   "outputs": [
    {
     "data": {
      "text/plain": [
       "array([ 0.89913654,  1.12691032,  0.97863576, -0.30172769,  4.44848937,\n",
       "        0.95943483,  0.64243942])"
      ]
     },
     "execution_count": 46,
     "metadata": {},
     "output_type": "execute_result"
    }
   ],
   "source": [
    "mu_pred"
   ]
  },
  {
   "cell_type": "code",
   "execution_count": 47,
   "metadata": {},
   "outputs": [
    {
     "data": {
      "text/plain": [
       "[<matplotlib.lines.Line2D at 0x1f658236390>]"
      ]
     },
     "execution_count": 47,
     "metadata": {},
     "output_type": "execute_result"
    },
    {
     "data": {
      "image/png": "[encoded data removed]",
      "text/plain": [
       "<Figure size 432x288 with 1 Axes>"
      ]
     },
     "metadata": {
      "needs_background": "light"
     },
     "output_type": "display_data"
    }
   ],
   "source": [
    "plt.plot(K.rho_values)"
   ]
  },
  {
   "cell_type": "code",
   "execution_count": 48,
   "metadata": {},
   "outputs": [
    {
     "data": {
      "text/plain": [
       "0.585"
      ]
     },
     "execution_count": 48,
     "metadata": {},
     "output_type": "execute_result"
    }
   ],
   "source": [
    "# Making a prediction\n",
    "\n",
    "pred_KF = K.predict(X_val, reg = reg)\n",
    "\n",
    "pred_KF = pred_to_class(pred_KF)\n",
    "acc(pred_KF, Y_val)"
   ]
  },
  {
   "cell_type": "code",
   "execution_count": 47,
   "metadata": {},
   "outputs": [],
   "source": [
    "KR = KernelRegression(\"RBF\", mu)\n",
    "KR.fit(X_train, Y_train,  reg = reg)\n",
    "pred_val = KR.predict(X_val)"
   ]
  },
  {
   "cell_type": "code",
   "execution_count": 47,
   "metadata": {},
   "outputs": [],
   "source": [
    "KR = KernelRegression(\"RBF\", mu)\n",
    "KR.fit(X_train, Y_train,  reg = reg)\n",
    "pred_val = KR.predict(X_val)"
   ]
  },
  {
   "cell_type": "code",
   "execution_count": 50,
   "metadata": {},
   "outputs": [],
   "source": [
    "# Checking that our implementation gives the same answer\n",
    "np1.testing.assert_almost_equal(pred_SK, pred_val)"
   ]
  },
  {
   "cell_type": "code",
   "execution_count": 51,
   "metadata": {
    "scrolled": true
   },
   "outputs": [],
   "source": [
    "pred_val = pred_to_class(pred_val)"
   ]
  },
  {
   "cell_type": "code",
   "execution_count": 52,
   "metadata": {},
   "outputs": [
    {
     "data": {
      "text/plain": [
       "0.5775"
      ]
     },
     "execution_count": 52,
     "metadata": {},
     "output_type": "execute_result"
    }
   ],
   "source": [
    "acc(pred_val, Y_val)"
   ]
  },
  {
   "cell_type": "markdown",
   "metadata": {},
   "source": [
    "## Final prediction on the test set"
   ]
  },
  {
   "cell_type": "code",
   "execution_count": 54,
   "metadata": {},
   "outputs": [
    {
     "name": "stdout",
     "output_type": "stream",
     "text": [
      "Iteration  0\n",
      "Iteration  100\n",
      "Iteration  200\n",
      "Iteration  300\n",
      "Iteration  400\n"
     ]
    }
   ],
   "source": [
    "#Initialize all parameters to 1.0\n",
    "reg = 1e-5\n",
    "parameters = np.ones(7).astype(\"float\")\n",
    "K = KernelFlowsPAutograd(\"custom\",parameters, custom_kernel)\n",
    "mu_pred = K.fit(X, Y, 500, optimizer = \"Nesterov\",  batch_size = 0.5, show_it = 100, reg = reg)"
   ]
  },
  {
   "cell_type": "code",
   "execution_count": 58,
   "metadata": {},
   "outputs": [
    {
     "data": {
      "text/plain": [
       "array([ 7.45020914e-02,  1.75664314e+00, -1.00192793e-04,  1.43371430e+00,\n",
       "        9.20994659e-01,  2.43723673e-01,  3.24378914e+00])"
      ]
     },
     "execution_count": 58,
     "metadata": {},
     "output_type": "execute_result"
    }
   ],
   "source": [
    "mu_pred"
   ]
  },
  {
   "cell_type": "code",
   "execution_count": 59,
   "metadata": {},
   "outputs": [
    {
     "data": {
      "text/plain": [
       "[<matplotlib.lines.Line2D at 0x1f65d08d978>]"
      ]
     },
     "execution_count": 59,
     "metadata": {},
     "output_type": "execute_result"
    },
    {
     "data": {
      "image/png": "[encoded data removed]",
      "text/plain": [
       "<Figure size 432x288 with 1 Axes>"
      ]
     },
     "metadata": {
      "needs_background": "light"
     },
     "output_type": "display_data"
    }
   ],
   "source": [
    "plt.plot(K.rho_values)"
   ]
  },
  {
   "cell_type": "code",
   "execution_count": 60,
   "metadata": {},
   "outputs": [],
   "source": [
    "pred_KF_test_0 = K.predict(X_test, reg = reg)\n",
    "pred_KF_test_0 = pred_to_class(pred_KF_test_0)\n",
    "\n",
    "pred_KF_test_0 = np.vstack((np.arange(pred_KF_test_0.shape[0]), pred_KF_test_0)).T"
   ]
  },
  {
   "cell_type": "code",
   "execution_count": 61,
   "metadata": {},
   "outputs": [
    {
     "data": {
      "text/plain": [
       "array([[  0.,   1.],\n",
       "       [  1.,   1.],\n",
       "       [  2.,   1.],\n",
       "       ...,\n",
       "       [997.,   1.],\n",
       "       [998.,   0.],\n",
       "       [999.,   0.]])"
      ]
     },
     "execution_count": 61,
     "metadata": {},
     "output_type": "execute_result"
    }
   ],
   "source": [
    "pred_KF_test_0"
   ]
  },
  {
   "cell_type": "markdown",
   "metadata": {},
   "source": [
    "# K = 1"
   ]
  },
  {
   "cell_type": "markdown",
   "metadata": {},
   "source": [
    "## Importing all the data\n",
    "\n",
    "### Raw data"
   ]
  },
  {
   "cell_type": "code",
   "execution_count": 62,
   "metadata": {},
   "outputs": [
    {
     "data": {
      "text/html": [
       "<div>\n",
       "<style scoped>\n",
       "    .dataframe tbody tr th:only-of-type {\n",
       "        vertical-align: middle;\n",
       "    }\n",
       "\n",
       "    .dataframe tbody tr th {\n",
       "        vertical-align: top;\n",
       "    }\n",
       "\n",
       "    .dataframe thead th {\n",
       "        text-align: right;\n",
       "    }\n",
       "</style>\n",
       "<table border=\"1\" class=\"dataframe\">\n",
       "  <thead>\n",
       "    <tr style=\"text-align: right;\">\n",
       "      <th></th>\n",
       "      <th>Id</th>\n",
       "      <th>seq</th>\n",
       "    </tr>\n",
       "  </thead>\n",
       "  <tbody>\n",
       "    <tr>\n",
       "      <th>0</th>\n",
       "      <td>2000</td>\n",
       "      <td>AGAAATGAAAGTCATCCAAATAGGAAGAGAAGGAGTCAAAATATCC...</td>\n",
       "    </tr>\n",
       "    <tr>\n",
       "      <th>1</th>\n",
       "      <td>2001</td>\n",
       "      <td>TTCTCTCCAGCACTCTTGTCACCAACTCACATACCATACAGTTTAC...</td>\n",
       "    </tr>\n",
       "    <tr>\n",
       "      <th>2</th>\n",
       "      <td>2002</td>\n",
       "      <td>ACAGCTGACAAGCAGAACCCAGGGTCACAAGGATCCCATTCATGTG...</td>\n",
       "    </tr>\n",
       "    <tr>\n",
       "      <th>3</th>\n",
       "      <td>2003</td>\n",
       "      <td>CAAACTTTTCTATGTTTAGCCATGTGTTAATTAATAAGAAATGTTC...</td>\n",
       "    </tr>\n",
       "    <tr>\n",
       "      <th>4</th>\n",
       "      <td>2004</td>\n",
       "      <td>CTTCGTGGTTGGTCAAGAACGGCAGGAGGTATTTGCCCATCGGTGC...</td>\n",
       "    </tr>\n",
       "    <tr>\n",
       "      <th>...</th>\n",
       "      <td>...</td>\n",
       "      <td>...</td>\n",
       "    </tr>\n",
       "    <tr>\n",
       "      <th>1995</th>\n",
       "      <td>3995</td>\n",
       "      <td>TCTTCCTCTGGAGTAGGTGGAGTTTATATCCCTGCTCTCCTCCCCT...</td>\n",
       "    </tr>\n",
       "    <tr>\n",
       "      <th>1996</th>\n",
       "      <td>3996</td>\n",
       "      <td>AATGAGATGTTATGCATATTTCAGATTTTTTTCATTTACAAAGGAA...</td>\n",
       "    </tr>\n",
       "    <tr>\n",
       "      <th>1997</th>\n",
       "      <td>3997</td>\n",
       "      <td>CAGCGCTCCCGCCCACCCTCCGGTCTCGGCGGCTCTCCAGAGCGTC...</td>\n",
       "    </tr>\n",
       "    <tr>\n",
       "      <th>1998</th>\n",
       "      <td>3998</td>\n",
       "      <td>CTGTGCGTAGAACAGAGAAAATTAGGAACTGTCCCTTTAATAAAAC...</td>\n",
       "    </tr>\n",
       "    <tr>\n",
       "      <th>1999</th>\n",
       "      <td>3999</td>\n",
       "      <td>GGGCAAAGGTATTAAATTTAGGCTTAAAAGCTCCTCAGAAATTCTT...</td>\n",
       "    </tr>\n",
       "  </tbody>\n",
       "</table>\n",
       "<p>2000 rows × 2 columns</p>\n",
       "</div>"
      ],
      "text/plain": [
       "        Id                                                seq\n",
       "0     2000  AGAAATGAAAGTCATCCAAATAGGAAGAGAAGGAGTCAAAATATCC...\n",
       "1     2001  TTCTCTCCAGCACTCTTGTCACCAACTCACATACCATACAGTTTAC...\n",
       "2     2002  ACAGCTGACAAGCAGAACCCAGGGTCACAAGGATCCCATTCATGTG...\n",
       "3     2003  CAAACTTTTCTATGTTTAGCCATGTGTTAATTAATAAGAAATGTTC...\n",
       "4     2004  CTTCGTGGTTGGTCAAGAACGGCAGGAGGTATTTGCCCATCGGTGC...\n",
       "...    ...                                                ...\n",
       "1995  3995  TCTTCCTCTGGAGTAGGTGGAGTTTATATCCCTGCTCTCCTCCCCT...\n",
       "1996  3996  AATGAGATGTTATGCATATTTCAGATTTTTTTCATTTACAAAGGAA...\n",
       "1997  3997  CAGCGCTCCCGCCCACCCTCCGGTCTCGGCGGCTCTCCAGAGCGTC...\n",
       "1998  3998  CTGTGCGTAGAACAGAGAAAATTAGGAACTGTCCCTTTAATAAAAC...\n",
       "1999  3999  GGGCAAAGGTATTAAATTTAGGCTTAAAAGCTCCTCAGAAATTCTT...\n",
       "\n",
       "[2000 rows x 2 columns]"
      ]
     },
     "execution_count": 62,
     "metadata": {},
     "output_type": "execute_result"
    }
   ],
   "source": [
    "home_dir = \"D:/Documents/University/MVA/Kernel Methods/mva-KMML-challenge/data/\"\n",
    "k_int = 1\n",
    "k = str(k_int)\n",
    "\n",
    "X_raw_train = pd.read_csv(home_dir+ \"Xtr\" + k + \".csv\")\n",
    "X_raw_train"
   ]
  },
  {
   "cell_type": "code",
   "execution_count": 63,
   "metadata": {},
   "outputs": [
    {
     "data": {
      "text/html": [
       "<div>\n",
       "<style scoped>\n",
       "    .dataframe tbody tr th:only-of-type {\n",
       "        vertical-align: middle;\n",
       "    }\n",
       "\n",
       "    .dataframe tbody tr th {\n",
       "        vertical-align: top;\n",
       "    }\n",
       "\n",
       "    .dataframe thead th {\n",
       "        text-align: right;\n",
       "    }\n",
       "</style>\n",
       "<table border=\"1\" class=\"dataframe\">\n",
       "  <thead>\n",
       "    <tr style=\"text-align: right;\">\n",
       "      <th></th>\n",
       "      <th>Id</th>\n",
       "      <th>seq</th>\n",
       "    </tr>\n",
       "  </thead>\n",
       "  <tbody>\n",
       "    <tr>\n",
       "      <th>0</th>\n",
       "      <td>1000</td>\n",
       "      <td>GCCAGAATTTATAATGATTTCATTTTTTTTAAAACTTGATGCTCAA...</td>\n",
       "    </tr>\n",
       "    <tr>\n",
       "      <th>1</th>\n",
       "      <td>1001</td>\n",
       "      <td>ATGCCTCTAGACCCTTGCCCTACCCACATGTATTTCCTGCTGATGT...</td>\n",
       "    </tr>\n",
       "    <tr>\n",
       "      <th>2</th>\n",
       "      <td>1002</td>\n",
       "      <td>ACACGGTGCACCCAACTGAATTTAAACTCGGGAACAGTGTAGGCAG...</td>\n",
       "    </tr>\n",
       "    <tr>\n",
       "      <th>3</th>\n",
       "      <td>1003</td>\n",
       "      <td>TGCTGATAGTGTGAGCCACCATGCCCAGCCCAGATGTTTTTTTGAT...</td>\n",
       "    </tr>\n",
       "    <tr>\n",
       "      <th>4</th>\n",
       "      <td>1004</td>\n",
       "      <td>AGAGAAAAGCAGCTGTTTGGTTCACTGTTCTCATTAGCATTTATAT...</td>\n",
       "    </tr>\n",
       "    <tr>\n",
       "      <th>...</th>\n",
       "      <td>...</td>\n",
       "      <td>...</td>\n",
       "    </tr>\n",
       "    <tr>\n",
       "      <th>995</th>\n",
       "      <td>1995</td>\n",
       "      <td>CATATCCCAATTTGCCCACTAGAGGTAGCCATTATCTTGAAATCTT...</td>\n",
       "    </tr>\n",
       "    <tr>\n",
       "      <th>996</th>\n",
       "      <td>1996</td>\n",
       "      <td>CAAGAGCGAGACTCCTTCTCAAGAAAAAAAAAAAACCAACCAGTAG...</td>\n",
       "    </tr>\n",
       "    <tr>\n",
       "      <th>997</th>\n",
       "      <td>1997</td>\n",
       "      <td>CCAGGATGGGCTACAGAGCGAGACTCCGTCTCAAAGGAAAACAAAA...</td>\n",
       "    </tr>\n",
       "    <tr>\n",
       "      <th>998</th>\n",
       "      <td>1998</td>\n",
       "      <td>TGGAGGATGAACAGGAACAATACAACCCCAGGCTGAGCACAGTGCT...</td>\n",
       "    </tr>\n",
       "    <tr>\n",
       "      <th>999</th>\n",
       "      <td>1999</td>\n",
       "      <td>TGGAGCTTTGAGTGGGAGGGGAAAAAAAAAACTACCCAAGAAAAAA...</td>\n",
       "    </tr>\n",
       "  </tbody>\n",
       "</table>\n",
       "<p>1000 rows × 2 columns</p>\n",
       "</div>"
      ],
      "text/plain": [
       "       Id                                                seq\n",
       "0    1000  GCCAGAATTTATAATGATTTCATTTTTTTTAAAACTTGATGCTCAA...\n",
       "1    1001  ATGCCTCTAGACCCTTGCCCTACCCACATGTATTTCCTGCTGATGT...\n",
       "2    1002  ACACGGTGCACCCAACTGAATTTAAACTCGGGAACAGTGTAGGCAG...\n",
       "3    1003  TGCTGATAGTGTGAGCCACCATGCCCAGCCCAGATGTTTTTTTGAT...\n",
       "4    1004  AGAGAAAAGCAGCTGTTTGGTTCACTGTTCTCATTAGCATTTATAT...\n",
       "..    ...                                                ...\n",
       "995  1995  CATATCCCAATTTGCCCACTAGAGGTAGCCATTATCTTGAAATCTT...\n",
       "996  1996  CAAGAGCGAGACTCCTTCTCAAGAAAAAAAAAAAACCAACCAGTAG...\n",
       "997  1997  CCAGGATGGGCTACAGAGCGAGACTCCGTCTCAAAGGAAAACAAAA...\n",
       "998  1998  TGGAGGATGAACAGGAACAATACAACCCCAGGCTGAGCACAGTGCT...\n",
       "999  1999  TGGAGCTTTGAGTGGGAGGGGAAAAAAAAAACTACCCAAGAAAAAA...\n",
       "\n",
       "[1000 rows x 2 columns]"
      ]
     },
     "execution_count": 63,
     "metadata": {},
     "output_type": "execute_result"
    }
   ],
   "source": [
    "test_pd = pd.read_csv(home_dir+ \"Xte\" + k + \".csv\")\n",
    "test_pd"
   ]
  },
  {
   "cell_type": "markdown",
   "metadata": {},
   "source": [
    "### Train data"
   ]
  },
  {
   "cell_type": "code",
   "execution_count": 64,
   "metadata": {},
   "outputs": [
    {
     "data": {
      "text/html": [
       "<div>\n",
       "<style scoped>\n",
       "    .dataframe tbody tr th:only-of-type {\n",
       "        vertical-align: middle;\n",
       "    }\n",
       "\n",
       "    .dataframe tbody tr th {\n",
       "        vertical-align: top;\n",
       "    }\n",
       "\n",
       "    .dataframe thead th {\n",
       "        text-align: right;\n",
       "    }\n",
       "</style>\n",
       "<table border=\"1\" class=\"dataframe\">\n",
       "  <thead>\n",
       "    <tr style=\"text-align: right;\">\n",
       "      <th></th>\n",
       "      <th>0</th>\n",
       "      <th>1</th>\n",
       "      <th>2</th>\n",
       "      <th>3</th>\n",
       "      <th>4</th>\n",
       "      <th>5</th>\n",
       "      <th>6</th>\n",
       "      <th>7</th>\n",
       "      <th>8</th>\n",
       "      <th>9</th>\n",
       "      <th>...</th>\n",
       "      <th>90</th>\n",
       "      <th>91</th>\n",
       "      <th>92</th>\n",
       "      <th>93</th>\n",
       "      <th>94</th>\n",
       "      <th>95</th>\n",
       "      <th>96</th>\n",
       "      <th>97</th>\n",
       "      <th>98</th>\n",
       "      <th>99</th>\n",
       "    </tr>\n",
       "  </thead>\n",
       "  <tbody>\n",
       "    <tr>\n",
       "      <th>0</th>\n",
       "      <td>0.000000</td>\n",
       "      <td>0.000000</td>\n",
       "      <td>0.010870</td>\n",
       "      <td>0.010870</td>\n",
       "      <td>0.000000</td>\n",
       "      <td>0.021739</td>\n",
       "      <td>0.032609</td>\n",
       "      <td>0.021739</td>\n",
       "      <td>0.000000</td>\n",
       "      <td>0.021739</td>\n",
       "      <td>...</td>\n",
       "      <td>0.000000</td>\n",
       "      <td>0.021739</td>\n",
       "      <td>0.021739</td>\n",
       "      <td>0.065217</td>\n",
       "      <td>0.000000</td>\n",
       "      <td>0.000000</td>\n",
       "      <td>0.032609</td>\n",
       "      <td>0.043478</td>\n",
       "      <td>0.021739</td>\n",
       "      <td>0.010870</td>\n",
       "    </tr>\n",
       "    <tr>\n",
       "      <th>1</th>\n",
       "      <td>0.010870</td>\n",
       "      <td>0.000000</td>\n",
       "      <td>0.000000</td>\n",
       "      <td>0.000000</td>\n",
       "      <td>0.043478</td>\n",
       "      <td>0.010870</td>\n",
       "      <td>0.010870</td>\n",
       "      <td>0.000000</td>\n",
       "      <td>0.000000</td>\n",
       "      <td>0.000000</td>\n",
       "      <td>...</td>\n",
       "      <td>0.000000</td>\n",
       "      <td>0.000000</td>\n",
       "      <td>0.021739</td>\n",
       "      <td>0.021739</td>\n",
       "      <td>0.010870</td>\n",
       "      <td>0.000000</td>\n",
       "      <td>0.000000</td>\n",
       "      <td>0.032609</td>\n",
       "      <td>0.021739</td>\n",
       "      <td>0.010870</td>\n",
       "    </tr>\n",
       "    <tr>\n",
       "      <th>2</th>\n",
       "      <td>0.021739</td>\n",
       "      <td>0.000000</td>\n",
       "      <td>0.000000</td>\n",
       "      <td>0.021739</td>\n",
       "      <td>0.000000</td>\n",
       "      <td>0.010870</td>\n",
       "      <td>0.021739</td>\n",
       "      <td>0.010870</td>\n",
       "      <td>0.000000</td>\n",
       "      <td>0.021739</td>\n",
       "      <td>...</td>\n",
       "      <td>0.010870</td>\n",
       "      <td>0.010870</td>\n",
       "      <td>0.000000</td>\n",
       "      <td>0.010870</td>\n",
       "      <td>0.000000</td>\n",
       "      <td>0.000000</td>\n",
       "      <td>0.021739</td>\n",
       "      <td>0.000000</td>\n",
       "      <td>0.021739</td>\n",
       "      <td>0.010870</td>\n",
       "    </tr>\n",
       "    <tr>\n",
       "      <th>3</th>\n",
       "      <td>0.000000</td>\n",
       "      <td>0.000000</td>\n",
       "      <td>0.000000</td>\n",
       "      <td>0.021739</td>\n",
       "      <td>0.000000</td>\n",
       "      <td>0.010870</td>\n",
       "      <td>0.000000</td>\n",
       "      <td>0.010870</td>\n",
       "      <td>0.000000</td>\n",
       "      <td>0.000000</td>\n",
       "      <td>...</td>\n",
       "      <td>0.021739</td>\n",
       "      <td>0.000000</td>\n",
       "      <td>0.010870</td>\n",
       "      <td>0.010870</td>\n",
       "      <td>0.000000</td>\n",
       "      <td>0.000000</td>\n",
       "      <td>0.010870</td>\n",
       "      <td>0.010870</td>\n",
       "      <td>0.021739</td>\n",
       "      <td>0.000000</td>\n",
       "    </tr>\n",
       "    <tr>\n",
       "      <th>4</th>\n",
       "      <td>0.000000</td>\n",
       "      <td>0.010870</td>\n",
       "      <td>0.000000</td>\n",
       "      <td>0.010870</td>\n",
       "      <td>0.000000</td>\n",
       "      <td>0.000000</td>\n",
       "      <td>0.010870</td>\n",
       "      <td>0.021739</td>\n",
       "      <td>0.000000</td>\n",
       "      <td>0.021739</td>\n",
       "      <td>...</td>\n",
       "      <td>0.000000</td>\n",
       "      <td>0.000000</td>\n",
       "      <td>0.010870</td>\n",
       "      <td>0.000000</td>\n",
       "      <td>0.000000</td>\n",
       "      <td>0.000000</td>\n",
       "      <td>0.000000</td>\n",
       "      <td>0.010870</td>\n",
       "      <td>0.021739</td>\n",
       "      <td>0.010870</td>\n",
       "    </tr>\n",
       "    <tr>\n",
       "      <th>...</th>\n",
       "      <td>...</td>\n",
       "      <td>...</td>\n",
       "      <td>...</td>\n",
       "      <td>...</td>\n",
       "      <td>...</td>\n",
       "      <td>...</td>\n",
       "      <td>...</td>\n",
       "      <td>...</td>\n",
       "      <td>...</td>\n",
       "      <td>...</td>\n",
       "      <td>...</td>\n",
       "      <td>...</td>\n",
       "      <td>...</td>\n",
       "      <td>...</td>\n",
       "      <td>...</td>\n",
       "      <td>...</td>\n",
       "      <td>...</td>\n",
       "      <td>...</td>\n",
       "      <td>...</td>\n",
       "      <td>...</td>\n",
       "      <td>...</td>\n",
       "    </tr>\n",
       "    <tr>\n",
       "      <th>1995</th>\n",
       "      <td>0.010870</td>\n",
       "      <td>0.000000</td>\n",
       "      <td>0.000000</td>\n",
       "      <td>0.000000</td>\n",
       "      <td>0.000000</td>\n",
       "      <td>0.000000</td>\n",
       "      <td>0.010870</td>\n",
       "      <td>0.032609</td>\n",
       "      <td>0.032609</td>\n",
       "      <td>0.010870</td>\n",
       "      <td>...</td>\n",
       "      <td>0.000000</td>\n",
       "      <td>0.032609</td>\n",
       "      <td>0.010870</td>\n",
       "      <td>0.010870</td>\n",
       "      <td>0.021739</td>\n",
       "      <td>0.021739</td>\n",
       "      <td>0.000000</td>\n",
       "      <td>0.000000</td>\n",
       "      <td>0.010870</td>\n",
       "      <td>0.021739</td>\n",
       "    </tr>\n",
       "    <tr>\n",
       "      <th>1996</th>\n",
       "      <td>0.021739</td>\n",
       "      <td>0.000000</td>\n",
       "      <td>0.000000</td>\n",
       "      <td>0.010870</td>\n",
       "      <td>0.054348</td>\n",
       "      <td>0.010870</td>\n",
       "      <td>0.021739</td>\n",
       "      <td>0.010870</td>\n",
       "      <td>0.000000</td>\n",
       "      <td>0.000000</td>\n",
       "      <td>...</td>\n",
       "      <td>0.010870</td>\n",
       "      <td>0.000000</td>\n",
       "      <td>0.010870</td>\n",
       "      <td>0.021739</td>\n",
       "      <td>0.010870</td>\n",
       "      <td>0.000000</td>\n",
       "      <td>0.000000</td>\n",
       "      <td>0.043478</td>\n",
       "      <td>0.010870</td>\n",
       "      <td>0.010870</td>\n",
       "    </tr>\n",
       "    <tr>\n",
       "      <th>1997</th>\n",
       "      <td>0.010870</td>\n",
       "      <td>0.000000</td>\n",
       "      <td>0.010870</td>\n",
       "      <td>0.000000</td>\n",
       "      <td>0.000000</td>\n",
       "      <td>0.000000</td>\n",
       "      <td>0.000000</td>\n",
       "      <td>0.000000</td>\n",
       "      <td>0.054348</td>\n",
       "      <td>0.043478</td>\n",
       "      <td>...</td>\n",
       "      <td>0.010870</td>\n",
       "      <td>0.010870</td>\n",
       "      <td>0.000000</td>\n",
       "      <td>0.000000</td>\n",
       "      <td>0.010870</td>\n",
       "      <td>0.141304</td>\n",
       "      <td>0.000000</td>\n",
       "      <td>0.021739</td>\n",
       "      <td>0.032609</td>\n",
       "      <td>0.032609</td>\n",
       "    </tr>\n",
       "    <tr>\n",
       "      <th>1998</th>\n",
       "      <td>0.021739</td>\n",
       "      <td>0.032609</td>\n",
       "      <td>0.032609</td>\n",
       "      <td>0.010870</td>\n",
       "      <td>0.021739</td>\n",
       "      <td>0.010870</td>\n",
       "      <td>0.010870</td>\n",
       "      <td>0.032609</td>\n",
       "      <td>0.000000</td>\n",
       "      <td>0.032609</td>\n",
       "      <td>...</td>\n",
       "      <td>0.000000</td>\n",
       "      <td>0.032609</td>\n",
       "      <td>0.010870</td>\n",
       "      <td>0.000000</td>\n",
       "      <td>0.000000</td>\n",
       "      <td>0.000000</td>\n",
       "      <td>0.021739</td>\n",
       "      <td>0.021739</td>\n",
       "      <td>0.000000</td>\n",
       "      <td>0.010870</td>\n",
       "    </tr>\n",
       "    <tr>\n",
       "      <th>1999</th>\n",
       "      <td>0.010870</td>\n",
       "      <td>0.021739</td>\n",
       "      <td>0.021739</td>\n",
       "      <td>0.021739</td>\n",
       "      <td>0.000000</td>\n",
       "      <td>0.010870</td>\n",
       "      <td>0.000000</td>\n",
       "      <td>0.010870</td>\n",
       "      <td>0.000000</td>\n",
       "      <td>0.010870</td>\n",
       "      <td>...</td>\n",
       "      <td>0.000000</td>\n",
       "      <td>0.010870</td>\n",
       "      <td>0.010870</td>\n",
       "      <td>0.032609</td>\n",
       "      <td>0.010870</td>\n",
       "      <td>0.000000</td>\n",
       "      <td>0.021739</td>\n",
       "      <td>0.010870</td>\n",
       "      <td>0.010870</td>\n",
       "      <td>0.010870</td>\n",
       "    </tr>\n",
       "  </tbody>\n",
       "</table>\n",
       "<p>2000 rows × 100 columns</p>\n",
       "</div>"
      ],
      "text/plain": [
       "            0         1         2         3         4         5         6   \\\n",
       "0     0.000000  0.000000  0.010870  0.010870  0.000000  0.021739  0.032609   \n",
       "1     0.010870  0.000000  0.000000  0.000000  0.043478  0.010870  0.010870   \n",
       "2     0.021739  0.000000  0.000000  0.021739  0.000000  0.010870  0.021739   \n",
       "3     0.000000  0.000000  0.000000  0.021739  0.000000  0.010870  0.000000   \n",
       "4     0.000000  0.010870  0.000000  0.010870  0.000000  0.000000  0.010870   \n",
       "...        ...       ...       ...       ...       ...       ...       ...   \n",
       "1995  0.010870  0.000000  0.000000  0.000000  0.000000  0.000000  0.010870   \n",
       "1996  0.021739  0.000000  0.000000  0.010870  0.054348  0.010870  0.021739   \n",
       "1997  0.010870  0.000000  0.010870  0.000000  0.000000  0.000000  0.000000   \n",
       "1998  0.021739  0.032609  0.032609  0.010870  0.021739  0.010870  0.010870   \n",
       "1999  0.010870  0.021739  0.021739  0.021739  0.000000  0.010870  0.000000   \n",
       "\n",
       "            7         8         9   ...        90        91        92  \\\n",
       "0     0.021739  0.000000  0.021739  ...  0.000000  0.021739  0.021739   \n",
       "1     0.000000  0.000000  0.000000  ...  0.000000  0.000000  0.021739   \n",
       "2     0.010870  0.000000  0.021739  ...  0.010870  0.010870  0.000000   \n",
       "3     0.010870  0.000000  0.000000  ...  0.021739  0.000000  0.010870   \n",
       "4     0.021739  0.000000  0.021739  ...  0.000000  0.000000  0.010870   \n",
       "...        ...       ...       ...  ...       ...       ...       ...   \n",
       "1995  0.032609  0.032609  0.010870  ...  0.000000  0.032609  0.010870   \n",
       "1996  0.010870  0.000000  0.000000  ...  0.010870  0.000000  0.010870   \n",
       "1997  0.000000  0.054348  0.043478  ...  0.010870  0.010870  0.000000   \n",
       "1998  0.032609  0.000000  0.032609  ...  0.000000  0.032609  0.010870   \n",
       "1999  0.010870  0.000000  0.010870  ...  0.000000  0.010870  0.010870   \n",
       "\n",
       "            93        94        95        96        97        98        99  \n",
       "0     0.065217  0.000000  0.000000  0.032609  0.043478  0.021739  0.010870  \n",
       "1     0.021739  0.010870  0.000000  0.000000  0.032609  0.021739  0.010870  \n",
       "2     0.010870  0.000000  0.000000  0.021739  0.000000  0.021739  0.010870  \n",
       "3     0.010870  0.000000  0.000000  0.010870  0.010870  0.021739  0.000000  \n",
       "4     0.000000  0.000000  0.000000  0.000000  0.010870  0.021739  0.010870  \n",
       "...        ...       ...       ...       ...       ...       ...       ...  \n",
       "1995  0.010870  0.021739  0.021739  0.000000  0.000000  0.010870  0.021739  \n",
       "1996  0.021739  0.010870  0.000000  0.000000  0.043478  0.010870  0.010870  \n",
       "1997  0.000000  0.010870  0.141304  0.000000  0.021739  0.032609  0.032609  \n",
       "1998  0.000000  0.000000  0.000000  0.021739  0.021739  0.000000  0.010870  \n",
       "1999  0.032609  0.010870  0.000000  0.021739  0.010870  0.010870  0.010870  \n",
       "\n",
       "[2000 rows x 100 columns]"
      ]
     },
     "execution_count": 64,
     "metadata": {},
     "output_type": "execute_result"
    }
   ],
   "source": [
    "X_pd = pd.read_csv(home_dir+ \"Xtr\" + k +\"_mat100.csv\", header=None, delim_whitespace=True)\n",
    "X_pd"
   ]
  },
  {
   "cell_type": "code",
   "execution_count": 65,
   "metadata": {},
   "outputs": [
    {
     "data": {
      "text/plain": [
       "(2000, 100)"
      ]
     },
     "execution_count": 65,
     "metadata": {},
     "output_type": "execute_result"
    }
   ],
   "source": [
    "X = X_pd.to_numpy()\n",
    "X.shape"
   ]
  },
  {
   "cell_type": "code",
   "execution_count": 66,
   "metadata": {},
   "outputs": [
    {
     "data": {
      "text/html": [
       "<div>\n",
       "<style scoped>\n",
       "    .dataframe tbody tr th:only-of-type {\n",
       "        vertical-align: middle;\n",
       "    }\n",
       "\n",
       "    .dataframe tbody tr th {\n",
       "        vertical-align: top;\n",
       "    }\n",
       "\n",
       "    .dataframe thead th {\n",
       "        text-align: right;\n",
       "    }\n",
       "</style>\n",
       "<table border=\"1\" class=\"dataframe\">\n",
       "  <thead>\n",
       "    <tr style=\"text-align: right;\">\n",
       "      <th></th>\n",
       "      <th>Id</th>\n",
       "      <th>Bound</th>\n",
       "    </tr>\n",
       "  </thead>\n",
       "  <tbody>\n",
       "    <tr>\n",
       "      <th>0</th>\n",
       "      <td>2000</td>\n",
       "      <td>0</td>\n",
       "    </tr>\n",
       "    <tr>\n",
       "      <th>1</th>\n",
       "      <td>2001</td>\n",
       "      <td>0</td>\n",
       "    </tr>\n",
       "    <tr>\n",
       "      <th>2</th>\n",
       "      <td>2002</td>\n",
       "      <td>1</td>\n",
       "    </tr>\n",
       "    <tr>\n",
       "      <th>3</th>\n",
       "      <td>2003</td>\n",
       "      <td>1</td>\n",
       "    </tr>\n",
       "    <tr>\n",
       "      <th>4</th>\n",
       "      <td>2004</td>\n",
       "      <td>1</td>\n",
       "    </tr>\n",
       "    <tr>\n",
       "      <th>5</th>\n",
       "      <td>2005</td>\n",
       "      <td>0</td>\n",
       "    </tr>\n",
       "    <tr>\n",
       "      <th>6</th>\n",
       "      <td>2006</td>\n",
       "      <td>0</td>\n",
       "    </tr>\n",
       "    <tr>\n",
       "      <th>7</th>\n",
       "      <td>2007</td>\n",
       "      <td>0</td>\n",
       "    </tr>\n",
       "    <tr>\n",
       "      <th>8</th>\n",
       "      <td>2008</td>\n",
       "      <td>1</td>\n",
       "    </tr>\n",
       "    <tr>\n",
       "      <th>9</th>\n",
       "      <td>2009</td>\n",
       "      <td>1</td>\n",
       "    </tr>\n",
       "  </tbody>\n",
       "</table>\n",
       "</div>"
      ],
      "text/plain": [
       "     Id  Bound\n",
       "0  2000      0\n",
       "1  2001      0\n",
       "2  2002      1\n",
       "3  2003      1\n",
       "4  2004      1\n",
       "5  2005      0\n",
       "6  2006      0\n",
       "7  2007      0\n",
       "8  2008      1\n",
       "9  2009      1"
      ]
     },
     "execution_count": 66,
     "metadata": {},
     "output_type": "execute_result"
    }
   ],
   "source": [
    "Y_pd = pd.read_csv(home_dir+ \"Ytr\" + k + \".csv\")\n",
    "Y_pd.head(10)"
   ]
  },
  {
   "cell_type": "code",
   "execution_count": 67,
   "metadata": {},
   "outputs": [
    {
     "data": {
      "text/plain": [
       "((2000,), array([0, 0, 1, 1, 1, 0, 0, 0, 1, 1], dtype=int64))"
      ]
     },
     "execution_count": 67,
     "metadata": {},
     "output_type": "execute_result"
    }
   ],
   "source": [
    "Y = Y_pd[\"Bound\"].to_numpy()\n",
    "Y.shape, Y[:10]"
   ]
  },
  {
   "cell_type": "markdown",
   "metadata": {},
   "source": [
    "### Test data"
   ]
  },
  {
   "cell_type": "code",
   "execution_count": 68,
   "metadata": {},
   "outputs": [
    {
     "data": {
      "text/html": [
       "<div>\n",
       "<style scoped>\n",
       "    .dataframe tbody tr th:only-of-type {\n",
       "        vertical-align: middle;\n",
       "    }\n",
       "\n",
       "    .dataframe tbody tr th {\n",
       "        vertical-align: top;\n",
       "    }\n",
       "\n",
       "    .dataframe thead th {\n",
       "        text-align: right;\n",
       "    }\n",
       "</style>\n",
       "<table border=\"1\" class=\"dataframe\">\n",
       "  <thead>\n",
       "    <tr style=\"text-align: right;\">\n",
       "      <th></th>\n",
       "      <th>0</th>\n",
       "      <th>1</th>\n",
       "      <th>2</th>\n",
       "      <th>3</th>\n",
       "      <th>4</th>\n",
       "      <th>5</th>\n",
       "      <th>6</th>\n",
       "      <th>7</th>\n",
       "      <th>8</th>\n",
       "      <th>9</th>\n",
       "      <th>...</th>\n",
       "      <th>90</th>\n",
       "      <th>91</th>\n",
       "      <th>92</th>\n",
       "      <th>93</th>\n",
       "      <th>94</th>\n",
       "      <th>95</th>\n",
       "      <th>96</th>\n",
       "      <th>97</th>\n",
       "      <th>98</th>\n",
       "      <th>99</th>\n",
       "    </tr>\n",
       "  </thead>\n",
       "  <tbody>\n",
       "    <tr>\n",
       "      <th>0</th>\n",
       "      <td>0.000000</td>\n",
       "      <td>0.000000</td>\n",
       "      <td>0.032609</td>\n",
       "      <td>0.010870</td>\n",
       "      <td>0.065217</td>\n",
       "      <td>0.010870</td>\n",
       "      <td>0.000000</td>\n",
       "      <td>0.010870</td>\n",
       "      <td>0.000000</td>\n",
       "      <td>0.00000</td>\n",
       "      <td>...</td>\n",
       "      <td>0.010870</td>\n",
       "      <td>0.000000</td>\n",
       "      <td>0.010870</td>\n",
       "      <td>0.043478</td>\n",
       "      <td>0.010870</td>\n",
       "      <td>0.000000</td>\n",
       "      <td>0.010870</td>\n",
       "      <td>0.000000</td>\n",
       "      <td>0.010870</td>\n",
       "      <td>0.000000</td>\n",
       "    </tr>\n",
       "    <tr>\n",
       "      <th>1</th>\n",
       "      <td>0.000000</td>\n",
       "      <td>0.000000</td>\n",
       "      <td>0.000000</td>\n",
       "      <td>0.000000</td>\n",
       "      <td>0.000000</td>\n",
       "      <td>0.000000</td>\n",
       "      <td>0.000000</td>\n",
       "      <td>0.000000</td>\n",
       "      <td>0.043478</td>\n",
       "      <td>0.00000</td>\n",
       "      <td>...</td>\n",
       "      <td>0.000000</td>\n",
       "      <td>0.032609</td>\n",
       "      <td>0.021739</td>\n",
       "      <td>0.000000</td>\n",
       "      <td>0.043478</td>\n",
       "      <td>0.000000</td>\n",
       "      <td>0.000000</td>\n",
       "      <td>0.000000</td>\n",
       "      <td>0.021739</td>\n",
       "      <td>0.032609</td>\n",
       "    </tr>\n",
       "    <tr>\n",
       "      <th>2</th>\n",
       "      <td>0.000000</td>\n",
       "      <td>0.032609</td>\n",
       "      <td>0.010870</td>\n",
       "      <td>0.000000</td>\n",
       "      <td>0.000000</td>\n",
       "      <td>0.000000</td>\n",
       "      <td>0.010870</td>\n",
       "      <td>0.010870</td>\n",
       "      <td>0.010870</td>\n",
       "      <td>0.01087</td>\n",
       "      <td>...</td>\n",
       "      <td>0.032609</td>\n",
       "      <td>0.010870</td>\n",
       "      <td>0.000000</td>\n",
       "      <td>0.010870</td>\n",
       "      <td>0.021739</td>\n",
       "      <td>0.000000</td>\n",
       "      <td>0.000000</td>\n",
       "      <td>0.000000</td>\n",
       "      <td>0.032609</td>\n",
       "      <td>0.010870</td>\n",
       "    </tr>\n",
       "    <tr>\n",
       "      <th>3</th>\n",
       "      <td>0.021739</td>\n",
       "      <td>0.000000</td>\n",
       "      <td>0.021739</td>\n",
       "      <td>0.010870</td>\n",
       "      <td>0.086957</td>\n",
       "      <td>0.000000</td>\n",
       "      <td>0.000000</td>\n",
       "      <td>0.000000</td>\n",
       "      <td>0.021739</td>\n",
       "      <td>0.00000</td>\n",
       "      <td>...</td>\n",
       "      <td>0.010870</td>\n",
       "      <td>0.000000</td>\n",
       "      <td>0.000000</td>\n",
       "      <td>0.021739</td>\n",
       "      <td>0.000000</td>\n",
       "      <td>0.000000</td>\n",
       "      <td>0.010870</td>\n",
       "      <td>0.010870</td>\n",
       "      <td>0.043478</td>\n",
       "      <td>0.000000</td>\n",
       "    </tr>\n",
       "    <tr>\n",
       "      <th>4</th>\n",
       "      <td>0.010870</td>\n",
       "      <td>0.032609</td>\n",
       "      <td>0.000000</td>\n",
       "      <td>0.010870</td>\n",
       "      <td>0.010870</td>\n",
       "      <td>0.000000</td>\n",
       "      <td>0.000000</td>\n",
       "      <td>0.000000</td>\n",
       "      <td>0.000000</td>\n",
       "      <td>0.00000</td>\n",
       "      <td>...</td>\n",
       "      <td>0.010870</td>\n",
       "      <td>0.000000</td>\n",
       "      <td>0.010870</td>\n",
       "      <td>0.000000</td>\n",
       "      <td>0.010870</td>\n",
       "      <td>0.000000</td>\n",
       "      <td>0.000000</td>\n",
       "      <td>0.000000</td>\n",
       "      <td>0.000000</td>\n",
       "      <td>0.000000</td>\n",
       "    </tr>\n",
       "    <tr>\n",
       "      <th>...</th>\n",
       "      <td>...</td>\n",
       "      <td>...</td>\n",
       "      <td>...</td>\n",
       "      <td>...</td>\n",
       "      <td>...</td>\n",
       "      <td>...</td>\n",
       "      <td>...</td>\n",
       "      <td>...</td>\n",
       "      <td>...</td>\n",
       "      <td>...</td>\n",
       "      <td>...</td>\n",
       "      <td>...</td>\n",
       "      <td>...</td>\n",
       "      <td>...</td>\n",
       "      <td>...</td>\n",
       "      <td>...</td>\n",
       "      <td>...</td>\n",
       "      <td>...</td>\n",
       "      <td>...</td>\n",
       "      <td>...</td>\n",
       "      <td>...</td>\n",
       "    </tr>\n",
       "    <tr>\n",
       "      <th>995</th>\n",
       "      <td>0.021739</td>\n",
       "      <td>0.000000</td>\n",
       "      <td>0.010870</td>\n",
       "      <td>0.000000</td>\n",
       "      <td>0.010870</td>\n",
       "      <td>0.010870</td>\n",
       "      <td>0.021739</td>\n",
       "      <td>0.000000</td>\n",
       "      <td>0.000000</td>\n",
       "      <td>0.01087</td>\n",
       "      <td>...</td>\n",
       "      <td>0.010870</td>\n",
       "      <td>0.000000</td>\n",
       "      <td>0.010870</td>\n",
       "      <td>0.010870</td>\n",
       "      <td>0.010870</td>\n",
       "      <td>0.000000</td>\n",
       "      <td>0.000000</td>\n",
       "      <td>0.021739</td>\n",
       "      <td>0.021739</td>\n",
       "      <td>0.000000</td>\n",
       "    </tr>\n",
       "    <tr>\n",
       "      <th>996</th>\n",
       "      <td>0.000000</td>\n",
       "      <td>0.000000</td>\n",
       "      <td>0.000000</td>\n",
       "      <td>0.000000</td>\n",
       "      <td>0.000000</td>\n",
       "      <td>0.000000</td>\n",
       "      <td>0.000000</td>\n",
       "      <td>0.000000</td>\n",
       "      <td>0.010870</td>\n",
       "      <td>0.01087</td>\n",
       "      <td>...</td>\n",
       "      <td>0.000000</td>\n",
       "      <td>0.010870</td>\n",
       "      <td>0.010870</td>\n",
       "      <td>0.010870</td>\n",
       "      <td>0.010870</td>\n",
       "      <td>0.000000</td>\n",
       "      <td>0.097826</td>\n",
       "      <td>0.000000</td>\n",
       "      <td>0.000000</td>\n",
       "      <td>0.021739</td>\n",
       "    </tr>\n",
       "    <tr>\n",
       "      <th>997</th>\n",
       "      <td>0.010870</td>\n",
       "      <td>0.010870</td>\n",
       "      <td>0.032609</td>\n",
       "      <td>0.043478</td>\n",
       "      <td>0.000000</td>\n",
       "      <td>0.010870</td>\n",
       "      <td>0.000000</td>\n",
       "      <td>0.021739</td>\n",
       "      <td>0.010870</td>\n",
       "      <td>0.01087</td>\n",
       "      <td>...</td>\n",
       "      <td>0.010870</td>\n",
       "      <td>0.010870</td>\n",
       "      <td>0.000000</td>\n",
       "      <td>0.021739</td>\n",
       "      <td>0.010870</td>\n",
       "      <td>0.000000</td>\n",
       "      <td>0.108696</td>\n",
       "      <td>0.010870</td>\n",
       "      <td>0.000000</td>\n",
       "      <td>0.010870</td>\n",
       "    </tr>\n",
       "    <tr>\n",
       "      <th>998</th>\n",
       "      <td>0.010870</td>\n",
       "      <td>0.010870</td>\n",
       "      <td>0.021739</td>\n",
       "      <td>0.000000</td>\n",
       "      <td>0.000000</td>\n",
       "      <td>0.021739</td>\n",
       "      <td>0.010870</td>\n",
       "      <td>0.032609</td>\n",
       "      <td>0.010870</td>\n",
       "      <td>0.01087</td>\n",
       "      <td>...</td>\n",
       "      <td>0.000000</td>\n",
       "      <td>0.000000</td>\n",
       "      <td>0.010870</td>\n",
       "      <td>0.010870</td>\n",
       "      <td>0.021739</td>\n",
       "      <td>0.010870</td>\n",
       "      <td>0.032609</td>\n",
       "      <td>0.000000</td>\n",
       "      <td>0.021739</td>\n",
       "      <td>0.000000</td>\n",
       "    </tr>\n",
       "    <tr>\n",
       "      <th>999</th>\n",
       "      <td>0.032609</td>\n",
       "      <td>0.000000</td>\n",
       "      <td>0.021739</td>\n",
       "      <td>0.000000</td>\n",
       "      <td>0.000000</td>\n",
       "      <td>0.000000</td>\n",
       "      <td>0.000000</td>\n",
       "      <td>0.010870</td>\n",
       "      <td>0.000000</td>\n",
       "      <td>0.01087</td>\n",
       "      <td>...</td>\n",
       "      <td>0.000000</td>\n",
       "      <td>0.000000</td>\n",
       "      <td>0.000000</td>\n",
       "      <td>0.010870</td>\n",
       "      <td>0.010870</td>\n",
       "      <td>0.032609</td>\n",
       "      <td>0.119565</td>\n",
       "      <td>0.032609</td>\n",
       "      <td>0.021739</td>\n",
       "      <td>0.000000</td>\n",
       "    </tr>\n",
       "  </tbody>\n",
       "</table>\n",
       "<p>1000 rows × 100 columns</p>\n",
       "</div>"
      ],
      "text/plain": [
       "           0         1         2         3         4         5         6   \\\n",
       "0    0.000000  0.000000  0.032609  0.010870  0.065217  0.010870  0.000000   \n",
       "1    0.000000  0.000000  0.000000  0.000000  0.000000  0.000000  0.000000   \n",
       "2    0.000000  0.032609  0.010870  0.000000  0.000000  0.000000  0.010870   \n",
       "3    0.021739  0.000000  0.021739  0.010870  0.086957  0.000000  0.000000   \n",
       "4    0.010870  0.032609  0.000000  0.010870  0.010870  0.000000  0.000000   \n",
       "..        ...       ...       ...       ...       ...       ...       ...   \n",
       "995  0.021739  0.000000  0.010870  0.000000  0.010870  0.010870  0.021739   \n",
       "996  0.000000  0.000000  0.000000  0.000000  0.000000  0.000000  0.000000   \n",
       "997  0.010870  0.010870  0.032609  0.043478  0.000000  0.010870  0.000000   \n",
       "998  0.010870  0.010870  0.021739  0.000000  0.000000  0.021739  0.010870   \n",
       "999  0.032609  0.000000  0.021739  0.000000  0.000000  0.000000  0.000000   \n",
       "\n",
       "           7         8        9   ...        90        91        92        93  \\\n",
       "0    0.010870  0.000000  0.00000  ...  0.010870  0.000000  0.010870  0.043478   \n",
       "1    0.000000  0.043478  0.00000  ...  0.000000  0.032609  0.021739  0.000000   \n",
       "2    0.010870  0.010870  0.01087  ...  0.032609  0.010870  0.000000  0.010870   \n",
       "3    0.000000  0.021739  0.00000  ...  0.010870  0.000000  0.000000  0.021739   \n",
       "4    0.000000  0.000000  0.00000  ...  0.010870  0.000000  0.010870  0.000000   \n",
       "..        ...       ...      ...  ...       ...       ...       ...       ...   \n",
       "995  0.000000  0.000000  0.01087  ...  0.010870  0.000000  0.010870  0.010870   \n",
       "996  0.000000  0.010870  0.01087  ...  0.000000  0.010870  0.010870  0.010870   \n",
       "997  0.021739  0.010870  0.01087  ...  0.010870  0.010870  0.000000  0.021739   \n",
       "998  0.032609  0.010870  0.01087  ...  0.000000  0.000000  0.010870  0.010870   \n",
       "999  0.010870  0.000000  0.01087  ...  0.000000  0.000000  0.000000  0.010870   \n",
       "\n",
       "           94        95        96        97        98        99  \n",
       "0    0.010870  0.000000  0.010870  0.000000  0.010870  0.000000  \n",
       "1    0.043478  0.000000  0.000000  0.000000  0.021739  0.032609  \n",
       "2    0.021739  0.000000  0.000000  0.000000  0.032609  0.010870  \n",
       "3    0.000000  0.000000  0.010870  0.010870  0.043478  0.000000  \n",
       "4    0.010870  0.000000  0.000000  0.000000  0.000000  0.000000  \n",
       "..        ...       ...       ...       ...       ...       ...  \n",
       "995  0.010870  0.000000  0.000000  0.021739  0.021739  0.000000  \n",
       "996  0.010870  0.000000  0.097826  0.000000  0.000000  0.021739  \n",
       "997  0.010870  0.000000  0.108696  0.010870  0.000000  0.010870  \n",
       "998  0.021739  0.010870  0.032609  0.000000  0.021739  0.000000  \n",
       "999  0.010870  0.032609  0.119565  0.032609  0.021739  0.000000  \n",
       "\n",
       "[1000 rows x 100 columns]"
      ]
     },
     "execution_count": 68,
     "metadata": {},
     "output_type": "execute_result"
    }
   ],
   "source": [
    "X_test_pd = pd.read_csv(home_dir+ \"Xte\" +k + \"_mat100.csv\", header=None, delim_whitespace=True)\n",
    "X_test_pd"
   ]
  },
  {
   "cell_type": "code",
   "execution_count": 69,
   "metadata": {},
   "outputs": [
    {
     "name": "stdout",
     "output_type": "stream",
     "text": [
      "(1000, 100)\n"
     ]
    }
   ],
   "source": [
    "X_test = X_test_pd.to_numpy()\n",
    "print(X_test.shape)"
   ]
  },
  {
   "cell_type": "markdown",
   "metadata": {},
   "source": [
    "## Testing the soundness on a train and validation set"
   ]
  },
  {
   "cell_type": "code",
   "execution_count": 70,
   "metadata": {},
   "outputs": [
    {
     "name": "stdout",
     "output_type": "stream",
     "text": [
      "(1600, 100) (1600,) (400, 100) (400,)\n"
     ]
    }
   ],
   "source": [
    "X_train, X_val, Y_train, Y_val = train_test_split(X, Y, test_size =0.2, shuffle = True, random_state = 0)\n",
    "print(X_train.shape, Y_train.shape, X_val.shape, Y_val.shape)"
   ]
  },
  {
   "cell_type": "code",
   "execution_count": 71,
   "metadata": {},
   "outputs": [
    {
     "name": "stdout",
     "output_type": "stream",
     "text": [
      "[0.17206958]\n"
     ]
    }
   ],
   "source": [
    "# As a heuristic, we use the average squared distance between features for our sigma\n",
    "\n",
    "\"\"\"\n",
    "Computing sigma estimate\n",
    "\"\"\"\n",
    "mu = compute_sigma_heuristic(X_train)\n",
    "print(mu)"
   ]
  },
  {
   "cell_type": "code",
   "execution_count": 72,
   "metadata": {},
   "outputs": [],
   "source": [
    "gamma = 1/mu**2\n",
    "reg = 1e-5"
   ]
  },
  {
   "cell_type": "code",
   "execution_count": 73,
   "metadata": {},
   "outputs": [],
   "source": [
    "KR = KernelRegression(\"RBF\", mu)\n",
    "KR.fit(X_train, Y_train,  reg = reg)\n",
    "pred_val = KR.predict(X_val)"
   ]
  },
  {
   "cell_type": "code",
   "execution_count": 74,
   "metadata": {},
   "outputs": [],
   "source": [
    "K = KernelRidge(alpha = reg, kernel = \"rbf\", gamma = gamma)\n",
    "K.fit(X_train, Y_train)\n",
    "pred_SK = K.predict(X_val)"
   ]
  },
  {
   "cell_type": "code",
   "execution_count": 87,
   "metadata": {},
   "outputs": [],
   "source": [
    "# Checking that our implementation gives the same answer\n",
    "np1.testing.assert_almost_equal(pred_SK, pred_val)"
   ]
  },
  {
   "cell_type": "code",
   "execution_count": 75,
   "metadata": {
    "scrolled": true
   },
   "outputs": [],
   "source": [
    "pred_val = pred_to_class(pred_val)"
   ]
  },
  {
   "cell_type": "code",
   "execution_count": 76,
   "metadata": {},
   "outputs": [
    {
     "data": {
      "text/plain": [
       "0.5675"
      ]
     },
     "execution_count": 76,
     "metadata": {},
     "output_type": "execute_result"
    }
   ],
   "source": [
    "acc(pred_val, Y_val)"
   ]
  },
  {
   "cell_type": "code",
   "execution_count": 77,
   "metadata": {},
   "outputs": [
    {
     "name": "stdout",
     "output_type": "stream",
     "text": [
      "Iteration  0\n",
      "Iteration  100\n",
      "Iteration  200\n",
      "Iteration  300\n",
      "Iteration  400\n"
     ]
    }
   ],
   "source": [
    "#Initialize all parameters to 1.0\n",
    "reg = 1e-5\n",
    "parameters = np.ones(7).astype(\"float\")\n",
    "K = KernelFlowsPAutograd(\"custom\",parameters, custom_kernel)\n",
    "mu_pred = K.fit(X_train, Y_train, 500, optimizer = \"Nesterov\",  batch_size = 0.5, show_it = 100, reg = reg)"
   ]
  },
  {
   "cell_type": "code",
   "execution_count": 79,
   "metadata": {},
   "outputs": [
    {
     "name": "stdout",
     "output_type": "stream",
     "text": [
      "[-1.18289711e-03  1.48216793e+00  9.84341386e-01 -3.29018602e+00\n",
      "  2.16798136e+00  5.20900585e-01  3.98760936e+00]\n"
     ]
    },
    {
     "data": {
      "text/plain": [
       "[<matplotlib.lines.Line2D at 0x1f660955588>]"
      ]
     },
     "execution_count": 79,
     "metadata": {},
     "output_type": "execute_result"
    },
    {
     "data": {
      "image/png": "[encoded data removed]",
      "text/plain": [
       "<Figure size 432x288 with 1 Axes>"
      ]
     },
     "metadata": {
      "needs_background": "light"
     },
     "output_type": "display_data"
    }
   ],
   "source": [
    "print(mu_pred)\n",
    "plt.plot(K.rho_values)"
   ]
  },
  {
   "cell_type": "code",
   "execution_count": 80,
   "metadata": {},
   "outputs": [
    {
     "data": {
      "text/plain": [
       "0.555"
      ]
     },
     "execution_count": 80,
     "metadata": {},
     "output_type": "execute_result"
    }
   ],
   "source": [
    "# Making a prediction\n",
    "\n",
    "pred_KF = K.predict(X_val, reg = reg)\n",
    "\n",
    "pred_KF = pred_to_class(pred_KF)\n",
    "acc(pred_KF, Y_val)"
   ]
  },
  {
   "cell_type": "code",
   "execution_count": 94,
   "metadata": {},
   "outputs": [
    {
     "data": {
      "text/plain": [
       "0.56"
      ]
     },
     "execution_count": 94,
     "metadata": {},
     "output_type": "execute_result"
    }
   ],
   "source": [
    "pred_KF = pred_to_class(pred_KF)\n",
    "acc(pred_KF, Y_val)"
   ]
  },
  {
   "cell_type": "markdown",
   "metadata": {},
   "source": [
    "## Final prediction on the test set"
   ]
  },
  {
   "cell_type": "code",
   "execution_count": 96,
   "metadata": {},
   "outputs": [
    {
     "name": "stdout",
     "output_type": "stream",
     "text": [
      "[0.17152814]\n"
     ]
    }
   ],
   "source": [
    "mu = compute_sigma_heuristic(X)\n",
    "print(mu)\n",
    "\n",
    "KR = KernelRegression(\"RBF\", mu)\n",
    "KR.fit(X, Y,  reg = reg)\n",
    "pred_1 = KR.predict(X_test)\n",
    "\n",
    "pred_1 = pred_to_class(pred_1)\n",
    "pred_1 = np.vstack((np.arange(pred_1.shape[0])+ 1000*k_int, pred_1)).T"
   ]
  },
  {
   "cell_type": "code",
   "execution_count": 54,
   "metadata": {},
   "outputs": [
    {
     "name": "stdout",
     "output_type": "stream",
     "text": [
      "Iteration  0\n",
      "Iteration  100\n",
      "Iteration  200\n",
      "Iteration  300\n",
      "Iteration  400\n"
     ]
    }
   ],
   "source": [
    "#Initialize all parameters to 1.0\n",
    "reg = 1e-5\n",
    "parameters = np.ones(7).astype(\"float\")\n",
    "K = KernelFlowsPAutograd(\"custom\",parameters, custom_kernel)\n",
    "mu_pred = K.fit(X, Y, 500, optimizer = \"Nesterov\",  batch_size = 0.5, show_it = 100, reg = reg)"
   ]
  },
  {
   "cell_type": "code",
   "execution_count": 58,
   "metadata": {},
   "outputs": [
    {
     "data": {
      "text/plain": [
       "array([ 7.45020914e-02,  1.75664314e+00, -1.00192793e-04,  1.43371430e+00,\n",
       "        9.20994659e-01,  2.43723673e-01,  3.24378914e+00])"
      ]
     },
     "execution_count": 58,
     "metadata": {},
     "output_type": "execute_result"
    }
   ],
   "source": [
    "mu_pred"
   ]
  },
  {
   "cell_type": "code",
   "execution_count": 59,
   "metadata": {},
   "outputs": [
    {
     "data": {
      "text/plain": [
       "[<matplotlib.lines.Line2D at 0x1f65d08d978>]"
      ]
     },
     "execution_count": 59,
     "metadata": {},
     "output_type": "execute_result"
    },
    {
     "data": {
      "image/png": "[encoded data removed]",
      "text/plain": [
       "<Figure size 432x288 with 1 Axes>"
      ]
     },
     "metadata": {
      "needs_background": "light"
     },
     "output_type": "display_data"
    }
   ],
   "source": [
    "plt.plot(K.rho_values)"
   ]
  },
  {
   "cell_type": "code",
   "execution_count": 81,
   "metadata": {},
   "outputs": [],
   "source": [
    "pred_KF_test_1 = K.predict(X_test, reg = reg)\n",
    "pred_KF_test_1 = pred_to_class(pred_KF_test_1)\n",
    "\n",
    "pred_KF_test_1 = np.vstack((np.arange(pred_KF_test_1.shape[0])+ 1000*k_int, pred_KF_test_1)).T"
   ]
  },
  {
   "cell_type": "code",
   "execution_count": 82,
   "metadata": {},
   "outputs": [
    {
     "data": {
      "text/plain": [
       "(array([[1.000e+03, 0.000e+00],\n",
       "        [1.001e+03, 1.000e+00],\n",
       "        [1.002e+03, 1.000e+00],\n",
       "        ...,\n",
       "        [1.997e+03, 0.000e+00],\n",
       "        [1.998e+03, 0.000e+00],\n",
       "        [1.999e+03, 1.000e+00]]),\n",
       " array([[  0.,   1.],\n",
       "        [  1.,   1.],\n",
       "        [  2.,   1.],\n",
       "        ...,\n",
       "        [997.,   1.],\n",
       "        [998.,   0.],\n",
       "        [999.,   0.]]))"
      ]
     },
     "execution_count": 82,
     "metadata": {},
     "output_type": "execute_result"
    }
   ],
   "source": [
    "pred_KF_test_1, pred_KF_test_0"
   ]
  },
  {
   "cell_type": "markdown",
   "metadata": {},
   "source": [
    "# K = 2"
   ]
  },
  {
   "cell_type": "markdown",
   "metadata": {},
   "source": [
    "## Importing all the data\n",
    "\n",
    "### Raw data"
   ]
  },
  {
   "cell_type": "code",
   "execution_count": 83,
   "metadata": {},
   "outputs": [
    {
     "data": {
      "text/html": [
       "<div>\n",
       "<style scoped>\n",
       "    .dataframe tbody tr th:only-of-type {\n",
       "        vertical-align: middle;\n",
       "    }\n",
       "\n",
       "    .dataframe tbody tr th {\n",
       "        vertical-align: top;\n",
       "    }\n",
       "\n",
       "    .dataframe thead th {\n",
       "        text-align: right;\n",
       "    }\n",
       "</style>\n",
       "<table border=\"1\" class=\"dataframe\">\n",
       "  <thead>\n",
       "    <tr style=\"text-align: right;\">\n",
       "      <th></th>\n",
       "      <th>Id</th>\n",
       "      <th>seq</th>\n",
       "    </tr>\n",
       "  </thead>\n",
       "  <tbody>\n",
       "    <tr>\n",
       "      <th>0</th>\n",
       "      <td>4000</td>\n",
       "      <td>GTGCCGACGCAGCGGTGTTGCACCTCCCTCTCCGGCTCTGCTGCCC...</td>\n",
       "    </tr>\n",
       "    <tr>\n",
       "      <th>1</th>\n",
       "      <td>4001</td>\n",
       "      <td>CCTGAGTTTGGTGTTCTGTGGAATTATTGAACCTAAGTAGGTAGTG...</td>\n",
       "    </tr>\n",
       "    <tr>\n",
       "      <th>2</th>\n",
       "      <td>4002</td>\n",
       "      <td>CCAGGTGCTTACCATTATCATGTAAGTTCTCTAACTGTTTCATGTG...</td>\n",
       "    </tr>\n",
       "    <tr>\n",
       "      <th>3</th>\n",
       "      <td>4003</td>\n",
       "      <td>AGAGCGGTGTGGGGGTCACTCAAGAGAACGTGCTGTACCTTGTCAG...</td>\n",
       "    </tr>\n",
       "    <tr>\n",
       "      <th>4</th>\n",
       "      <td>4004</td>\n",
       "      <td>CCCCAGGGGCAGGCGGGCTAGCCCCCCCATCATATGCAAATCATGG...</td>\n",
       "    </tr>\n",
       "    <tr>\n",
       "      <th>...</th>\n",
       "      <td>...</td>\n",
       "      <td>...</td>\n",
       "    </tr>\n",
       "    <tr>\n",
       "      <th>1995</th>\n",
       "      <td>5995</td>\n",
       "      <td>GCTGCCTCTTGGACATCAGACCAAGGCTTACATTCTGAATCCACAG...</td>\n",
       "    </tr>\n",
       "    <tr>\n",
       "      <th>1996</th>\n",
       "      <td>5996</td>\n",
       "      <td>CGGTGGCTTATGCCTGTAATGCCAGCACTTTGGAAGGCCGAGGTGG...</td>\n",
       "    </tr>\n",
       "    <tr>\n",
       "      <th>1997</th>\n",
       "      <td>5997</td>\n",
       "      <td>GACAACAGCCAGCAGGAACCACCTGTGCTGGGCCCCCGCAGCGAGG...</td>\n",
       "    </tr>\n",
       "    <tr>\n",
       "      <th>1998</th>\n",
       "      <td>5998</td>\n",
       "      <td>ACTTGTATGAGGGCAAGACCAACTTCTTCAAAGCCAGTCACTCAAA...</td>\n",
       "    </tr>\n",
       "    <tr>\n",
       "      <th>1999</th>\n",
       "      <td>5999</td>\n",
       "      <td>GTAACTTATACTGGATCAGAGAAGCCTGAAGAAGCTGGGATCCCTG...</td>\n",
       "    </tr>\n",
       "  </tbody>\n",
       "</table>\n",
       "<p>2000 rows × 2 columns</p>\n",
       "</div>"
      ],
      "text/plain": [
       "        Id                                                seq\n",
       "0     4000  GTGCCGACGCAGCGGTGTTGCACCTCCCTCTCCGGCTCTGCTGCCC...\n",
       "1     4001  CCTGAGTTTGGTGTTCTGTGGAATTATTGAACCTAAGTAGGTAGTG...\n",
       "2     4002  CCAGGTGCTTACCATTATCATGTAAGTTCTCTAACTGTTTCATGTG...\n",
       "3     4003  AGAGCGGTGTGGGGGTCACTCAAGAGAACGTGCTGTACCTTGTCAG...\n",
       "4     4004  CCCCAGGGGCAGGCGGGCTAGCCCCCCCATCATATGCAAATCATGG...\n",
       "...    ...                                                ...\n",
       "1995  5995  GCTGCCTCTTGGACATCAGACCAAGGCTTACATTCTGAATCCACAG...\n",
       "1996  5996  CGGTGGCTTATGCCTGTAATGCCAGCACTTTGGAAGGCCGAGGTGG...\n",
       "1997  5997  GACAACAGCCAGCAGGAACCACCTGTGCTGGGCCCCCGCAGCGAGG...\n",
       "1998  5998  ACTTGTATGAGGGCAAGACCAACTTCTTCAAAGCCAGTCACTCAAA...\n",
       "1999  5999  GTAACTTATACTGGATCAGAGAAGCCTGAAGAAGCTGGGATCCCTG...\n",
       "\n",
       "[2000 rows x 2 columns]"
      ]
     },
     "execution_count": 83,
     "metadata": {},
     "output_type": "execute_result"
    }
   ],
   "source": [
    "home_dir = \"D:/Documents/University/MVA/Kernel Methods/mva-KMML-challenge/data/\"\n",
    "k_int = 2\n",
    "k = str(k_int)\n",
    "\n",
    "X_raw_train = pd.read_csv(home_dir+ \"Xtr\" + k + \".csv\")\n",
    "X_raw_train"
   ]
  },
  {
   "cell_type": "code",
   "execution_count": 84,
   "metadata": {},
   "outputs": [
    {
     "data": {
      "text/html": [
       "<div>\n",
       "<style scoped>\n",
       "    .dataframe tbody tr th:only-of-type {\n",
       "        vertical-align: middle;\n",
       "    }\n",
       "\n",
       "    .dataframe tbody tr th {\n",
       "        vertical-align: top;\n",
       "    }\n",
       "\n",
       "    .dataframe thead th {\n",
       "        text-align: right;\n",
       "    }\n",
       "</style>\n",
       "<table border=\"1\" class=\"dataframe\">\n",
       "  <thead>\n",
       "    <tr style=\"text-align: right;\">\n",
       "      <th></th>\n",
       "      <th>Id</th>\n",
       "      <th>seq</th>\n",
       "    </tr>\n",
       "  </thead>\n",
       "  <tbody>\n",
       "    <tr>\n",
       "      <th>0</th>\n",
       "      <td>2000</td>\n",
       "      <td>TGAGCAGCTCCTGCGGAACCTCTGGCTGGCACAGAGCCCGGGGGCG...</td>\n",
       "    </tr>\n",
       "    <tr>\n",
       "      <th>1</th>\n",
       "      <td>2001</td>\n",
       "      <td>CATGCACCACCATGCCTGGCTAAGTTTTGTGTTTTTAGTAGAGACG...</td>\n",
       "    </tr>\n",
       "    <tr>\n",
       "      <th>2</th>\n",
       "      <td>2002</td>\n",
       "      <td>TCTGGTCCGTGCAGGCACAACCCAGGCTCCGGCTGGGGGTGGAGTA...</td>\n",
       "    </tr>\n",
       "    <tr>\n",
       "      <th>3</th>\n",
       "      <td>2003</td>\n",
       "      <td>TTAGGGATGAAGTGAAAATTTCAAAAGCCCCCTTTTTCAGGGTCTG...</td>\n",
       "    </tr>\n",
       "    <tr>\n",
       "      <th>4</th>\n",
       "      <td>2004</td>\n",
       "      <td>TGCAGATGCAAATGCAGGAAACTCCAGGCCATGTGTGGACTGAATG...</td>\n",
       "    </tr>\n",
       "    <tr>\n",
       "      <th>...</th>\n",
       "      <td>...</td>\n",
       "      <td>...</td>\n",
       "    </tr>\n",
       "    <tr>\n",
       "      <th>995</th>\n",
       "      <td>2995</td>\n",
       "      <td>CCCGCAAGCTGAGGGAGCCGGCTCTGGCCTTGGCCAGTCCAGAAAG...</td>\n",
       "    </tr>\n",
       "    <tr>\n",
       "      <th>996</th>\n",
       "      <td>2996</td>\n",
       "      <td>GGGTTTCCCTGTGTTGCCCAGGCTAGTCTTAAATTCCTGGGCTCAA...</td>\n",
       "    </tr>\n",
       "    <tr>\n",
       "      <th>997</th>\n",
       "      <td>2997</td>\n",
       "      <td>AGTGGTGCAATCTTGGCTCACTGCAACATCCGCCTCCCAGGTTCAA...</td>\n",
       "    </tr>\n",
       "    <tr>\n",
       "      <th>998</th>\n",
       "      <td>2998</td>\n",
       "      <td>CAGGTAGATCACCTGAGGTCAGTTCGAGACCAGCCTGGCCAATGTG...</td>\n",
       "    </tr>\n",
       "    <tr>\n",
       "      <th>999</th>\n",
       "      <td>2999</td>\n",
       "      <td>CCTCTCTGCTGTTGGGTACCAGTCTGCTCAGCAGCTGCATTGGCAG...</td>\n",
       "    </tr>\n",
       "  </tbody>\n",
       "</table>\n",
       "<p>1000 rows × 2 columns</p>\n",
       "</div>"
      ],
      "text/plain": [
       "       Id                                                seq\n",
       "0    2000  TGAGCAGCTCCTGCGGAACCTCTGGCTGGCACAGAGCCCGGGGGCG...\n",
       "1    2001  CATGCACCACCATGCCTGGCTAAGTTTTGTGTTTTTAGTAGAGACG...\n",
       "2    2002  TCTGGTCCGTGCAGGCACAACCCAGGCTCCGGCTGGGGGTGGAGTA...\n",
       "3    2003  TTAGGGATGAAGTGAAAATTTCAAAAGCCCCCTTTTTCAGGGTCTG...\n",
       "4    2004  TGCAGATGCAAATGCAGGAAACTCCAGGCCATGTGTGGACTGAATG...\n",
       "..    ...                                                ...\n",
       "995  2995  CCCGCAAGCTGAGGGAGCCGGCTCTGGCCTTGGCCAGTCCAGAAAG...\n",
       "996  2996  GGGTTTCCCTGTGTTGCCCAGGCTAGTCTTAAATTCCTGGGCTCAA...\n",
       "997  2997  AGTGGTGCAATCTTGGCTCACTGCAACATCCGCCTCCCAGGTTCAA...\n",
       "998  2998  CAGGTAGATCACCTGAGGTCAGTTCGAGACCAGCCTGGCCAATGTG...\n",
       "999  2999  CCTCTCTGCTGTTGGGTACCAGTCTGCTCAGCAGCTGCATTGGCAG...\n",
       "\n",
       "[1000 rows x 2 columns]"
      ]
     },
     "execution_count": 84,
     "metadata": {},
     "output_type": "execute_result"
    }
   ],
   "source": [
    "test_pd = pd.read_csv(home_dir+ \"Xte\" + k + \".csv\")\n",
    "test_pd"
   ]
  },
  {
   "cell_type": "markdown",
   "metadata": {},
   "source": [
    "### Train"
   ]
  },
  {
   "cell_type": "code",
   "execution_count": 85,
   "metadata": {},
   "outputs": [
    {
     "data": {
      "text/html": [
       "<div>\n",
       "<style scoped>\n",
       "    .dataframe tbody tr th:only-of-type {\n",
       "        vertical-align: middle;\n",
       "    }\n",
       "\n",
       "    .dataframe tbody tr th {\n",
       "        vertical-align: top;\n",
       "    }\n",
       "\n",
       "    .dataframe thead th {\n",
       "        text-align: right;\n",
       "    }\n",
       "</style>\n",
       "<table border=\"1\" class=\"dataframe\">\n",
       "  <thead>\n",
       "    <tr style=\"text-align: right;\">\n",
       "      <th></th>\n",
       "      <th>0</th>\n",
       "      <th>1</th>\n",
       "      <th>2</th>\n",
       "      <th>3</th>\n",
       "      <th>4</th>\n",
       "      <th>5</th>\n",
       "      <th>6</th>\n",
       "      <th>7</th>\n",
       "      <th>8</th>\n",
       "      <th>9</th>\n",
       "      <th>...</th>\n",
       "      <th>90</th>\n",
       "      <th>91</th>\n",
       "      <th>92</th>\n",
       "      <th>93</th>\n",
       "      <th>94</th>\n",
       "      <th>95</th>\n",
       "      <th>96</th>\n",
       "      <th>97</th>\n",
       "      <th>98</th>\n",
       "      <th>99</th>\n",
       "    </tr>\n",
       "  </thead>\n",
       "  <tbody>\n",
       "    <tr>\n",
       "      <th>0</th>\n",
       "      <td>0.021739</td>\n",
       "      <td>0.010870</td>\n",
       "      <td>0.021739</td>\n",
       "      <td>0.021739</td>\n",
       "      <td>0.032609</td>\n",
       "      <td>0.021739</td>\n",
       "      <td>0.010870</td>\n",
       "      <td>0.010870</td>\n",
       "      <td>0.01087</td>\n",
       "      <td>0.000000</td>\n",
       "      <td>...</td>\n",
       "      <td>0.000000</td>\n",
       "      <td>0.010870</td>\n",
       "      <td>0.010870</td>\n",
       "      <td>0.010870</td>\n",
       "      <td>0.032609</td>\n",
       "      <td>0.000000</td>\n",
       "      <td>0.000000</td>\n",
       "      <td>0.000000</td>\n",
       "      <td>0.021739</td>\n",
       "      <td>0.000000</td>\n",
       "    </tr>\n",
       "    <tr>\n",
       "      <th>1</th>\n",
       "      <td>0.010870</td>\n",
       "      <td>0.000000</td>\n",
       "      <td>0.000000</td>\n",
       "      <td>0.000000</td>\n",
       "      <td>0.010870</td>\n",
       "      <td>0.010870</td>\n",
       "      <td>0.010870</td>\n",
       "      <td>0.010870</td>\n",
       "      <td>0.01087</td>\n",
       "      <td>0.043478</td>\n",
       "      <td>...</td>\n",
       "      <td>0.021739</td>\n",
       "      <td>0.000000</td>\n",
       "      <td>0.000000</td>\n",
       "      <td>0.000000</td>\n",
       "      <td>0.000000</td>\n",
       "      <td>0.000000</td>\n",
       "      <td>0.010870</td>\n",
       "      <td>0.000000</td>\n",
       "      <td>0.010870</td>\n",
       "      <td>0.000000</td>\n",
       "    </tr>\n",
       "    <tr>\n",
       "      <th>2</th>\n",
       "      <td>0.000000</td>\n",
       "      <td>0.032609</td>\n",
       "      <td>0.032609</td>\n",
       "      <td>0.021739</td>\n",
       "      <td>0.032609</td>\n",
       "      <td>0.010870</td>\n",
       "      <td>0.010870</td>\n",
       "      <td>0.010870</td>\n",
       "      <td>0.00000</td>\n",
       "      <td>0.021739</td>\n",
       "      <td>...</td>\n",
       "      <td>0.010870</td>\n",
       "      <td>0.010870</td>\n",
       "      <td>0.021739</td>\n",
       "      <td>0.021739</td>\n",
       "      <td>0.000000</td>\n",
       "      <td>0.010870</td>\n",
       "      <td>0.010870</td>\n",
       "      <td>0.010870</td>\n",
       "      <td>0.010870</td>\n",
       "      <td>0.010870</td>\n",
       "    </tr>\n",
       "    <tr>\n",
       "      <th>3</th>\n",
       "      <td>0.010870</td>\n",
       "      <td>0.021739</td>\n",
       "      <td>0.010870</td>\n",
       "      <td>0.010870</td>\n",
       "      <td>0.021739</td>\n",
       "      <td>0.010870</td>\n",
       "      <td>0.000000</td>\n",
       "      <td>0.000000</td>\n",
       "      <td>0.00000</td>\n",
       "      <td>0.021739</td>\n",
       "      <td>...</td>\n",
       "      <td>0.000000</td>\n",
       "      <td>0.010870</td>\n",
       "      <td>0.021739</td>\n",
       "      <td>0.010870</td>\n",
       "      <td>0.021739</td>\n",
       "      <td>0.010870</td>\n",
       "      <td>0.010870</td>\n",
       "      <td>0.000000</td>\n",
       "      <td>0.021739</td>\n",
       "      <td>0.000000</td>\n",
       "    </tr>\n",
       "    <tr>\n",
       "      <th>4</th>\n",
       "      <td>0.000000</td>\n",
       "      <td>0.000000</td>\n",
       "      <td>0.010870</td>\n",
       "      <td>0.010870</td>\n",
       "      <td>0.032609</td>\n",
       "      <td>0.010870</td>\n",
       "      <td>0.021739</td>\n",
       "      <td>0.000000</td>\n",
       "      <td>0.01087</td>\n",
       "      <td>0.000000</td>\n",
       "      <td>...</td>\n",
       "      <td>0.000000</td>\n",
       "      <td>0.000000</td>\n",
       "      <td>0.000000</td>\n",
       "      <td>0.000000</td>\n",
       "      <td>0.032609</td>\n",
       "      <td>0.010870</td>\n",
       "      <td>0.021739</td>\n",
       "      <td>0.010870</td>\n",
       "      <td>0.000000</td>\n",
       "      <td>0.010870</td>\n",
       "    </tr>\n",
       "    <tr>\n",
       "      <th>...</th>\n",
       "      <td>...</td>\n",
       "      <td>...</td>\n",
       "      <td>...</td>\n",
       "      <td>...</td>\n",
       "      <td>...</td>\n",
       "      <td>...</td>\n",
       "      <td>...</td>\n",
       "      <td>...</td>\n",
       "      <td>...</td>\n",
       "      <td>...</td>\n",
       "      <td>...</td>\n",
       "      <td>...</td>\n",
       "      <td>...</td>\n",
       "      <td>...</td>\n",
       "      <td>...</td>\n",
       "      <td>...</td>\n",
       "      <td>...</td>\n",
       "      <td>...</td>\n",
       "      <td>...</td>\n",
       "      <td>...</td>\n",
       "      <td>...</td>\n",
       "    </tr>\n",
       "    <tr>\n",
       "      <th>1995</th>\n",
       "      <td>0.021739</td>\n",
       "      <td>0.021739</td>\n",
       "      <td>0.010870</td>\n",
       "      <td>0.010870</td>\n",
       "      <td>0.010870</td>\n",
       "      <td>0.010870</td>\n",
       "      <td>0.010870</td>\n",
       "      <td>0.021739</td>\n",
       "      <td>0.00000</td>\n",
       "      <td>0.021739</td>\n",
       "      <td>...</td>\n",
       "      <td>0.000000</td>\n",
       "      <td>0.000000</td>\n",
       "      <td>0.010870</td>\n",
       "      <td>0.010870</td>\n",
       "      <td>0.010870</td>\n",
       "      <td>0.043478</td>\n",
       "      <td>0.000000</td>\n",
       "      <td>0.043478</td>\n",
       "      <td>0.010870</td>\n",
       "      <td>0.010870</td>\n",
       "    </tr>\n",
       "    <tr>\n",
       "      <th>1996</th>\n",
       "      <td>0.000000</td>\n",
       "      <td>0.000000</td>\n",
       "      <td>0.000000</td>\n",
       "      <td>0.010870</td>\n",
       "      <td>0.010870</td>\n",
       "      <td>0.021739</td>\n",
       "      <td>0.000000</td>\n",
       "      <td>0.010870</td>\n",
       "      <td>0.01087</td>\n",
       "      <td>0.021739</td>\n",
       "      <td>...</td>\n",
       "      <td>0.021739</td>\n",
       "      <td>0.010870</td>\n",
       "      <td>0.032609</td>\n",
       "      <td>0.021739</td>\n",
       "      <td>0.000000</td>\n",
       "      <td>0.021739</td>\n",
       "      <td>0.010870</td>\n",
       "      <td>0.010870</td>\n",
       "      <td>0.000000</td>\n",
       "      <td>0.032609</td>\n",
       "    </tr>\n",
       "    <tr>\n",
       "      <th>1997</th>\n",
       "      <td>0.000000</td>\n",
       "      <td>0.021739</td>\n",
       "      <td>0.000000</td>\n",
       "      <td>0.010870</td>\n",
       "      <td>0.000000</td>\n",
       "      <td>0.000000</td>\n",
       "      <td>0.010870</td>\n",
       "      <td>0.032609</td>\n",
       "      <td>0.01087</td>\n",
       "      <td>0.010870</td>\n",
       "      <td>...</td>\n",
       "      <td>0.000000</td>\n",
       "      <td>0.010870</td>\n",
       "      <td>0.000000</td>\n",
       "      <td>0.000000</td>\n",
       "      <td>0.021739</td>\n",
       "      <td>0.000000</td>\n",
       "      <td>0.000000</td>\n",
       "      <td>0.010870</td>\n",
       "      <td>0.021739</td>\n",
       "      <td>0.000000</td>\n",
       "    </tr>\n",
       "    <tr>\n",
       "      <th>1998</th>\n",
       "      <td>0.010870</td>\n",
       "      <td>0.000000</td>\n",
       "      <td>0.021739</td>\n",
       "      <td>0.010870</td>\n",
       "      <td>0.000000</td>\n",
       "      <td>0.010870</td>\n",
       "      <td>0.010870</td>\n",
       "      <td>0.021739</td>\n",
       "      <td>0.00000</td>\n",
       "      <td>0.000000</td>\n",
       "      <td>...</td>\n",
       "      <td>0.000000</td>\n",
       "      <td>0.000000</td>\n",
       "      <td>0.021739</td>\n",
       "      <td>0.010870</td>\n",
       "      <td>0.000000</td>\n",
       "      <td>0.032609</td>\n",
       "      <td>0.000000</td>\n",
       "      <td>0.000000</td>\n",
       "      <td>0.000000</td>\n",
       "      <td>0.000000</td>\n",
       "    </tr>\n",
       "    <tr>\n",
       "      <th>1999</th>\n",
       "      <td>0.021739</td>\n",
       "      <td>0.010870</td>\n",
       "      <td>0.021739</td>\n",
       "      <td>0.021739</td>\n",
       "      <td>0.032609</td>\n",
       "      <td>0.010870</td>\n",
       "      <td>0.010870</td>\n",
       "      <td>0.032609</td>\n",
       "      <td>0.00000</td>\n",
       "      <td>0.000000</td>\n",
       "      <td>...</td>\n",
       "      <td>0.000000</td>\n",
       "      <td>0.021739</td>\n",
       "      <td>0.010870</td>\n",
       "      <td>0.010870</td>\n",
       "      <td>0.000000</td>\n",
       "      <td>0.000000</td>\n",
       "      <td>0.000000</td>\n",
       "      <td>0.000000</td>\n",
       "      <td>0.000000</td>\n",
       "      <td>0.000000</td>\n",
       "    </tr>\n",
       "  </tbody>\n",
       "</table>\n",
       "<p>2000 rows × 100 columns</p>\n",
       "</div>"
      ],
      "text/plain": [
       "            0         1         2         3         4         5         6   \\\n",
       "0     0.021739  0.010870  0.021739  0.021739  0.032609  0.021739  0.010870   \n",
       "1     0.010870  0.000000  0.000000  0.000000  0.010870  0.010870  0.010870   \n",
       "2     0.000000  0.032609  0.032609  0.021739  0.032609  0.010870  0.010870   \n",
       "3     0.010870  0.021739  0.010870  0.010870  0.021739  0.010870  0.000000   \n",
       "4     0.000000  0.000000  0.010870  0.010870  0.032609  0.010870  0.021739   \n",
       "...        ...       ...       ...       ...       ...       ...       ...   \n",
       "1995  0.021739  0.021739  0.010870  0.010870  0.010870  0.010870  0.010870   \n",
       "1996  0.000000  0.000000  0.000000  0.010870  0.010870  0.021739  0.000000   \n",
       "1997  0.000000  0.021739  0.000000  0.010870  0.000000  0.000000  0.010870   \n",
       "1998  0.010870  0.000000  0.021739  0.010870  0.000000  0.010870  0.010870   \n",
       "1999  0.021739  0.010870  0.021739  0.021739  0.032609  0.010870  0.010870   \n",
       "\n",
       "            7        8         9   ...        90        91        92  \\\n",
       "0     0.010870  0.01087  0.000000  ...  0.000000  0.010870  0.010870   \n",
       "1     0.010870  0.01087  0.043478  ...  0.021739  0.000000  0.000000   \n",
       "2     0.010870  0.00000  0.021739  ...  0.010870  0.010870  0.021739   \n",
       "3     0.000000  0.00000  0.021739  ...  0.000000  0.010870  0.021739   \n",
       "4     0.000000  0.01087  0.000000  ...  0.000000  0.000000  0.000000   \n",
       "...        ...      ...       ...  ...       ...       ...       ...   \n",
       "1995  0.021739  0.00000  0.021739  ...  0.000000  0.000000  0.010870   \n",
       "1996  0.010870  0.01087  0.021739  ...  0.021739  0.010870  0.032609   \n",
       "1997  0.032609  0.01087  0.010870  ...  0.000000  0.010870  0.000000   \n",
       "1998  0.021739  0.00000  0.000000  ...  0.000000  0.000000  0.021739   \n",
       "1999  0.032609  0.00000  0.000000  ...  0.000000  0.021739  0.010870   \n",
       "\n",
       "            93        94        95        96        97        98        99  \n",
       "0     0.010870  0.032609  0.000000  0.000000  0.000000  0.021739  0.000000  \n",
       "1     0.000000  0.000000  0.000000  0.010870  0.000000  0.010870  0.000000  \n",
       "2     0.021739  0.000000  0.010870  0.010870  0.010870  0.010870  0.010870  \n",
       "3     0.010870  0.021739  0.010870  0.010870  0.000000  0.021739  0.000000  \n",
       "4     0.000000  0.032609  0.010870  0.021739  0.010870  0.000000  0.010870  \n",
       "...        ...       ...       ...       ...       ...       ...       ...  \n",
       "1995  0.010870  0.010870  0.043478  0.000000  0.043478  0.010870  0.010870  \n",
       "1996  0.021739  0.000000  0.021739  0.010870  0.010870  0.000000  0.032609  \n",
       "1997  0.000000  0.021739  0.000000  0.000000  0.010870  0.021739  0.000000  \n",
       "1998  0.010870  0.000000  0.032609  0.000000  0.000000  0.000000  0.000000  \n",
       "1999  0.010870  0.000000  0.000000  0.000000  0.000000  0.000000  0.000000  \n",
       "\n",
       "[2000 rows x 100 columns]"
      ]
     },
     "execution_count": 85,
     "metadata": {},
     "output_type": "execute_result"
    }
   ],
   "source": [
    "X_pd = pd.read_csv(home_dir+ \"Xtr\" + k +\"_mat100.csv\", header=None, delim_whitespace=True)\n",
    "X_pd"
   ]
  },
  {
   "cell_type": "code",
   "execution_count": 86,
   "metadata": {},
   "outputs": [
    {
     "data": {
      "text/plain": [
       "(2000, 100)"
      ]
     },
     "execution_count": 86,
     "metadata": {},
     "output_type": "execute_result"
    }
   ],
   "source": [
    "X = X_pd.to_numpy()\n",
    "X.shape"
   ]
  },
  {
   "cell_type": "code",
   "execution_count": 87,
   "metadata": {},
   "outputs": [
    {
     "data": {
      "text/html": [
       "<div>\n",
       "<style scoped>\n",
       "    .dataframe tbody tr th:only-of-type {\n",
       "        vertical-align: middle;\n",
       "    }\n",
       "\n",
       "    .dataframe tbody tr th {\n",
       "        vertical-align: top;\n",
       "    }\n",
       "\n",
       "    .dataframe thead th {\n",
       "        text-align: right;\n",
       "    }\n",
       "</style>\n",
       "<table border=\"1\" class=\"dataframe\">\n",
       "  <thead>\n",
       "    <tr style=\"text-align: right;\">\n",
       "      <th></th>\n",
       "      <th>Id</th>\n",
       "      <th>Bound</th>\n",
       "    </tr>\n",
       "  </thead>\n",
       "  <tbody>\n",
       "    <tr>\n",
       "      <th>0</th>\n",
       "      <td>4000</td>\n",
       "      <td>1</td>\n",
       "    </tr>\n",
       "    <tr>\n",
       "      <th>1</th>\n",
       "      <td>4001</td>\n",
       "      <td>1</td>\n",
       "    </tr>\n",
       "    <tr>\n",
       "      <th>2</th>\n",
       "      <td>4002</td>\n",
       "      <td>1</td>\n",
       "    </tr>\n",
       "    <tr>\n",
       "      <th>3</th>\n",
       "      <td>4003</td>\n",
       "      <td>0</td>\n",
       "    </tr>\n",
       "    <tr>\n",
       "      <th>4</th>\n",
       "      <td>4004</td>\n",
       "      <td>1</td>\n",
       "    </tr>\n",
       "    <tr>\n",
       "      <th>5</th>\n",
       "      <td>4005</td>\n",
       "      <td>1</td>\n",
       "    </tr>\n",
       "    <tr>\n",
       "      <th>6</th>\n",
       "      <td>4006</td>\n",
       "      <td>0</td>\n",
       "    </tr>\n",
       "    <tr>\n",
       "      <th>7</th>\n",
       "      <td>4007</td>\n",
       "      <td>0</td>\n",
       "    </tr>\n",
       "    <tr>\n",
       "      <th>8</th>\n",
       "      <td>4008</td>\n",
       "      <td>0</td>\n",
       "    </tr>\n",
       "    <tr>\n",
       "      <th>9</th>\n",
       "      <td>4009</td>\n",
       "      <td>0</td>\n",
       "    </tr>\n",
       "  </tbody>\n",
       "</table>\n",
       "</div>"
      ],
      "text/plain": [
       "     Id  Bound\n",
       "0  4000      1\n",
       "1  4001      1\n",
       "2  4002      1\n",
       "3  4003      0\n",
       "4  4004      1\n",
       "5  4005      1\n",
       "6  4006      0\n",
       "7  4007      0\n",
       "8  4008      0\n",
       "9  4009      0"
      ]
     },
     "execution_count": 87,
     "metadata": {},
     "output_type": "execute_result"
    }
   ],
   "source": [
    "Y_pd = pd.read_csv(home_dir+ \"Ytr\" + k + \".csv\")\n",
    "Y_pd.head(10)"
   ]
  },
  {
   "cell_type": "code",
   "execution_count": 88,
   "metadata": {},
   "outputs": [
    {
     "data": {
      "text/plain": [
       "((2000,), array([1, 1, 1, 0, 1, 1, 0, 0, 0, 0], dtype=int64))"
      ]
     },
     "execution_count": 88,
     "metadata": {},
     "output_type": "execute_result"
    }
   ],
   "source": [
    "Y = Y_pd[\"Bound\"].to_numpy()\n",
    "Y.shape, Y[:10]"
   ]
  },
  {
   "cell_type": "markdown",
   "metadata": {},
   "source": [
    "### Test data"
   ]
  },
  {
   "cell_type": "code",
   "execution_count": 89,
   "metadata": {},
   "outputs": [
    {
     "data": {
      "text/html": [
       "<div>\n",
       "<style scoped>\n",
       "    .dataframe tbody tr th:only-of-type {\n",
       "        vertical-align: middle;\n",
       "    }\n",
       "\n",
       "    .dataframe tbody tr th {\n",
       "        vertical-align: top;\n",
       "    }\n",
       "\n",
       "    .dataframe thead th {\n",
       "        text-align: right;\n",
       "    }\n",
       "</style>\n",
       "<table border=\"1\" class=\"dataframe\">\n",
       "  <thead>\n",
       "    <tr style=\"text-align: right;\">\n",
       "      <th></th>\n",
       "      <th>0</th>\n",
       "      <th>1</th>\n",
       "      <th>2</th>\n",
       "      <th>3</th>\n",
       "      <th>4</th>\n",
       "      <th>5</th>\n",
       "      <th>6</th>\n",
       "      <th>7</th>\n",
       "      <th>8</th>\n",
       "      <th>9</th>\n",
       "      <th>...</th>\n",
       "      <th>90</th>\n",
       "      <th>91</th>\n",
       "      <th>92</th>\n",
       "      <th>93</th>\n",
       "      <th>94</th>\n",
       "      <th>95</th>\n",
       "      <th>96</th>\n",
       "      <th>97</th>\n",
       "      <th>98</th>\n",
       "      <th>99</th>\n",
       "    </tr>\n",
       "  </thead>\n",
       "  <tbody>\n",
       "    <tr>\n",
       "      <th>0</th>\n",
       "      <td>0.021739</td>\n",
       "      <td>0.021739</td>\n",
       "      <td>0.000000</td>\n",
       "      <td>0.010870</td>\n",
       "      <td>0.000000</td>\n",
       "      <td>0.021739</td>\n",
       "      <td>0.021739</td>\n",
       "      <td>0.032609</td>\n",
       "      <td>0.010870</td>\n",
       "      <td>0.000000</td>\n",
       "      <td>...</td>\n",
       "      <td>0.000000</td>\n",
       "      <td>0.010870</td>\n",
       "      <td>0.00000</td>\n",
       "      <td>0.021739</td>\n",
       "      <td>0.00000</td>\n",
       "      <td>0.000000</td>\n",
       "      <td>0.021739</td>\n",
       "      <td>0.010870</td>\n",
       "      <td>0.021739</td>\n",
       "      <td>0.000000</td>\n",
       "    </tr>\n",
       "    <tr>\n",
       "      <th>1</th>\n",
       "      <td>0.000000</td>\n",
       "      <td>0.010870</td>\n",
       "      <td>0.021739</td>\n",
       "      <td>0.010870</td>\n",
       "      <td>0.000000</td>\n",
       "      <td>0.000000</td>\n",
       "      <td>0.000000</td>\n",
       "      <td>0.021739</td>\n",
       "      <td>0.000000</td>\n",
       "      <td>0.000000</td>\n",
       "      <td>...</td>\n",
       "      <td>0.010870</td>\n",
       "      <td>0.010870</td>\n",
       "      <td>0.01087</td>\n",
       "      <td>0.000000</td>\n",
       "      <td>0.01087</td>\n",
       "      <td>0.010870</td>\n",
       "      <td>0.000000</td>\n",
       "      <td>0.021739</td>\n",
       "      <td>0.000000</td>\n",
       "      <td>0.010870</td>\n",
       "    </tr>\n",
       "    <tr>\n",
       "      <th>2</th>\n",
       "      <td>0.021739</td>\n",
       "      <td>0.021739</td>\n",
       "      <td>0.010870</td>\n",
       "      <td>0.021739</td>\n",
       "      <td>0.032609</td>\n",
       "      <td>0.010870</td>\n",
       "      <td>0.000000</td>\n",
       "      <td>0.000000</td>\n",
       "      <td>0.010870</td>\n",
       "      <td>0.021739</td>\n",
       "      <td>...</td>\n",
       "      <td>0.000000</td>\n",
       "      <td>0.000000</td>\n",
       "      <td>0.00000</td>\n",
       "      <td>0.000000</td>\n",
       "      <td>0.00000</td>\n",
       "      <td>0.000000</td>\n",
       "      <td>0.000000</td>\n",
       "      <td>0.010870</td>\n",
       "      <td>0.021739</td>\n",
       "      <td>0.000000</td>\n",
       "    </tr>\n",
       "    <tr>\n",
       "      <th>3</th>\n",
       "      <td>0.000000</td>\n",
       "      <td>0.010870</td>\n",
       "      <td>0.021739</td>\n",
       "      <td>0.010870</td>\n",
       "      <td>0.021739</td>\n",
       "      <td>0.000000</td>\n",
       "      <td>0.010870</td>\n",
       "      <td>0.000000</td>\n",
       "      <td>0.010870</td>\n",
       "      <td>0.010870</td>\n",
       "      <td>...</td>\n",
       "      <td>0.010870</td>\n",
       "      <td>0.010870</td>\n",
       "      <td>0.00000</td>\n",
       "      <td>0.000000</td>\n",
       "      <td>0.00000</td>\n",
       "      <td>0.000000</td>\n",
       "      <td>0.010870</td>\n",
       "      <td>0.010870</td>\n",
       "      <td>0.000000</td>\n",
       "      <td>0.010870</td>\n",
       "    </tr>\n",
       "    <tr>\n",
       "      <th>4</th>\n",
       "      <td>0.010870</td>\n",
       "      <td>0.010870</td>\n",
       "      <td>0.010870</td>\n",
       "      <td>0.010870</td>\n",
       "      <td>0.021739</td>\n",
       "      <td>0.010870</td>\n",
       "      <td>0.010870</td>\n",
       "      <td>0.010870</td>\n",
       "      <td>0.000000</td>\n",
       "      <td>0.021739</td>\n",
       "      <td>...</td>\n",
       "      <td>0.010870</td>\n",
       "      <td>0.021739</td>\n",
       "      <td>0.00000</td>\n",
       "      <td>0.000000</td>\n",
       "      <td>0.00000</td>\n",
       "      <td>0.010870</td>\n",
       "      <td>0.000000</td>\n",
       "      <td>0.000000</td>\n",
       "      <td>0.010870</td>\n",
       "      <td>0.000000</td>\n",
       "    </tr>\n",
       "    <tr>\n",
       "      <th>...</th>\n",
       "      <td>...</td>\n",
       "      <td>...</td>\n",
       "      <td>...</td>\n",
       "      <td>...</td>\n",
       "      <td>...</td>\n",
       "      <td>...</td>\n",
       "      <td>...</td>\n",
       "      <td>...</td>\n",
       "      <td>...</td>\n",
       "      <td>...</td>\n",
       "      <td>...</td>\n",
       "      <td>...</td>\n",
       "      <td>...</td>\n",
       "      <td>...</td>\n",
       "      <td>...</td>\n",
       "      <td>...</td>\n",
       "      <td>...</td>\n",
       "      <td>...</td>\n",
       "      <td>...</td>\n",
       "      <td>...</td>\n",
       "      <td>...</td>\n",
       "    </tr>\n",
       "    <tr>\n",
       "      <th>995</th>\n",
       "      <td>0.000000</td>\n",
       "      <td>0.000000</td>\n",
       "      <td>0.000000</td>\n",
       "      <td>0.010870</td>\n",
       "      <td>0.000000</td>\n",
       "      <td>0.021739</td>\n",
       "      <td>0.000000</td>\n",
       "      <td>0.010870</td>\n",
       "      <td>0.010870</td>\n",
       "      <td>0.000000</td>\n",
       "      <td>...</td>\n",
       "      <td>0.000000</td>\n",
       "      <td>0.010870</td>\n",
       "      <td>0.00000</td>\n",
       "      <td>0.000000</td>\n",
       "      <td>0.00000</td>\n",
       "      <td>0.000000</td>\n",
       "      <td>0.010870</td>\n",
       "      <td>0.000000</td>\n",
       "      <td>0.000000</td>\n",
       "      <td>0.021739</td>\n",
       "    </tr>\n",
       "    <tr>\n",
       "      <th>996</th>\n",
       "      <td>0.021739</td>\n",
       "      <td>0.010870</td>\n",
       "      <td>0.021739</td>\n",
       "      <td>0.010870</td>\n",
       "      <td>0.021739</td>\n",
       "      <td>0.010870</td>\n",
       "      <td>0.000000</td>\n",
       "      <td>0.010870</td>\n",
       "      <td>0.000000</td>\n",
       "      <td>0.010870</td>\n",
       "      <td>...</td>\n",
       "      <td>0.010870</td>\n",
       "      <td>0.043478</td>\n",
       "      <td>0.01087</td>\n",
       "      <td>0.000000</td>\n",
       "      <td>0.00000</td>\n",
       "      <td>0.000000</td>\n",
       "      <td>0.000000</td>\n",
       "      <td>0.000000</td>\n",
       "      <td>0.010870</td>\n",
       "      <td>0.000000</td>\n",
       "    </tr>\n",
       "    <tr>\n",
       "      <th>997</th>\n",
       "      <td>0.010870</td>\n",
       "      <td>0.010870</td>\n",
       "      <td>0.010870</td>\n",
       "      <td>0.000000</td>\n",
       "      <td>0.021739</td>\n",
       "      <td>0.000000</td>\n",
       "      <td>0.000000</td>\n",
       "      <td>0.000000</td>\n",
       "      <td>0.000000</td>\n",
       "      <td>0.000000</td>\n",
       "      <td>...</td>\n",
       "      <td>0.021739</td>\n",
       "      <td>0.010870</td>\n",
       "      <td>0.01087</td>\n",
       "      <td>0.000000</td>\n",
       "      <td>0.00000</td>\n",
       "      <td>0.000000</td>\n",
       "      <td>0.000000</td>\n",
       "      <td>0.000000</td>\n",
       "      <td>0.010870</td>\n",
       "      <td>0.000000</td>\n",
       "    </tr>\n",
       "    <tr>\n",
       "      <th>998</th>\n",
       "      <td>0.010870</td>\n",
       "      <td>0.000000</td>\n",
       "      <td>0.000000</td>\n",
       "      <td>0.021739</td>\n",
       "      <td>0.000000</td>\n",
       "      <td>0.000000</td>\n",
       "      <td>0.000000</td>\n",
       "      <td>0.021739</td>\n",
       "      <td>0.000000</td>\n",
       "      <td>0.000000</td>\n",
       "      <td>...</td>\n",
       "      <td>0.010870</td>\n",
       "      <td>0.010870</td>\n",
       "      <td>0.01087</td>\n",
       "      <td>0.010870</td>\n",
       "      <td>0.00000</td>\n",
       "      <td>0.010870</td>\n",
       "      <td>0.010870</td>\n",
       "      <td>0.000000</td>\n",
       "      <td>0.000000</td>\n",
       "      <td>0.021739</td>\n",
       "    </tr>\n",
       "    <tr>\n",
       "      <th>999</th>\n",
       "      <td>0.000000</td>\n",
       "      <td>0.010870</td>\n",
       "      <td>0.010870</td>\n",
       "      <td>0.010870</td>\n",
       "      <td>0.000000</td>\n",
       "      <td>0.021739</td>\n",
       "      <td>0.021739</td>\n",
       "      <td>0.010870</td>\n",
       "      <td>0.043478</td>\n",
       "      <td>0.000000</td>\n",
       "      <td>...</td>\n",
       "      <td>0.010870</td>\n",
       "      <td>0.000000</td>\n",
       "      <td>0.00000</td>\n",
       "      <td>0.021739</td>\n",
       "      <td>0.00000</td>\n",
       "      <td>0.021739</td>\n",
       "      <td>0.032609</td>\n",
       "      <td>0.010870</td>\n",
       "      <td>0.010870</td>\n",
       "      <td>0.000000</td>\n",
       "    </tr>\n",
       "  </tbody>\n",
       "</table>\n",
       "<p>1000 rows × 100 columns</p>\n",
       "</div>"
      ],
      "text/plain": [
       "           0         1         2         3         4         5         6   \\\n",
       "0    0.021739  0.021739  0.000000  0.010870  0.000000  0.021739  0.021739   \n",
       "1    0.000000  0.010870  0.021739  0.010870  0.000000  0.000000  0.000000   \n",
       "2    0.021739  0.021739  0.010870  0.021739  0.032609  0.010870  0.000000   \n",
       "3    0.000000  0.010870  0.021739  0.010870  0.021739  0.000000  0.010870   \n",
       "4    0.010870  0.010870  0.010870  0.010870  0.021739  0.010870  0.010870   \n",
       "..        ...       ...       ...       ...       ...       ...       ...   \n",
       "995  0.000000  0.000000  0.000000  0.010870  0.000000  0.021739  0.000000   \n",
       "996  0.021739  0.010870  0.021739  0.010870  0.021739  0.010870  0.000000   \n",
       "997  0.010870  0.010870  0.010870  0.000000  0.021739  0.000000  0.000000   \n",
       "998  0.010870  0.000000  0.000000  0.021739  0.000000  0.000000  0.000000   \n",
       "999  0.000000  0.010870  0.010870  0.010870  0.000000  0.021739  0.021739   \n",
       "\n",
       "           7         8         9   ...        90        91       92        93  \\\n",
       "0    0.032609  0.010870  0.000000  ...  0.000000  0.010870  0.00000  0.021739   \n",
       "1    0.021739  0.000000  0.000000  ...  0.010870  0.010870  0.01087  0.000000   \n",
       "2    0.000000  0.010870  0.021739  ...  0.000000  0.000000  0.00000  0.000000   \n",
       "3    0.000000  0.010870  0.010870  ...  0.010870  0.010870  0.00000  0.000000   \n",
       "4    0.010870  0.000000  0.021739  ...  0.010870  0.021739  0.00000  0.000000   \n",
       "..        ...       ...       ...  ...       ...       ...      ...       ...   \n",
       "995  0.010870  0.010870  0.000000  ...  0.000000  0.010870  0.00000  0.000000   \n",
       "996  0.010870  0.000000  0.010870  ...  0.010870  0.043478  0.01087  0.000000   \n",
       "997  0.000000  0.000000  0.000000  ...  0.021739  0.010870  0.01087  0.000000   \n",
       "998  0.021739  0.000000  0.000000  ...  0.010870  0.010870  0.01087  0.010870   \n",
       "999  0.010870  0.043478  0.000000  ...  0.010870  0.000000  0.00000  0.021739   \n",
       "\n",
       "          94        95        96        97        98        99  \n",
       "0    0.00000  0.000000  0.021739  0.010870  0.021739  0.000000  \n",
       "1    0.01087  0.010870  0.000000  0.021739  0.000000  0.010870  \n",
       "2    0.00000  0.000000  0.000000  0.010870  0.021739  0.000000  \n",
       "3    0.00000  0.000000  0.010870  0.010870  0.000000  0.010870  \n",
       "4    0.00000  0.010870  0.000000  0.000000  0.010870  0.000000  \n",
       "..       ...       ...       ...       ...       ...       ...  \n",
       "995  0.00000  0.000000  0.010870  0.000000  0.000000  0.021739  \n",
       "996  0.00000  0.000000  0.000000  0.000000  0.010870  0.000000  \n",
       "997  0.00000  0.000000  0.000000  0.000000  0.010870  0.000000  \n",
       "998  0.00000  0.010870  0.010870  0.000000  0.000000  0.021739  \n",
       "999  0.00000  0.021739  0.032609  0.010870  0.010870  0.000000  \n",
       "\n",
       "[1000 rows x 100 columns]"
      ]
     },
     "execution_count": 89,
     "metadata": {},
     "output_type": "execute_result"
    }
   ],
   "source": [
    "X_test_pd = pd.read_csv(home_dir+ \"Xte\" +k + \"_mat100.csv\", header=None, delim_whitespace=True)\n",
    "X_test_pd"
   ]
  },
  {
   "cell_type": "code",
   "execution_count": 90,
   "metadata": {},
   "outputs": [
    {
     "name": "stdout",
     "output_type": "stream",
     "text": [
      "(1000, 100)\n"
     ]
    }
   ],
   "source": [
    "X_test = X_test_pd.to_numpy()\n",
    "print(X_test.shape)"
   ]
  },
  {
   "cell_type": "markdown",
   "metadata": {},
   "source": [
    "## Testing the soundness on a train and validation set"
   ]
  },
  {
   "cell_type": "code",
   "execution_count": 91,
   "metadata": {},
   "outputs": [
    {
     "name": "stdout",
     "output_type": "stream",
     "text": [
      "(1600, 100) (1600,) (400, 100) (400,)\n"
     ]
    }
   ],
   "source": [
    "X_train, X_val, Y_train, Y_val = train_test_split(X, Y, test_size =0.2, shuffle = True, random_state = 0)\n",
    "print(X_train.shape, Y_train.shape, X_val.shape, Y_val.shape)"
   ]
  },
  {
   "cell_type": "code",
   "execution_count": 125,
   "metadata": {},
   "outputs": [
    {
     "name": "stdout",
     "output_type": "stream",
     "text": [
      "[0.16608455]\n"
     ]
    }
   ],
   "source": [
    "# As a heuristic, we use the average squared distance between features for our sigma\n",
    "\n",
    "\"\"\"\n",
    "Computing sigma estimate\n",
    "\"\"\"\n",
    "mu = compute_sigma_heuristic(X_train)\n",
    "print(mu)"
   ]
  },
  {
   "cell_type": "code",
   "execution_count": 126,
   "metadata": {},
   "outputs": [],
   "source": [
    "gamma = 1/mu**2\n",
    "reg = 1e-5"
   ]
  },
  {
   "cell_type": "code",
   "execution_count": 127,
   "metadata": {},
   "outputs": [],
   "source": [
    "KR = KernelRegression(\"RBF\", mu)\n",
    "KR.fit(X_train, Y_train,  reg = reg)\n",
    "pred_val = KR.predict(X_val)"
   ]
  },
  {
   "cell_type": "code",
   "execution_count": 128,
   "metadata": {},
   "outputs": [],
   "source": [
    "K = KernelRidge(alpha = reg, kernel = \"rbf\", gamma = gamma)\n",
    "K.fit(X_train, Y_train)\n",
    "pred_SK = K.predict(X_val)"
   ]
  },
  {
   "cell_type": "code",
   "execution_count": 129,
   "metadata": {},
   "outputs": [],
   "source": [
    "# Checking that our implementation gives the same answer\n",
    "np1.testing.assert_almost_equal(pred_SK, pred_val)"
   ]
  },
  {
   "cell_type": "code",
   "execution_count": 130,
   "metadata": {
    "scrolled": true
   },
   "outputs": [],
   "source": [
    "pred_val = pred_to_class(pred_val)"
   ]
  },
  {
   "cell_type": "code",
   "execution_count": 131,
   "metadata": {},
   "outputs": [
    {
     "data": {
      "text/plain": [
       "0.685"
      ]
     },
     "execution_count": 131,
     "metadata": {},
     "output_type": "execute_result"
    }
   ],
   "source": [
    "acc(pred_val, Y_val)"
   ]
  },
  {
   "cell_type": "code",
   "execution_count": 135,
   "metadata": {},
   "outputs": [
    {
     "data": {
      "text/plain": [
       "0.7175"
      ]
     },
     "execution_count": 135,
     "metadata": {},
     "output_type": "execute_result"
    }
   ],
   "source": [
    "pred_KF = K.predict(X_val, reg = reg)\n",
    "\n",
    "pred_KF = pred_to_class(pred_KF)\n",
    "acc(pred_KF, Y_val)"
   ]
  },
  {
   "cell_type": "code",
   "execution_count": 92,
   "metadata": {},
   "outputs": [
    {
     "name": "stdout",
     "output_type": "stream",
     "text": [
      "Iteration  0\n",
      "Iteration  100\n",
      "Iteration  200\n",
      "Iteration  300\n",
      "Iteration  400\n"
     ]
    }
   ],
   "source": [
    "#Initialize all parameters to 1.0\n",
    "reg = 1e-5\n",
    "parameters = np.ones(7).astype(\"float\")\n",
    "K = KernelFlowsPAutograd(\"custom\",parameters, custom_kernel)\n",
    "mu_pred = K.fit(X_train, Y_train, 500, optimizer = \"Nesterov\",  batch_size = 0.5, show_it = 100, reg = reg)"
   ]
  },
  {
   "cell_type": "code",
   "execution_count": 93,
   "metadata": {},
   "outputs": [
    {
     "data": {
      "text/plain": [
       "array([-0.64250995,  2.75456999,  0.25517948,  2.99754756,  2.30867908,\n",
       "       -0.20611549, -2.85971435])"
      ]
     },
     "execution_count": 93,
     "metadata": {},
     "output_type": "execute_result"
    }
   ],
   "source": [
    "mu_pred"
   ]
  },
  {
   "cell_type": "code",
   "execution_count": 94,
   "metadata": {},
   "outputs": [
    {
     "data": {
      "text/plain": [
       "[<matplotlib.lines.Line2D at 0x1f66057d0f0>]"
      ]
     },
     "execution_count": 94,
     "metadata": {},
     "output_type": "execute_result"
    },
    {
     "data": {
      "image/png": "[encoded data removed]",
      "text/plain": [
       "<Figure size 432x288 with 1 Axes>"
      ]
     },
     "metadata": {
      "needs_background": "light"
     },
     "output_type": "display_data"
    }
   ],
   "source": [
    "plt.plot(K.rho_values)"
   ]
  },
  {
   "cell_type": "code",
   "execution_count": 95,
   "metadata": {},
   "outputs": [
    {
     "data": {
      "text/plain": [
       "0.715"
      ]
     },
     "execution_count": 95,
     "metadata": {},
     "output_type": "execute_result"
    }
   ],
   "source": [
    "# Making a prediction\n",
    "\n",
    "pred_KF = K.predict(X_val, reg = reg)\n",
    "\n",
    "pred_KF = pred_to_class(pred_KF)\n",
    "acc(pred_KF, Y_val)"
   ]
  },
  {
   "cell_type": "markdown",
   "metadata": {},
   "source": [
    "## Final prediction on the test set"
   ]
  },
  {
   "cell_type": "code",
   "execution_count": 136,
   "metadata": {},
   "outputs": [
    {
     "name": "stdout",
     "output_type": "stream",
     "text": [
      "[0.16643195]\n"
     ]
    }
   ],
   "source": [
    "mu = compute_sigma_heuristic(X)\n",
    "print(mu)\n",
    "\n",
    "KR = KernelRegression(\"RBF\", mu)\n",
    "KR.fit(X, Y,  reg = reg)\n",
    "pred_2 = KR.predict(X_test)\n",
    "\n",
    "pred_2 = pred_to_class(pred_2)\n",
    "pred_2 = np.vstack((np.arange(pred_2.shape[0])+ 1000*k_int, pred_2)).T"
   ]
  },
  {
   "cell_type": "code",
   "execution_count": 137,
   "metadata": {},
   "outputs": [
    {
     "data": {
      "text/plain": [
       "(array([[  0.,   1.],\n",
       "        [  1.,   0.],\n",
       "        [  2.,   1.],\n",
       "        ...,\n",
       "        [997.,   1.],\n",
       "        [998.,   1.],\n",
       "        [999.,   0.]]),\n",
       " array([[1.000e+03, 0.000e+00],\n",
       "        [1.001e+03, 1.000e+00],\n",
       "        [1.002e+03, 1.000e+00],\n",
       "        ...,\n",
       "        [1.997e+03, 0.000e+00],\n",
       "        [1.998e+03, 0.000e+00],\n",
       "        [1.999e+03, 1.000e+00]]),\n",
       " array([[2.000e+03, 1.000e+00],\n",
       "        [2.001e+03, 0.000e+00],\n",
       "        [2.002e+03, 0.000e+00],\n",
       "        ...,\n",
       "        [2.997e+03, 0.000e+00],\n",
       "        [2.998e+03, 0.000e+00],\n",
       "        [2.999e+03, 1.000e+00]]))"
      ]
     },
     "execution_count": 137,
     "metadata": {},
     "output_type": "execute_result"
    }
   ],
   "source": [
    "pred_0, pred_1, pred_2"
   ]
  },
  {
   "cell_type": "code",
   "execution_count": 96,
   "metadata": {},
   "outputs": [
    {
     "name": "stdout",
     "output_type": "stream",
     "text": [
      "Iteration  0\n",
      "Iteration  100\n",
      "Iteration  200\n",
      "Iteration  300\n",
      "Iteration  400\n"
     ]
    }
   ],
   "source": [
    "#Initialize all parameters to 1.0\n",
    "reg = 1e-5\n",
    "parameters = np.ones(7).astype(\"float\")\n",
    "K = KernelFlowsPAutograd(\"custom\",parameters, custom_kernel)\n",
    "mu_pred = K.fit(X, Y, 500, optimizer = \"Nesterov\",  batch_size = 0.5, show_it = 100, reg = reg)"
   ]
  },
  {
   "cell_type": "code",
   "execution_count": 97,
   "metadata": {},
   "outputs": [
    {
     "data": {
      "text/plain": [
       "[<matplotlib.lines.Line2D at 0x1f6605de0b8>]"
      ]
     },
     "execution_count": 97,
     "metadata": {},
     "output_type": "execute_result"
    },
    {
     "data": {
      "image/png": "[encoded data removed]",
      "text/plain": [
       "<Figure size 432x288 with 1 Axes>"
      ]
     },
     "metadata": {
      "needs_background": "light"
     },
     "output_type": "display_data"
    }
   ],
   "source": [
    "plt.plot(K.rho_values)"
   ]
  },
  {
   "cell_type": "code",
   "execution_count": 98,
   "metadata": {},
   "outputs": [],
   "source": [
    "pred_KF_test_2 = K.predict(X_test, reg = reg)\n",
    "pred_KF_test_2 = pred_to_class(pred_KF_test_2)\n",
    "\n",
    "pred_KF_test_2 = np.vstack((np.arange(pred_KF_test_2.shape[0])+ 1000*k_int, pred_KF_test_2)).T"
   ]
  },
  {
   "cell_type": "code",
   "execution_count": 99,
   "metadata": {},
   "outputs": [
    {
     "data": {
      "text/plain": [
       "(array([[2.000e+03, 0.000e+00],\n",
       "        [2.001e+03, 0.000e+00],\n",
       "        [2.002e+03, 1.000e+00],\n",
       "        ...,\n",
       "        [2.997e+03, 0.000e+00],\n",
       "        [2.998e+03, 0.000e+00],\n",
       "        [2.999e+03, 1.000e+00]]),\n",
       " array([[1.000e+03, 0.000e+00],\n",
       "        [1.001e+03, 1.000e+00],\n",
       "        [1.002e+03, 1.000e+00],\n",
       "        ...,\n",
       "        [1.997e+03, 0.000e+00],\n",
       "        [1.998e+03, 0.000e+00],\n",
       "        [1.999e+03, 1.000e+00]]),\n",
       " array([[  0.,   1.],\n",
       "        [  1.,   1.],\n",
       "        [  2.,   1.],\n",
       "        ...,\n",
       "        [997.,   1.],\n",
       "        [998.,   0.],\n",
       "        [999.,   0.]]))"
      ]
     },
     "execution_count": 99,
     "metadata": {},
     "output_type": "execute_result"
    }
   ],
   "source": [
    "pred_KF_test_2, pred_KF_test_1, pred_KF_test_0"
   ]
  },
  {
   "cell_type": "code",
   "execution_count": 100,
   "metadata": {},
   "outputs": [
    {
     "ename": "AssertionError",
     "evalue": "\nArrays are not almost equal to 7 decimals\n\nMismatched elements: 1505 / 2000 (75.2%)\nMax absolute difference: 1000.\nMax relative difference: 1.\n x: array([[2.000e+03, 0.000e+00],\n       [2.001e+03, 0.000e+00],\n       [2.002e+03, 1.000e+00],...\n y: array([[1.000e+03, 0.000e+00],\n       [1.001e+03, 1.000e+00],\n       [1.002e+03, 1.000e+00],...",
     "output_type": "error",
     "traceback": [
      "\u001b[1;31m---------------------------------------------------------------------------\u001b[0m",
      "\u001b[1;31mAssertionError\u001b[0m                            Traceback (most recent call last)",
      "\u001b[1;32m<ipython-input-100-9b4a7de961ec>\u001b[0m in \u001b[0;36m<module>\u001b[1;34m\u001b[0m\n\u001b[1;32m----> 1\u001b[1;33m \u001b[0mnp1\u001b[0m\u001b[1;33m.\u001b[0m\u001b[0mtesting\u001b[0m\u001b[1;33m.\u001b[0m\u001b[0massert_almost_equal\u001b[0m\u001b[1;33m(\u001b[0m\u001b[0mpred_KF_test_2\u001b[0m\u001b[1;33m,\u001b[0m \u001b[0mpred_KF_test_1\u001b[0m\u001b[1;33m)\u001b[0m\u001b[1;33m\u001b[0m\u001b[1;33m\u001b[0m\u001b[0m\n\u001b[0m",
      "    \u001b[1;31m[... skipping hidden 2 frame]\u001b[0m\n",
      "\u001b[1;32mD:\\Anaconda\\lib\\site-packages\\numpy\\testing\\_private\\utils.py\u001b[0m in \u001b[0;36massert_array_compare\u001b[1;34m(comparison, x, y, err_msg, verbose, header, precision, equal_nan, equal_inf)\u001b[0m\n\u001b[0;32m    838\u001b[0m                                 \u001b[0mverbose\u001b[0m\u001b[1;33m=\u001b[0m\u001b[0mverbose\u001b[0m\u001b[1;33m,\u001b[0m \u001b[0mheader\u001b[0m\u001b[1;33m=\u001b[0m\u001b[0mheader\u001b[0m\u001b[1;33m,\u001b[0m\u001b[1;33m\u001b[0m\u001b[1;33m\u001b[0m\u001b[0m\n\u001b[0;32m    839\u001b[0m                                 names=('x', 'y'), precision=precision)\n\u001b[1;32m--> 840\u001b[1;33m             \u001b[1;32mraise\u001b[0m \u001b[0mAssertionError\u001b[0m\u001b[1;33m(\u001b[0m\u001b[0mmsg\u001b[0m\u001b[1;33m)\u001b[0m\u001b[1;33m\u001b[0m\u001b[1;33m\u001b[0m\u001b[0m\n\u001b[0m\u001b[0;32m    841\u001b[0m     \u001b[1;32mexcept\u001b[0m \u001b[0mValueError\u001b[0m\u001b[1;33m:\u001b[0m\u001b[1;33m\u001b[0m\u001b[1;33m\u001b[0m\u001b[0m\n\u001b[0;32m    842\u001b[0m         \u001b[1;32mimport\u001b[0m \u001b[0mtraceback\u001b[0m\u001b[1;33m\u001b[0m\u001b[1;33m\u001b[0m\u001b[0m\n",
      "\u001b[1;31mAssertionError\u001b[0m: \nArrays are not almost equal to 7 decimals\n\nMismatched elements: 1505 / 2000 (75.2%)\nMax absolute difference: 1000.\nMax relative difference: 1.\n x: array([[2.000e+03, 0.000e+00],\n       [2.001e+03, 0.000e+00],\n       [2.002e+03, 1.000e+00],...\n y: array([[1.000e+03, 0.000e+00],\n       [1.001e+03, 1.000e+00],\n       [1.002e+03, 1.000e+00],..."
     ]
    }
   ],
   "source": [
    "np1.testing.assert_almost_equal(pred_KF_test_2, pred_KF_test_1)"
   ]
  },
  {
   "cell_type": "code",
   "execution_count": 101,
   "metadata": {},
   "outputs": [
    {
     "ename": "AssertionError",
     "evalue": "\nArrays are not almost equal to 7 decimals\n\nMismatched elements: 1486 / 2000 (74.3%)\nMax absolute difference: 2000.\nMax relative difference: 2000.\n x: array([[2.000e+03, 0.000e+00],\n       [2.001e+03, 0.000e+00],\n       [2.002e+03, 1.000e+00],...\n y: array([[  0.,   1.],\n       [  1.,   1.],\n       [  2.,   1.],...",
     "output_type": "error",
     "traceback": [
      "\u001b[1;31m---------------------------------------------------------------------------\u001b[0m",
      "\u001b[1;31mAssertionError\u001b[0m                            Traceback (most recent call last)",
      "\u001b[1;32m<ipython-input-101-1d12d83227be>\u001b[0m in \u001b[0;36m<module>\u001b[1;34m\u001b[0m\n\u001b[1;32m----> 1\u001b[1;33m \u001b[0mnp1\u001b[0m\u001b[1;33m.\u001b[0m\u001b[0mtesting\u001b[0m\u001b[1;33m.\u001b[0m\u001b[0massert_almost_equal\u001b[0m\u001b[1;33m(\u001b[0m\u001b[0mpred_KF_test_2\u001b[0m\u001b[1;33m,\u001b[0m \u001b[0mpred_KF_test_0\u001b[0m\u001b[1;33m)\u001b[0m\u001b[1;33m\u001b[0m\u001b[1;33m\u001b[0m\u001b[0m\n\u001b[0m",
      "    \u001b[1;31m[... skipping hidden 2 frame]\u001b[0m\n",
      "\u001b[1;32mD:\\Anaconda\\lib\\site-packages\\numpy\\testing\\_private\\utils.py\u001b[0m in \u001b[0;36massert_array_compare\u001b[1;34m(comparison, x, y, err_msg, verbose, header, precision, equal_nan, equal_inf)\u001b[0m\n\u001b[0;32m    838\u001b[0m                                 \u001b[0mverbose\u001b[0m\u001b[1;33m=\u001b[0m\u001b[0mverbose\u001b[0m\u001b[1;33m,\u001b[0m \u001b[0mheader\u001b[0m\u001b[1;33m=\u001b[0m\u001b[0mheader\u001b[0m\u001b[1;33m,\u001b[0m\u001b[1;33m\u001b[0m\u001b[1;33m\u001b[0m\u001b[0m\n\u001b[0;32m    839\u001b[0m                                 names=('x', 'y'), precision=precision)\n\u001b[1;32m--> 840\u001b[1;33m             \u001b[1;32mraise\u001b[0m \u001b[0mAssertionError\u001b[0m\u001b[1;33m(\u001b[0m\u001b[0mmsg\u001b[0m\u001b[1;33m)\u001b[0m\u001b[1;33m\u001b[0m\u001b[1;33m\u001b[0m\u001b[0m\n\u001b[0m\u001b[0;32m    841\u001b[0m     \u001b[1;32mexcept\u001b[0m \u001b[0mValueError\u001b[0m\u001b[1;33m:\u001b[0m\u001b[1;33m\u001b[0m\u001b[1;33m\u001b[0m\u001b[0m\n\u001b[0;32m    842\u001b[0m         \u001b[1;32mimport\u001b[0m \u001b[0mtraceback\u001b[0m\u001b[1;33m\u001b[0m\u001b[1;33m\u001b[0m\u001b[0m\n",
      "\u001b[1;31mAssertionError\u001b[0m: \nArrays are not almost equal to 7 decimals\n\nMismatched elements: 1486 / 2000 (74.3%)\nMax absolute difference: 2000.\nMax relative difference: 2000.\n x: array([[2.000e+03, 0.000e+00],\n       [2.001e+03, 0.000e+00],\n       [2.002e+03, 1.000e+00],...\n y: array([[  0.,   1.],\n       [  1.,   1.],\n       [  2.,   1.],..."
     ]
    }
   ],
   "source": [
    "np1.testing.assert_almost_equal(pred_KF_test_2, pred_KF_test_0)"
   ]
  },
  {
   "cell_type": "code",
   "execution_count": 102,
   "metadata": {},
   "outputs": [
    {
     "ename": "AssertionError",
     "evalue": "\nArrays are not almost equal to 7 decimals\n\nMismatched elements: 1505 / 2000 (75.2%)\nMax absolute difference: 1000.\nMax relative difference: 1.\n x: array([[  0.,   1.],\n       [  1.,   1.],\n       [  2.,   1.],...\n y: array([[1.000e+03, 0.000e+00],\n       [1.001e+03, 1.000e+00],\n       [1.002e+03, 1.000e+00],...",
     "output_type": "error",
     "traceback": [
      "\u001b[1;31m---------------------------------------------------------------------------\u001b[0m",
      "\u001b[1;31mAssertionError\u001b[0m                            Traceback (most recent call last)",
      "\u001b[1;32m<ipython-input-102-6f582ac11be0>\u001b[0m in \u001b[0;36m<module>\u001b[1;34m\u001b[0m\n\u001b[1;32m----> 1\u001b[1;33m \u001b[0mnp1\u001b[0m\u001b[1;33m.\u001b[0m\u001b[0mtesting\u001b[0m\u001b[1;33m.\u001b[0m\u001b[0massert_almost_equal\u001b[0m\u001b[1;33m(\u001b[0m\u001b[0mpred_KF_test_0\u001b[0m\u001b[1;33m,\u001b[0m \u001b[0mpred_KF_test_1\u001b[0m\u001b[1;33m)\u001b[0m\u001b[1;33m\u001b[0m\u001b[1;33m\u001b[0m\u001b[0m\n\u001b[0m",
      "    \u001b[1;31m[... skipping hidden 2 frame]\u001b[0m\n",
      "\u001b[1;32mD:\\Anaconda\\lib\\site-packages\\numpy\\testing\\_private\\utils.py\u001b[0m in \u001b[0;36massert_array_compare\u001b[1;34m(comparison, x, y, err_msg, verbose, header, precision, equal_nan, equal_inf)\u001b[0m\n\u001b[0;32m    838\u001b[0m                                 \u001b[0mverbose\u001b[0m\u001b[1;33m=\u001b[0m\u001b[0mverbose\u001b[0m\u001b[1;33m,\u001b[0m \u001b[0mheader\u001b[0m\u001b[1;33m=\u001b[0m\u001b[0mheader\u001b[0m\u001b[1;33m,\u001b[0m\u001b[1;33m\u001b[0m\u001b[1;33m\u001b[0m\u001b[0m\n\u001b[0;32m    839\u001b[0m                                 names=('x', 'y'), precision=precision)\n\u001b[1;32m--> 840\u001b[1;33m             \u001b[1;32mraise\u001b[0m \u001b[0mAssertionError\u001b[0m\u001b[1;33m(\u001b[0m\u001b[0mmsg\u001b[0m\u001b[1;33m)\u001b[0m\u001b[1;33m\u001b[0m\u001b[1;33m\u001b[0m\u001b[0m\n\u001b[0m\u001b[0;32m    841\u001b[0m     \u001b[1;32mexcept\u001b[0m \u001b[0mValueError\u001b[0m\u001b[1;33m:\u001b[0m\u001b[1;33m\u001b[0m\u001b[1;33m\u001b[0m\u001b[0m\n\u001b[0;32m    842\u001b[0m         \u001b[1;32mimport\u001b[0m \u001b[0mtraceback\u001b[0m\u001b[1;33m\u001b[0m\u001b[1;33m\u001b[0m\u001b[0m\n",
      "\u001b[1;31mAssertionError\u001b[0m: \nArrays are not almost equal to 7 decimals\n\nMismatched elements: 1505 / 2000 (75.2%)\nMax absolute difference: 1000.\nMax relative difference: 1.\n x: array([[  0.,   1.],\n       [  1.,   1.],\n       [  2.,   1.],...\n y: array([[1.000e+03, 0.000e+00],\n       [1.001e+03, 1.000e+00],\n       [1.002e+03, 1.000e+00],..."
     ]
    }
   ],
   "source": [
    "np1.testing.assert_almost_equal(pred_KF_test_0, pred_KF_test_1)"
   ]
  },
  {
   "cell_type": "markdown",
   "metadata": {},
   "source": [
    "# Concatenating the whole predictions"
   ]
  },
  {
   "cell_type": "code",
   "execution_count": 108,
   "metadata": {},
   "outputs": [
    {
     "name": "stdout",
     "output_type": "stream",
     "text": [
      "(3000, 2)\n"
     ]
    }
   ],
   "source": [
    "final_pred = np.vstack((pred_KF_test_0, pred_KF_test_1, pred_KF_test_2))\n",
    "print(final_pred.shape)"
   ]
  },
  {
   "cell_type": "code",
   "execution_count": 109,
   "metadata": {},
   "outputs": [],
   "source": [
    "pd.DataFrame(final_pred, columns = [\"Id\", \"Bound\"]).to_csv(\"KF_pred_complex.csv\")"
   ]
  },
  {
   "cell_type": "code",
   "execution_count": 110,
   "metadata": {},
   "outputs": [
    {
     "data": {
      "text/plain": [
       "array([[0.000e+00, 1.000e+00],\n",
       "       [1.000e+00, 1.000e+00],\n",
       "       [2.000e+00, 1.000e+00],\n",
       "       ...,\n",
       "       [2.997e+03, 0.000e+00],\n",
       "       [2.998e+03, 0.000e+00],\n",
       "       [2.999e+03, 1.000e+00]])"
      ]
     },
     "execution_count": 110,
     "metadata": {},
     "output_type": "execute_result"
    }
   ],
   "source": [
    "final_pred"
   ]
  },
  {
   "cell_type": "code",
   "execution_count": 111,
   "metadata": {},
   "outputs": [
    {
     "data": {
      "text/plain": [
       "array([2.999e+03, 1.000e+00])"
      ]
     },
     "execution_count": 111,
     "metadata": {},
     "output_type": "execute_result"
    }
   ],
   "source": [
    "final_pred[-1]"
   ]
  },
  {
   "cell_type": "code",
   "execution_count": null,
   "metadata": {},
   "outputs": [],
   "source": []
  }
 ],
 "metadata": {
  "kernelspec": {
   "display_name": "Python 3",
   "language": "python",
   "name": "python3"
  },
  "language_info": {
   "codemirror_mode": {
    "name": "ipython",
    "version": 3
   },
   "file_extension": ".py",
   "mimetype": "text/x-python",
   "name": "python",
   "nbconvert_exporter": "python",
   "pygments_lexer": "ipython3",
   "version": "3.7.3"
  }
 },
 "nbformat": 4,
 "nbformat_minor": 4
}
